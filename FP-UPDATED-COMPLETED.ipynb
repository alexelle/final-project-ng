{
 "cells": [
  {
   "cell_type": "markdown",
   "metadata": {},
   "source": [
    "With the emergence of Machine Learning and AI, we’re now able to utilize these tools and make predictions using big data at a level that we could have never previously imagined. However, despite all these tools that are available at our disposal, it is still important on how we apply the data in a business context, and how we make the most out of it.\n",
    "\n",
    "For retailers, more specifically book retailers, we can work with big data using consumer reviews from books that were purchased, and then use those ratings to make recommendations, for similar books that interests our consumers, with the goal of recurring businesses and improved sales.\n",
    "\n",
    "The dataset that we are using is from “GoodReads,” which is a website that allows users to freely search their database for books and book reviews. For this project, we will be using content-based model."
   ]
  },
  {
   "cell_type": "code",
   "execution_count": 1,
   "metadata": {},
   "outputs": [],
   "source": [
    "import pandas as pd\n",
    "import numpy as np\n",
    "import seaborn as sns\n",
    "from matplotlib import pyplot as plt\n",
    "import datetime\n",
    "from scipy import stats\n",
    "\n",
    "import warnings\n",
    "warnings.filterwarnings('ignore')"
   ]
  },
  {
   "cell_type": "code",
   "execution_count": 2,
   "metadata": {},
   "outputs": [
    {
     "data": {
      "text/html": [
       "<div>\n",
       "<style scoped>\n",
       "    .dataframe tbody tr th:only-of-type {\n",
       "        vertical-align: middle;\n",
       "    }\n",
       "\n",
       "    .dataframe tbody tr th {\n",
       "        vertical-align: top;\n",
       "    }\n",
       "\n",
       "    .dataframe thead th {\n",
       "        text-align: right;\n",
       "    }\n",
       "</style>\n",
       "<table border=\"1\" class=\"dataframe\">\n",
       "  <thead>\n",
       "    <tr style=\"text-align: right;\">\n",
       "      <th></th>\n",
       "      <th>book_id</th>\n",
       "      <th>goodreads_book_id</th>\n",
       "      <th>best_book_id</th>\n",
       "      <th>work_id</th>\n",
       "      <th>books_count</th>\n",
       "      <th>isbn</th>\n",
       "      <th>isbn13</th>\n",
       "      <th>authors</th>\n",
       "      <th>original_publication_year</th>\n",
       "      <th>original_title</th>\n",
       "      <th>...</th>\n",
       "      <th>ratings_count</th>\n",
       "      <th>work_ratings_count</th>\n",
       "      <th>work_text_reviews_count</th>\n",
       "      <th>ratings_1</th>\n",
       "      <th>ratings_2</th>\n",
       "      <th>ratings_3</th>\n",
       "      <th>ratings_4</th>\n",
       "      <th>ratings_5</th>\n",
       "      <th>image_url</th>\n",
       "      <th>small_image_url</th>\n",
       "    </tr>\n",
       "  </thead>\n",
       "  <tbody>\n",
       "    <tr>\n",
       "      <th>0</th>\n",
       "      <td>1</td>\n",
       "      <td>2767052</td>\n",
       "      <td>2767052</td>\n",
       "      <td>2792775</td>\n",
       "      <td>272</td>\n",
       "      <td>439023483</td>\n",
       "      <td>9.780439e+12</td>\n",
       "      <td>Suzanne Collins</td>\n",
       "      <td>2008.0</td>\n",
       "      <td>The Hunger Games</td>\n",
       "      <td>...</td>\n",
       "      <td>4780653</td>\n",
       "      <td>4942365</td>\n",
       "      <td>155254</td>\n",
       "      <td>66715</td>\n",
       "      <td>127936</td>\n",
       "      <td>560092</td>\n",
       "      <td>1481305</td>\n",
       "      <td>2706317</td>\n",
       "      <td>https://images.gr-assets.com/books/1447303603m...</td>\n",
       "      <td>https://images.gr-assets.com/books/1447303603s...</td>\n",
       "    </tr>\n",
       "    <tr>\n",
       "      <th>1</th>\n",
       "      <td>2</td>\n",
       "      <td>3</td>\n",
       "      <td>3</td>\n",
       "      <td>4640799</td>\n",
       "      <td>491</td>\n",
       "      <td>439554934</td>\n",
       "      <td>9.780440e+12</td>\n",
       "      <td>J.K. Rowling, Mary GrandPré</td>\n",
       "      <td>1997.0</td>\n",
       "      <td>Harry Potter and the Philosopher's Stone</td>\n",
       "      <td>...</td>\n",
       "      <td>4602479</td>\n",
       "      <td>4800065</td>\n",
       "      <td>75867</td>\n",
       "      <td>75504</td>\n",
       "      <td>101676</td>\n",
       "      <td>455024</td>\n",
       "      <td>1156318</td>\n",
       "      <td>3011543</td>\n",
       "      <td>https://images.gr-assets.com/books/1474154022m...</td>\n",
       "      <td>https://images.gr-assets.com/books/1474154022s...</td>\n",
       "    </tr>\n",
       "    <tr>\n",
       "      <th>2</th>\n",
       "      <td>3</td>\n",
       "      <td>41865</td>\n",
       "      <td>41865</td>\n",
       "      <td>3212258</td>\n",
       "      <td>226</td>\n",
       "      <td>316015849</td>\n",
       "      <td>9.780316e+12</td>\n",
       "      <td>Stephenie Meyer</td>\n",
       "      <td>2005.0</td>\n",
       "      <td>Twilight</td>\n",
       "      <td>...</td>\n",
       "      <td>3866839</td>\n",
       "      <td>3916824</td>\n",
       "      <td>95009</td>\n",
       "      <td>456191</td>\n",
       "      <td>436802</td>\n",
       "      <td>793319</td>\n",
       "      <td>875073</td>\n",
       "      <td>1355439</td>\n",
       "      <td>https://images.gr-assets.com/books/1361039443m...</td>\n",
       "      <td>https://images.gr-assets.com/books/1361039443s...</td>\n",
       "    </tr>\n",
       "    <tr>\n",
       "      <th>3</th>\n",
       "      <td>4</td>\n",
       "      <td>2657</td>\n",
       "      <td>2657</td>\n",
       "      <td>3275794</td>\n",
       "      <td>487</td>\n",
       "      <td>61120081</td>\n",
       "      <td>9.780061e+12</td>\n",
       "      <td>Harper Lee</td>\n",
       "      <td>1960.0</td>\n",
       "      <td>To Kill a Mockingbird</td>\n",
       "      <td>...</td>\n",
       "      <td>3198671</td>\n",
       "      <td>3340896</td>\n",
       "      <td>72586</td>\n",
       "      <td>60427</td>\n",
       "      <td>117415</td>\n",
       "      <td>446835</td>\n",
       "      <td>1001952</td>\n",
       "      <td>1714267</td>\n",
       "      <td>https://images.gr-assets.com/books/1361975680m...</td>\n",
       "      <td>https://images.gr-assets.com/books/1361975680s...</td>\n",
       "    </tr>\n",
       "    <tr>\n",
       "      <th>4</th>\n",
       "      <td>5</td>\n",
       "      <td>4671</td>\n",
       "      <td>4671</td>\n",
       "      <td>245494</td>\n",
       "      <td>1356</td>\n",
       "      <td>743273567</td>\n",
       "      <td>9.780743e+12</td>\n",
       "      <td>F. Scott Fitzgerald</td>\n",
       "      <td>1925.0</td>\n",
       "      <td>The Great Gatsby</td>\n",
       "      <td>...</td>\n",
       "      <td>2683664</td>\n",
       "      <td>2773745</td>\n",
       "      <td>51992</td>\n",
       "      <td>86236</td>\n",
       "      <td>197621</td>\n",
       "      <td>606158</td>\n",
       "      <td>936012</td>\n",
       "      <td>947718</td>\n",
       "      <td>https://images.gr-assets.com/books/1490528560m...</td>\n",
       "      <td>https://images.gr-assets.com/books/1490528560s...</td>\n",
       "    </tr>\n",
       "  </tbody>\n",
       "</table>\n",
       "<p>5 rows × 23 columns</p>\n",
       "</div>"
      ],
      "text/plain": [
       "   book_id  goodreads_book_id  best_book_id  work_id  books_count       isbn  \\\n",
       "0        1            2767052       2767052  2792775          272  439023483   \n",
       "1        2                  3             3  4640799          491  439554934   \n",
       "2        3              41865         41865  3212258          226  316015849   \n",
       "3        4               2657          2657  3275794          487   61120081   \n",
       "4        5               4671          4671   245494         1356  743273567   \n",
       "\n",
       "         isbn13                      authors  original_publication_year  \\\n",
       "0  9.780439e+12              Suzanne Collins                     2008.0   \n",
       "1  9.780440e+12  J.K. Rowling, Mary GrandPré                     1997.0   \n",
       "2  9.780316e+12              Stephenie Meyer                     2005.0   \n",
       "3  9.780061e+12                   Harper Lee                     1960.0   \n",
       "4  9.780743e+12          F. Scott Fitzgerald                     1925.0   \n",
       "\n",
       "                             original_title  ... ratings_count  \\\n",
       "0                          The Hunger Games  ...       4780653   \n",
       "1  Harry Potter and the Philosopher's Stone  ...       4602479   \n",
       "2                                  Twilight  ...       3866839   \n",
       "3                     To Kill a Mockingbird  ...       3198671   \n",
       "4                          The Great Gatsby  ...       2683664   \n",
       "\n",
       "  work_ratings_count  work_text_reviews_count  ratings_1  ratings_2  \\\n",
       "0            4942365                   155254      66715     127936   \n",
       "1            4800065                    75867      75504     101676   \n",
       "2            3916824                    95009     456191     436802   \n",
       "3            3340896                    72586      60427     117415   \n",
       "4            2773745                    51992      86236     197621   \n",
       "\n",
       "   ratings_3  ratings_4  ratings_5  \\\n",
       "0     560092    1481305    2706317   \n",
       "1     455024    1156318    3011543   \n",
       "2     793319     875073    1355439   \n",
       "3     446835    1001952    1714267   \n",
       "4     606158     936012     947718   \n",
       "\n",
       "                                           image_url  \\\n",
       "0  https://images.gr-assets.com/books/1447303603m...   \n",
       "1  https://images.gr-assets.com/books/1474154022m...   \n",
       "2  https://images.gr-assets.com/books/1361039443m...   \n",
       "3  https://images.gr-assets.com/books/1361975680m...   \n",
       "4  https://images.gr-assets.com/books/1490528560m...   \n",
       "\n",
       "                                     small_image_url  \n",
       "0  https://images.gr-assets.com/books/1447303603s...  \n",
       "1  https://images.gr-assets.com/books/1474154022s...  \n",
       "2  https://images.gr-assets.com/books/1361039443s...  \n",
       "3  https://images.gr-assets.com/books/1361975680s...  \n",
       "4  https://images.gr-assets.com/books/1490528560s...  \n",
       "\n",
       "[5 rows x 23 columns]"
      ]
     },
     "execution_count": 2,
     "metadata": {},
     "output_type": "execute_result"
    }
   ],
   "source": [
    "books = pd.read_csv('books.csv')\n",
    "books.head()"
   ]
  },
  {
   "cell_type": "code",
   "execution_count": 3,
   "metadata": {},
   "outputs": [
    {
     "data": {
      "text/html": [
       "<div>\n",
       "<style scoped>\n",
       "    .dataframe tbody tr th:only-of-type {\n",
       "        vertical-align: middle;\n",
       "    }\n",
       "\n",
       "    .dataframe tbody tr th {\n",
       "        vertical-align: top;\n",
       "    }\n",
       "\n",
       "    .dataframe thead th {\n",
       "        text-align: right;\n",
       "    }\n",
       "</style>\n",
       "<table border=\"1\" class=\"dataframe\">\n",
       "  <thead>\n",
       "    <tr style=\"text-align: right;\">\n",
       "      <th></th>\n",
       "      <th>user_id</th>\n",
       "      <th>book_id</th>\n",
       "      <th>rating</th>\n",
       "    </tr>\n",
       "  </thead>\n",
       "  <tbody>\n",
       "    <tr>\n",
       "      <th>0</th>\n",
       "      <td>1</td>\n",
       "      <td>258</td>\n",
       "      <td>5</td>\n",
       "    </tr>\n",
       "    <tr>\n",
       "      <th>1</th>\n",
       "      <td>2</td>\n",
       "      <td>4081</td>\n",
       "      <td>4</td>\n",
       "    </tr>\n",
       "    <tr>\n",
       "      <th>2</th>\n",
       "      <td>2</td>\n",
       "      <td>260</td>\n",
       "      <td>5</td>\n",
       "    </tr>\n",
       "    <tr>\n",
       "      <th>3</th>\n",
       "      <td>2</td>\n",
       "      <td>9296</td>\n",
       "      <td>5</td>\n",
       "    </tr>\n",
       "    <tr>\n",
       "      <th>4</th>\n",
       "      <td>2</td>\n",
       "      <td>2318</td>\n",
       "      <td>3</td>\n",
       "    </tr>\n",
       "  </tbody>\n",
       "</table>\n",
       "</div>"
      ],
      "text/plain": [
       "   user_id  book_id  rating\n",
       "0        1      258       5\n",
       "1        2     4081       4\n",
       "2        2      260       5\n",
       "3        2     9296       5\n",
       "4        2     2318       3"
      ]
     },
     "execution_count": 3,
     "metadata": {},
     "output_type": "execute_result"
    }
   ],
   "source": [
    "ratings = pd.read_csv('ratings.csv')\n",
    "ratings.head()"
   ]
  },
  {
   "cell_type": "code",
   "execution_count": 4,
   "metadata": {},
   "outputs": [
    {
     "data": {
      "text/html": [
       "<div>\n",
       "<style scoped>\n",
       "    .dataframe tbody tr th:only-of-type {\n",
       "        vertical-align: middle;\n",
       "    }\n",
       "\n",
       "    .dataframe tbody tr th {\n",
       "        vertical-align: top;\n",
       "    }\n",
       "\n",
       "    .dataframe thead th {\n",
       "        text-align: right;\n",
       "    }\n",
       "</style>\n",
       "<table border=\"1\" class=\"dataframe\">\n",
       "  <thead>\n",
       "    <tr style=\"text-align: right;\">\n",
       "      <th></th>\n",
       "      <th>goodreads_book_id</th>\n",
       "      <th>tag_id</th>\n",
       "      <th>count</th>\n",
       "    </tr>\n",
       "  </thead>\n",
       "  <tbody>\n",
       "    <tr>\n",
       "      <th>0</th>\n",
       "      <td>1</td>\n",
       "      <td>30574</td>\n",
       "      <td>167697</td>\n",
       "    </tr>\n",
       "    <tr>\n",
       "      <th>1</th>\n",
       "      <td>1</td>\n",
       "      <td>11305</td>\n",
       "      <td>37174</td>\n",
       "    </tr>\n",
       "    <tr>\n",
       "      <th>2</th>\n",
       "      <td>1</td>\n",
       "      <td>11557</td>\n",
       "      <td>34173</td>\n",
       "    </tr>\n",
       "    <tr>\n",
       "      <th>3</th>\n",
       "      <td>1</td>\n",
       "      <td>8717</td>\n",
       "      <td>12986</td>\n",
       "    </tr>\n",
       "    <tr>\n",
       "      <th>4</th>\n",
       "      <td>1</td>\n",
       "      <td>33114</td>\n",
       "      <td>12716</td>\n",
       "    </tr>\n",
       "  </tbody>\n",
       "</table>\n",
       "</div>"
      ],
      "text/plain": [
       "   goodreads_book_id  tag_id   count\n",
       "0                  1   30574  167697\n",
       "1                  1   11305   37174\n",
       "2                  1   11557   34173\n",
       "3                  1    8717   12986\n",
       "4                  1   33114   12716"
      ]
     },
     "execution_count": 4,
     "metadata": {},
     "output_type": "execute_result"
    }
   ],
   "source": [
    "book_tags = pd.read_csv('book_tags.csv')\n",
    "book_tags.head()"
   ]
  },
  {
   "cell_type": "code",
   "execution_count": 5,
   "metadata": {},
   "outputs": [
    {
     "data": {
      "text/html": [
       "<div>\n",
       "<style scoped>\n",
       "    .dataframe tbody tr th:only-of-type {\n",
       "        vertical-align: middle;\n",
       "    }\n",
       "\n",
       "    .dataframe tbody tr th {\n",
       "        vertical-align: top;\n",
       "    }\n",
       "\n",
       "    .dataframe thead th {\n",
       "        text-align: right;\n",
       "    }\n",
       "</style>\n",
       "<table border=\"1\" class=\"dataframe\">\n",
       "  <thead>\n",
       "    <tr style=\"text-align: right;\">\n",
       "      <th></th>\n",
       "      <th>tag_id</th>\n",
       "      <th>tag_name</th>\n",
       "    </tr>\n",
       "  </thead>\n",
       "  <tbody>\n",
       "    <tr>\n",
       "      <th>0</th>\n",
       "      <td>0</td>\n",
       "      <td>-</td>\n",
       "    </tr>\n",
       "    <tr>\n",
       "      <th>1</th>\n",
       "      <td>1</td>\n",
       "      <td>--1-</td>\n",
       "    </tr>\n",
       "    <tr>\n",
       "      <th>2</th>\n",
       "      <td>2</td>\n",
       "      <td>--10-</td>\n",
       "    </tr>\n",
       "    <tr>\n",
       "      <th>3</th>\n",
       "      <td>3</td>\n",
       "      <td>--12-</td>\n",
       "    </tr>\n",
       "    <tr>\n",
       "      <th>4</th>\n",
       "      <td>4</td>\n",
       "      <td>--122-</td>\n",
       "    </tr>\n",
       "  </tbody>\n",
       "</table>\n",
       "</div>"
      ],
      "text/plain": [
       "   tag_id tag_name\n",
       "0       0        -\n",
       "1       1     --1-\n",
       "2       2    --10-\n",
       "3       3    --12-\n",
       "4       4   --122-"
      ]
     },
     "execution_count": 5,
     "metadata": {},
     "output_type": "execute_result"
    }
   ],
   "source": [
    "tags = pd.read_csv('tags.csv')\n",
    "tags.head()"
   ]
  },
  {
   "cell_type": "markdown",
   "metadata": {},
   "source": [
    "Datasets details:\n",
    "- ratings.csv: contains ratings and looks like that:\n",
    "- toread.csv: provides IDs of the books marked \"to read\" by each user, as userid,book_id pairs.\n",
    "- books.csv: has metadata for each book (goodreads IDs, authors, title, average rating, etc.).\n",
    "- book_tags.csv: contains tags/shelves/genres assigned by users to books. Tags in this file are represented by their IDs.\n",
    "- tags.csv: contains the tag_names corresponding to the tag_ids.\n",
    "\n",
    "As the name suggests ratings.csv contains all users’s ratings of the books (a total of 980k ratings, for 10,000 books, from 53,424 users)."
   ]
  },
  {
   "cell_type": "markdown",
   "metadata": {},
   "source": [
    "## Books"
   ]
  },
  {
   "cell_type": "code",
   "execution_count": 6,
   "metadata": {},
   "outputs": [
    {
     "data": {
      "text/plain": [
       "(10000, 23)"
      ]
     },
     "execution_count": 6,
     "metadata": {},
     "output_type": "execute_result"
    }
   ],
   "source": [
    "books.shape"
   ]
  },
  {
   "cell_type": "code",
   "execution_count": 7,
   "metadata": {},
   "outputs": [
    {
     "data": {
      "text/html": [
       "<div>\n",
       "<style scoped>\n",
       "    .dataframe tbody tr th:only-of-type {\n",
       "        vertical-align: middle;\n",
       "    }\n",
       "\n",
       "    .dataframe tbody tr th {\n",
       "        vertical-align: top;\n",
       "    }\n",
       "\n",
       "    .dataframe thead th {\n",
       "        text-align: right;\n",
       "    }\n",
       "</style>\n",
       "<table border=\"1\" class=\"dataframe\">\n",
       "  <thead>\n",
       "    <tr style=\"text-align: right;\">\n",
       "      <th></th>\n",
       "      <th>book_id</th>\n",
       "      <th>goodreads_book_id</th>\n",
       "      <th>best_book_id</th>\n",
       "      <th>work_id</th>\n",
       "      <th>books_count</th>\n",
       "      <th>isbn13</th>\n",
       "      <th>original_publication_year</th>\n",
       "      <th>average_rating</th>\n",
       "      <th>ratings_count</th>\n",
       "      <th>work_ratings_count</th>\n",
       "      <th>work_text_reviews_count</th>\n",
       "      <th>ratings_1</th>\n",
       "      <th>ratings_2</th>\n",
       "      <th>ratings_3</th>\n",
       "      <th>ratings_4</th>\n",
       "      <th>ratings_5</th>\n",
       "    </tr>\n",
       "  </thead>\n",
       "  <tbody>\n",
       "    <tr>\n",
       "      <th>count</th>\n",
       "      <td>10000.00000</td>\n",
       "      <td>1.000000e+04</td>\n",
       "      <td>1.000000e+04</td>\n",
       "      <td>1.000000e+04</td>\n",
       "      <td>10000.000000</td>\n",
       "      <td>9.415000e+03</td>\n",
       "      <td>9979.000000</td>\n",
       "      <td>10000.000000</td>\n",
       "      <td>1.000000e+04</td>\n",
       "      <td>1.000000e+04</td>\n",
       "      <td>10000.000000</td>\n",
       "      <td>10000.000000</td>\n",
       "      <td>10000.000000</td>\n",
       "      <td>10000.000000</td>\n",
       "      <td>1.000000e+04</td>\n",
       "      <td>1.000000e+04</td>\n",
       "    </tr>\n",
       "    <tr>\n",
       "      <th>mean</th>\n",
       "      <td>5000.50000</td>\n",
       "      <td>5.264697e+06</td>\n",
       "      <td>5.471214e+06</td>\n",
       "      <td>8.646183e+06</td>\n",
       "      <td>75.712700</td>\n",
       "      <td>9.755044e+12</td>\n",
       "      <td>1981.987674</td>\n",
       "      <td>4.002191</td>\n",
       "      <td>5.400124e+04</td>\n",
       "      <td>5.968732e+04</td>\n",
       "      <td>2919.955300</td>\n",
       "      <td>1345.040600</td>\n",
       "      <td>3110.885000</td>\n",
       "      <td>11475.893800</td>\n",
       "      <td>1.996570e+04</td>\n",
       "      <td>2.378981e+04</td>\n",
       "    </tr>\n",
       "    <tr>\n",
       "      <th>std</th>\n",
       "      <td>2886.89568</td>\n",
       "      <td>7.575462e+06</td>\n",
       "      <td>7.827330e+06</td>\n",
       "      <td>1.175106e+07</td>\n",
       "      <td>170.470728</td>\n",
       "      <td>4.428619e+11</td>\n",
       "      <td>152.576665</td>\n",
       "      <td>0.254427</td>\n",
       "      <td>1.573700e+05</td>\n",
       "      <td>1.678038e+05</td>\n",
       "      <td>6124.378132</td>\n",
       "      <td>6635.626263</td>\n",
       "      <td>9717.123578</td>\n",
       "      <td>28546.449183</td>\n",
       "      <td>5.144736e+04</td>\n",
       "      <td>7.976889e+04</td>\n",
       "    </tr>\n",
       "    <tr>\n",
       "      <th>min</th>\n",
       "      <td>1.00000</td>\n",
       "      <td>1.000000e+00</td>\n",
       "      <td>1.000000e+00</td>\n",
       "      <td>8.700000e+01</td>\n",
       "      <td>1.000000</td>\n",
       "      <td>1.951703e+08</td>\n",
       "      <td>-1750.000000</td>\n",
       "      <td>2.470000</td>\n",
       "      <td>2.716000e+03</td>\n",
       "      <td>5.510000e+03</td>\n",
       "      <td>3.000000</td>\n",
       "      <td>11.000000</td>\n",
       "      <td>30.000000</td>\n",
       "      <td>323.000000</td>\n",
       "      <td>7.500000e+02</td>\n",
       "      <td>7.540000e+02</td>\n",
       "    </tr>\n",
       "    <tr>\n",
       "      <th>25%</th>\n",
       "      <td>2500.75000</td>\n",
       "      <td>4.627575e+04</td>\n",
       "      <td>4.791175e+04</td>\n",
       "      <td>1.008841e+06</td>\n",
       "      <td>23.000000</td>\n",
       "      <td>9.780316e+12</td>\n",
       "      <td>1990.000000</td>\n",
       "      <td>3.850000</td>\n",
       "      <td>1.356875e+04</td>\n",
       "      <td>1.543875e+04</td>\n",
       "      <td>694.000000</td>\n",
       "      <td>196.000000</td>\n",
       "      <td>656.000000</td>\n",
       "      <td>3112.000000</td>\n",
       "      <td>5.405750e+03</td>\n",
       "      <td>5.334000e+03</td>\n",
       "    </tr>\n",
       "    <tr>\n",
       "      <th>50%</th>\n",
       "      <td>5000.50000</td>\n",
       "      <td>3.949655e+05</td>\n",
       "      <td>4.251235e+05</td>\n",
       "      <td>2.719524e+06</td>\n",
       "      <td>40.000000</td>\n",
       "      <td>9.780452e+12</td>\n",
       "      <td>2004.000000</td>\n",
       "      <td>4.020000</td>\n",
       "      <td>2.115550e+04</td>\n",
       "      <td>2.383250e+04</td>\n",
       "      <td>1402.000000</td>\n",
       "      <td>391.000000</td>\n",
       "      <td>1163.000000</td>\n",
       "      <td>4894.000000</td>\n",
       "      <td>8.269500e+03</td>\n",
       "      <td>8.836000e+03</td>\n",
       "    </tr>\n",
       "    <tr>\n",
       "      <th>75%</th>\n",
       "      <td>7500.25000</td>\n",
       "      <td>9.382225e+06</td>\n",
       "      <td>9.636112e+06</td>\n",
       "      <td>1.451775e+07</td>\n",
       "      <td>67.000000</td>\n",
       "      <td>9.780831e+12</td>\n",
       "      <td>2011.000000</td>\n",
       "      <td>4.180000</td>\n",
       "      <td>4.105350e+04</td>\n",
       "      <td>4.591500e+04</td>\n",
       "      <td>2744.250000</td>\n",
       "      <td>885.000000</td>\n",
       "      <td>2353.250000</td>\n",
       "      <td>9287.000000</td>\n",
       "      <td>1.602350e+04</td>\n",
       "      <td>1.730450e+04</td>\n",
       "    </tr>\n",
       "    <tr>\n",
       "      <th>max</th>\n",
       "      <td>10000.00000</td>\n",
       "      <td>3.328864e+07</td>\n",
       "      <td>3.553423e+07</td>\n",
       "      <td>5.639960e+07</td>\n",
       "      <td>3455.000000</td>\n",
       "      <td>9.790008e+12</td>\n",
       "      <td>2017.000000</td>\n",
       "      <td>4.820000</td>\n",
       "      <td>4.780653e+06</td>\n",
       "      <td>4.942365e+06</td>\n",
       "      <td>155254.000000</td>\n",
       "      <td>456191.000000</td>\n",
       "      <td>436802.000000</td>\n",
       "      <td>793319.000000</td>\n",
       "      <td>1.481305e+06</td>\n",
       "      <td>3.011543e+06</td>\n",
       "    </tr>\n",
       "  </tbody>\n",
       "</table>\n",
       "</div>"
      ],
      "text/plain": [
       "           book_id  goodreads_book_id  best_book_id       work_id  \\\n",
       "count  10000.00000       1.000000e+04  1.000000e+04  1.000000e+04   \n",
       "mean    5000.50000       5.264697e+06  5.471214e+06  8.646183e+06   \n",
       "std     2886.89568       7.575462e+06  7.827330e+06  1.175106e+07   \n",
       "min        1.00000       1.000000e+00  1.000000e+00  8.700000e+01   \n",
       "25%     2500.75000       4.627575e+04  4.791175e+04  1.008841e+06   \n",
       "50%     5000.50000       3.949655e+05  4.251235e+05  2.719524e+06   \n",
       "75%     7500.25000       9.382225e+06  9.636112e+06  1.451775e+07   \n",
       "max    10000.00000       3.328864e+07  3.553423e+07  5.639960e+07   \n",
       "\n",
       "        books_count        isbn13  original_publication_year  average_rating  \\\n",
       "count  10000.000000  9.415000e+03                9979.000000    10000.000000   \n",
       "mean      75.712700  9.755044e+12                1981.987674        4.002191   \n",
       "std      170.470728  4.428619e+11                 152.576665        0.254427   \n",
       "min        1.000000  1.951703e+08               -1750.000000        2.470000   \n",
       "25%       23.000000  9.780316e+12                1990.000000        3.850000   \n",
       "50%       40.000000  9.780452e+12                2004.000000        4.020000   \n",
       "75%       67.000000  9.780831e+12                2011.000000        4.180000   \n",
       "max     3455.000000  9.790008e+12                2017.000000        4.820000   \n",
       "\n",
       "       ratings_count  work_ratings_count  work_text_reviews_count  \\\n",
       "count   1.000000e+04        1.000000e+04             10000.000000   \n",
       "mean    5.400124e+04        5.968732e+04              2919.955300   \n",
       "std     1.573700e+05        1.678038e+05              6124.378132   \n",
       "min     2.716000e+03        5.510000e+03                 3.000000   \n",
       "25%     1.356875e+04        1.543875e+04               694.000000   \n",
       "50%     2.115550e+04        2.383250e+04              1402.000000   \n",
       "75%     4.105350e+04        4.591500e+04              2744.250000   \n",
       "max     4.780653e+06        4.942365e+06            155254.000000   \n",
       "\n",
       "           ratings_1      ratings_2      ratings_3     ratings_4     ratings_5  \n",
       "count   10000.000000   10000.000000   10000.000000  1.000000e+04  1.000000e+04  \n",
       "mean     1345.040600    3110.885000   11475.893800  1.996570e+04  2.378981e+04  \n",
       "std      6635.626263    9717.123578   28546.449183  5.144736e+04  7.976889e+04  \n",
       "min        11.000000      30.000000     323.000000  7.500000e+02  7.540000e+02  \n",
       "25%       196.000000     656.000000    3112.000000  5.405750e+03  5.334000e+03  \n",
       "50%       391.000000    1163.000000    4894.000000  8.269500e+03  8.836000e+03  \n",
       "75%       885.000000    2353.250000    9287.000000  1.602350e+04  1.730450e+04  \n",
       "max    456191.000000  436802.000000  793319.000000  1.481305e+06  3.011543e+06  "
      ]
     },
     "execution_count": 7,
     "metadata": {},
     "output_type": "execute_result"
    }
   ],
   "source": [
    "books.describe()"
   ]
  },
  {
   "cell_type": "code",
   "execution_count": 8,
   "metadata": {},
   "outputs": [
    {
     "name": "stdout",
     "output_type": "stream",
     "text": [
      "<class 'pandas.core.frame.DataFrame'>\n",
      "RangeIndex: 10000 entries, 0 to 9999\n",
      "Data columns (total 23 columns):\n",
      " #   Column                     Non-Null Count  Dtype  \n",
      "---  ------                     --------------  -----  \n",
      " 0   book_id                    10000 non-null  int64  \n",
      " 1   goodreads_book_id          10000 non-null  int64  \n",
      " 2   best_book_id               10000 non-null  int64  \n",
      " 3   work_id                    10000 non-null  int64  \n",
      " 4   books_count                10000 non-null  int64  \n",
      " 5   isbn                       9300 non-null   object \n",
      " 6   isbn13                     9415 non-null   float64\n",
      " 7   authors                    10000 non-null  object \n",
      " 8   original_publication_year  9979 non-null   float64\n",
      " 9   original_title             9415 non-null   object \n",
      " 10  title                      10000 non-null  object \n",
      " 11  language_code              8916 non-null   object \n",
      " 12  average_rating             10000 non-null  float64\n",
      " 13  ratings_count              10000 non-null  int64  \n",
      " 14  work_ratings_count         10000 non-null  int64  \n",
      " 15  work_text_reviews_count    10000 non-null  int64  \n",
      " 16  ratings_1                  10000 non-null  int64  \n",
      " 17  ratings_2                  10000 non-null  int64  \n",
      " 18  ratings_3                  10000 non-null  int64  \n",
      " 19  ratings_4                  10000 non-null  int64  \n",
      " 20  ratings_5                  10000 non-null  int64  \n",
      " 21  image_url                  10000 non-null  object \n",
      " 22  small_image_url            10000 non-null  object \n",
      "dtypes: float64(3), int64(13), object(7)\n",
      "memory usage: 1.8+ MB\n"
     ]
    }
   ],
   "source": [
    "books.info()"
   ]
  },
  {
   "cell_type": "markdown",
   "metadata": {},
   "source": [
    "Features\n",
    "\n",
    "book_id: A unique Identification number for each book.\n",
    "\n",
    "best_book_id: generally point to the most popular edition of a given book.\n",
    "\n",
    "work_id: refers to the book in the abstract sense.\n",
    "\n",
    "books_count: number of editions.\n",
    "\n",
    "isbn: Another unique number to identify the book, the International Standard Book Number.\n",
    "\n",
    "isbn13: A 13-digit ISBN to identify the book, instead of the standard 11-digit ISBN.\n",
    "\n",
    "authors: Names of the authors of the book. Multiple authors are delimited with ,.\n",
    "\n",
    "original_publication_year: year when the book was first published.\n",
    "\n",
    "title: The name under which the book was published.\n",
    "\n",
    "language_code: Helps understand what is the primary language of the book. For instance, eng is standard for English.\n",
    "\n",
    "average_rating: The average rating of the book received in total.\n",
    "\n",
    "ratings_count: Total number of ratings the book received.\n",
    "\n",
    "work_text_reviews_count: Total number of written text reviews the book received.\n",
    "\n",
    "ratings_1: Total number of ratings of 1.\n",
    "\n",
    "ratings_2: Total number of ratings of 2.\n",
    "\n",
    "ratings_3: Total number of ratings of 3.\n",
    "\n",
    "ratings_4: Total number of ratings of 4.\n",
    "\n",
    "ratings_5: Total number of ratings of 5."
   ]
  },
  {
   "cell_type": "markdown",
   "metadata": {},
   "source": [
    "# Data Cleaning"
   ]
  },
  {
   "cell_type": "markdown",
   "metadata": {},
   "source": [
    "## Handle Missing Data"
   ]
  },
  {
   "cell_type": "code",
   "execution_count": 9,
   "metadata": {},
   "outputs": [
    {
     "data": {
      "text/plain": [
       "book_id                         0\n",
       "goodreads_book_id               0\n",
       "best_book_id                    0\n",
       "work_id                         0\n",
       "books_count                     0\n",
       "isbn                          700\n",
       "isbn13                        585\n",
       "authors                         0\n",
       "original_publication_year      21\n",
       "original_title                585\n",
       "title                           0\n",
       "language_code                1084\n",
       "average_rating                  0\n",
       "ratings_count                   0\n",
       "work_ratings_count              0\n",
       "work_text_reviews_count         0\n",
       "ratings_1                       0\n",
       "ratings_2                       0\n",
       "ratings_3                       0\n",
       "ratings_4                       0\n",
       "ratings_5                       0\n",
       "image_url                       0\n",
       "small_image_url                 0\n",
       "dtype: int64"
      ]
     },
     "execution_count": 9,
     "metadata": {},
     "output_type": "execute_result"
    }
   ],
   "source": [
    "books.isnull().sum()"
   ]
  },
  {
   "cell_type": "code",
   "execution_count": 10,
   "metadata": {},
   "outputs": [
    {
     "data": {
      "text/html": [
       "<div>\n",
       "<style scoped>\n",
       "    .dataframe tbody tr th:only-of-type {\n",
       "        vertical-align: middle;\n",
       "    }\n",
       "\n",
       "    .dataframe tbody tr th {\n",
       "        vertical-align: top;\n",
       "    }\n",
       "\n",
       "    .dataframe thead th {\n",
       "        text-align: right;\n",
       "    }\n",
       "</style>\n",
       "<table border=\"1\" class=\"dataframe\">\n",
       "  <thead>\n",
       "    <tr style=\"text-align: right;\">\n",
       "      <th></th>\n",
       "      <th>book_id</th>\n",
       "      <th>goodreads_book_id</th>\n",
       "      <th>best_book_id</th>\n",
       "      <th>work_id</th>\n",
       "      <th>books_count</th>\n",
       "      <th>isbn</th>\n",
       "      <th>isbn13</th>\n",
       "      <th>authors</th>\n",
       "      <th>original_publication_year</th>\n",
       "      <th>original_title</th>\n",
       "      <th>...</th>\n",
       "      <th>ratings_count</th>\n",
       "      <th>work_ratings_count</th>\n",
       "      <th>work_text_reviews_count</th>\n",
       "      <th>ratings_1</th>\n",
       "      <th>ratings_2</th>\n",
       "      <th>ratings_3</th>\n",
       "      <th>ratings_4</th>\n",
       "      <th>ratings_5</th>\n",
       "      <th>image_url</th>\n",
       "      <th>small_image_url</th>\n",
       "    </tr>\n",
       "  </thead>\n",
       "  <tbody>\n",
       "    <tr>\n",
       "      <th>0</th>\n",
       "      <td>1</td>\n",
       "      <td>2767052</td>\n",
       "      <td>2767052</td>\n",
       "      <td>2792775</td>\n",
       "      <td>272</td>\n",
       "      <td>439023483</td>\n",
       "      <td>9.780439e+12</td>\n",
       "      <td>Suzanne Collins</td>\n",
       "      <td>2008.0</td>\n",
       "      <td>The Hunger Games</td>\n",
       "      <td>...</td>\n",
       "      <td>4780653</td>\n",
       "      <td>4942365</td>\n",
       "      <td>155254</td>\n",
       "      <td>66715</td>\n",
       "      <td>127936</td>\n",
       "      <td>560092</td>\n",
       "      <td>1481305</td>\n",
       "      <td>2706317</td>\n",
       "      <td>https://images.gr-assets.com/books/1447303603m...</td>\n",
       "      <td>https://images.gr-assets.com/books/1447303603s...</td>\n",
       "    </tr>\n",
       "    <tr>\n",
       "      <th>1</th>\n",
       "      <td>2</td>\n",
       "      <td>3</td>\n",
       "      <td>3</td>\n",
       "      <td>4640799</td>\n",
       "      <td>491</td>\n",
       "      <td>439554934</td>\n",
       "      <td>9.780440e+12</td>\n",
       "      <td>J.K. Rowling, Mary GrandPré</td>\n",
       "      <td>1997.0</td>\n",
       "      <td>Harry Potter and the Philosopher's Stone</td>\n",
       "      <td>...</td>\n",
       "      <td>4602479</td>\n",
       "      <td>4800065</td>\n",
       "      <td>75867</td>\n",
       "      <td>75504</td>\n",
       "      <td>101676</td>\n",
       "      <td>455024</td>\n",
       "      <td>1156318</td>\n",
       "      <td>3011543</td>\n",
       "      <td>https://images.gr-assets.com/books/1474154022m...</td>\n",
       "      <td>https://images.gr-assets.com/books/1474154022s...</td>\n",
       "    </tr>\n",
       "    <tr>\n",
       "      <th>2</th>\n",
       "      <td>3</td>\n",
       "      <td>41865</td>\n",
       "      <td>41865</td>\n",
       "      <td>3212258</td>\n",
       "      <td>226</td>\n",
       "      <td>316015849</td>\n",
       "      <td>9.780316e+12</td>\n",
       "      <td>Stephenie Meyer</td>\n",
       "      <td>2005.0</td>\n",
       "      <td>Twilight</td>\n",
       "      <td>...</td>\n",
       "      <td>3866839</td>\n",
       "      <td>3916824</td>\n",
       "      <td>95009</td>\n",
       "      <td>456191</td>\n",
       "      <td>436802</td>\n",
       "      <td>793319</td>\n",
       "      <td>875073</td>\n",
       "      <td>1355439</td>\n",
       "      <td>https://images.gr-assets.com/books/1361039443m...</td>\n",
       "      <td>https://images.gr-assets.com/books/1361039443s...</td>\n",
       "    </tr>\n",
       "    <tr>\n",
       "      <th>3</th>\n",
       "      <td>4</td>\n",
       "      <td>2657</td>\n",
       "      <td>2657</td>\n",
       "      <td>3275794</td>\n",
       "      <td>487</td>\n",
       "      <td>61120081</td>\n",
       "      <td>9.780061e+12</td>\n",
       "      <td>Harper Lee</td>\n",
       "      <td>1960.0</td>\n",
       "      <td>To Kill a Mockingbird</td>\n",
       "      <td>...</td>\n",
       "      <td>3198671</td>\n",
       "      <td>3340896</td>\n",
       "      <td>72586</td>\n",
       "      <td>60427</td>\n",
       "      <td>117415</td>\n",
       "      <td>446835</td>\n",
       "      <td>1001952</td>\n",
       "      <td>1714267</td>\n",
       "      <td>https://images.gr-assets.com/books/1361975680m...</td>\n",
       "      <td>https://images.gr-assets.com/books/1361975680s...</td>\n",
       "    </tr>\n",
       "    <tr>\n",
       "      <th>4</th>\n",
       "      <td>5</td>\n",
       "      <td>4671</td>\n",
       "      <td>4671</td>\n",
       "      <td>245494</td>\n",
       "      <td>1356</td>\n",
       "      <td>743273567</td>\n",
       "      <td>9.780743e+12</td>\n",
       "      <td>F. Scott Fitzgerald</td>\n",
       "      <td>1925.0</td>\n",
       "      <td>The Great Gatsby</td>\n",
       "      <td>...</td>\n",
       "      <td>2683664</td>\n",
       "      <td>2773745</td>\n",
       "      <td>51992</td>\n",
       "      <td>86236</td>\n",
       "      <td>197621</td>\n",
       "      <td>606158</td>\n",
       "      <td>936012</td>\n",
       "      <td>947718</td>\n",
       "      <td>https://images.gr-assets.com/books/1490528560m...</td>\n",
       "      <td>https://images.gr-assets.com/books/1490528560s...</td>\n",
       "    </tr>\n",
       "  </tbody>\n",
       "</table>\n",
       "<p>5 rows × 23 columns</p>\n",
       "</div>"
      ],
      "text/plain": [
       "   book_id  goodreads_book_id  best_book_id  work_id  books_count       isbn  \\\n",
       "0        1            2767052       2767052  2792775          272  439023483   \n",
       "1        2                  3             3  4640799          491  439554934   \n",
       "2        3              41865         41865  3212258          226  316015849   \n",
       "3        4               2657          2657  3275794          487   61120081   \n",
       "4        5               4671          4671   245494         1356  743273567   \n",
       "\n",
       "         isbn13                      authors  original_publication_year  \\\n",
       "0  9.780439e+12              Suzanne Collins                     2008.0   \n",
       "1  9.780440e+12  J.K. Rowling, Mary GrandPré                     1997.0   \n",
       "2  9.780316e+12              Stephenie Meyer                     2005.0   \n",
       "3  9.780061e+12                   Harper Lee                     1960.0   \n",
       "4  9.780743e+12          F. Scott Fitzgerald                     1925.0   \n",
       "\n",
       "                             original_title  ... ratings_count  \\\n",
       "0                          The Hunger Games  ...       4780653   \n",
       "1  Harry Potter and the Philosopher's Stone  ...       4602479   \n",
       "2                                  Twilight  ...       3866839   \n",
       "3                     To Kill a Mockingbird  ...       3198671   \n",
       "4                          The Great Gatsby  ...       2683664   \n",
       "\n",
       "  work_ratings_count  work_text_reviews_count  ratings_1  ratings_2  \\\n",
       "0            4942365                   155254      66715     127936   \n",
       "1            4800065                    75867      75504     101676   \n",
       "2            3916824                    95009     456191     436802   \n",
       "3            3340896                    72586      60427     117415   \n",
       "4            2773745                    51992      86236     197621   \n",
       "\n",
       "   ratings_3  ratings_4  ratings_5  \\\n",
       "0     560092    1481305    2706317   \n",
       "1     455024    1156318    3011543   \n",
       "2     793319     875073    1355439   \n",
       "3     446835    1001952    1714267   \n",
       "4     606158     936012     947718   \n",
       "\n",
       "                                           image_url  \\\n",
       "0  https://images.gr-assets.com/books/1447303603m...   \n",
       "1  https://images.gr-assets.com/books/1474154022m...   \n",
       "2  https://images.gr-assets.com/books/1361039443m...   \n",
       "3  https://images.gr-assets.com/books/1361975680m...   \n",
       "4  https://images.gr-assets.com/books/1490528560m...   \n",
       "\n",
       "                                     small_image_url  \n",
       "0  https://images.gr-assets.com/books/1447303603s...  \n",
       "1  https://images.gr-assets.com/books/1474154022s...  \n",
       "2  https://images.gr-assets.com/books/1361039443s...  \n",
       "3  https://images.gr-assets.com/books/1361975680s...  \n",
       "4  https://images.gr-assets.com/books/1490528560s...  \n",
       "\n",
       "[5 rows x 23 columns]"
      ]
     },
     "execution_count": 10,
     "metadata": {},
     "output_type": "execute_result"
    }
   ],
   "source": [
    "books.dropna(inplace=True)\n",
    "books.head()"
   ]
  },
  {
   "cell_type": "code",
   "execution_count": 11,
   "metadata": {},
   "outputs": [
    {
     "data": {
      "text/plain": [
       "book_id                      0\n",
       "goodreads_book_id            0\n",
       "best_book_id                 0\n",
       "work_id                      0\n",
       "books_count                  0\n",
       "isbn                         0\n",
       "isbn13                       0\n",
       "authors                      0\n",
       "original_publication_year    0\n",
       "original_title               0\n",
       "title                        0\n",
       "language_code                0\n",
       "average_rating               0\n",
       "ratings_count                0\n",
       "work_ratings_count           0\n",
       "work_text_reviews_count      0\n",
       "ratings_1                    0\n",
       "ratings_2                    0\n",
       "ratings_3                    0\n",
       "ratings_4                    0\n",
       "ratings_5                    0\n",
       "image_url                    0\n",
       "small_image_url              0\n",
       "dtype: int64"
      ]
     },
     "execution_count": 11,
     "metadata": {},
     "output_type": "execute_result"
    }
   ],
   "source": [
    "books.isnull().sum()"
   ]
  },
  {
   "cell_type": "markdown",
   "metadata": {},
   "source": [
    "## Handle Duplicated Books"
   ]
  },
  {
   "cell_type": "code",
   "execution_count": 12,
   "metadata": {},
   "outputs": [
    {
     "data": {
      "text/html": [
       "<div>\n",
       "<style scoped>\n",
       "    .dataframe tbody tr th:only-of-type {\n",
       "        vertical-align: middle;\n",
       "    }\n",
       "\n",
       "    .dataframe tbody tr th {\n",
       "        vertical-align: top;\n",
       "    }\n",
       "\n",
       "    .dataframe thead th {\n",
       "        text-align: right;\n",
       "    }\n",
       "</style>\n",
       "<table border=\"1\" class=\"dataframe\">\n",
       "  <thead>\n",
       "    <tr style=\"text-align: right;\">\n",
       "      <th></th>\n",
       "      <th>book_id</th>\n",
       "      <th>goodreads_book_id</th>\n",
       "      <th>best_book_id</th>\n",
       "      <th>work_id</th>\n",
       "      <th>books_count</th>\n",
       "      <th>isbn</th>\n",
       "      <th>isbn13</th>\n",
       "      <th>authors</th>\n",
       "      <th>original_publication_year</th>\n",
       "      <th>original_title</th>\n",
       "      <th>...</th>\n",
       "      <th>ratings_count</th>\n",
       "      <th>work_ratings_count</th>\n",
       "      <th>work_text_reviews_count</th>\n",
       "      <th>ratings_1</th>\n",
       "      <th>ratings_2</th>\n",
       "      <th>ratings_3</th>\n",
       "      <th>ratings_4</th>\n",
       "      <th>ratings_5</th>\n",
       "      <th>image_url</th>\n",
       "      <th>small_image_url</th>\n",
       "    </tr>\n",
       "  </thead>\n",
       "  <tbody>\n",
       "    <tr>\n",
       "      <th>348</th>\n",
       "      <td>349</td>\n",
       "      <td>11590</td>\n",
       "      <td>11590</td>\n",
       "      <td>3048937</td>\n",
       "      <td>211</td>\n",
       "      <td>450031063</td>\n",
       "      <td>9.780450e+12</td>\n",
       "      <td>Stephen King</td>\n",
       "      <td>1975.0</td>\n",
       "      <td>Salem's Lot</td>\n",
       "      <td>...</td>\n",
       "      <td>228680</td>\n",
       "      <td>246360</td>\n",
       "      <td>6167</td>\n",
       "      <td>2713</td>\n",
       "      <td>11724</td>\n",
       "      <td>57171</td>\n",
       "      <td>89196</td>\n",
       "      <td>85556</td>\n",
       "      <td>https://images.gr-assets.com/books/1327891565m...</td>\n",
       "      <td>https://images.gr-assets.com/books/1327891565s...</td>\n",
       "    </tr>\n",
       "    <tr>\n",
       "      <th>1291</th>\n",
       "      <td>1292</td>\n",
       "      <td>5413</td>\n",
       "      <td>5413</td>\n",
       "      <td>40802405</td>\n",
       "      <td>22</td>\n",
       "      <td>385516487</td>\n",
       "      <td>9.780386e+12</td>\n",
       "      <td>Stephen King, Jerry N. Uelsmann</td>\n",
       "      <td>2005.0</td>\n",
       "      <td>'Salem's Lot The Illustrated Edition</td>\n",
       "      <td>...</td>\n",
       "      <td>72797</td>\n",
       "      <td>74725</td>\n",
       "      <td>482</td>\n",
       "      <td>460</td>\n",
       "      <td>1854</td>\n",
       "      <td>12040</td>\n",
       "      <td>24920</td>\n",
       "      <td>35451</td>\n",
       "      <td>https://images.gr-assets.com/books/1320478491m...</td>\n",
       "      <td>https://images.gr-assets.com/books/1320478491s...</td>\n",
       "    </tr>\n",
       "    <tr>\n",
       "      <th>6480</th>\n",
       "      <td>6481</td>\n",
       "      <td>384597</td>\n",
       "      <td>384597</td>\n",
       "      <td>1303332</td>\n",
       "      <td>24</td>\n",
       "      <td>571169341</td>\n",
       "      <td>9.780571e+12</td>\n",
       "      <td>Tom Stoppard</td>\n",
       "      <td>1993.0</td>\n",
       "      <td>Arcadia</td>\n",
       "      <td>...</td>\n",
       "      <td>15362</td>\n",
       "      <td>16149</td>\n",
       "      <td>749</td>\n",
       "      <td>291</td>\n",
       "      <td>713</td>\n",
       "      <td>2408</td>\n",
       "      <td>4948</td>\n",
       "      <td>7789</td>\n",
       "      <td>https://images.gr-assets.com/books/1463617930m...</td>\n",
       "      <td>https://images.gr-assets.com/books/1463617930s...</td>\n",
       "    </tr>\n",
       "    <tr>\n",
       "      <th>6104</th>\n",
       "      <td>6105</td>\n",
       "      <td>11866694</td>\n",
       "      <td>11866694</td>\n",
       "      <td>16823763</td>\n",
       "      <td>23</td>\n",
       "      <td>1401340873</td>\n",
       "      <td>9.781401e+12</td>\n",
       "      <td>Lauren Groff</td>\n",
       "      <td>2012.0</td>\n",
       "      <td>Arcadia</td>\n",
       "      <td>...</td>\n",
       "      <td>14622</td>\n",
       "      <td>16274</td>\n",
       "      <td>2444</td>\n",
       "      <td>471</td>\n",
       "      <td>1471</td>\n",
       "      <td>4757</td>\n",
       "      <td>6233</td>\n",
       "      <td>3342</td>\n",
       "      <td>https://s.gr-assets.com/assets/nophoto/book/11...</td>\n",
       "      <td>https://s.gr-assets.com/assets/nophoto/book/50...</td>\n",
       "    </tr>\n",
       "    <tr>\n",
       "      <th>578</th>\n",
       "      <td>579</td>\n",
       "      <td>197084</td>\n",
       "      <td>197084</td>\n",
       "      <td>1837885</td>\n",
       "      <td>44</td>\n",
       "      <td>1713221</td>\n",
       "      <td>9.780002e+12</td>\n",
       "      <td>P.D. Eastman</td>\n",
       "      <td>1960.0</td>\n",
       "      <td>Are You My Mother?</td>\n",
       "      <td>...</td>\n",
       "      <td>174204</td>\n",
       "      <td>177809</td>\n",
       "      <td>1864</td>\n",
       "      <td>3986</td>\n",
       "      <td>8065</td>\n",
       "      <td>31523</td>\n",
       "      <td>45916</td>\n",
       "      <td>88319</td>\n",
       "      <td>https://s.gr-assets.com/assets/nophoto/book/11...</td>\n",
       "      <td>https://s.gr-assets.com/assets/nophoto/book/50...</td>\n",
       "    </tr>\n",
       "    <tr>\n",
       "      <th>5786</th>\n",
       "      <td>5787</td>\n",
       "      <td>11566956</td>\n",
       "      <td>11566956</td>\n",
       "      <td>16507555</td>\n",
       "      <td>15</td>\n",
       "      <td>618982507</td>\n",
       "      <td>9.780619e+12</td>\n",
       "      <td>Alison Bechdel</td>\n",
       "      <td>2012.0</td>\n",
       "      <td>Are You My Mother?: A Comic Drama</td>\n",
       "      <td>...</td>\n",
       "      <td>18618</td>\n",
       "      <td>19688</td>\n",
       "      <td>2585</td>\n",
       "      <td>697</td>\n",
       "      <td>2193</td>\n",
       "      <td>5326</td>\n",
       "      <td>6382</td>\n",
       "      <td>5090</td>\n",
       "      <td>https://s.gr-assets.com/assets/nophoto/book/11...</td>\n",
       "      <td>https://s.gr-assets.com/assets/nophoto/book/50...</td>\n",
       "    </tr>\n",
       "    <tr>\n",
       "      <th>7448</th>\n",
       "      <td>7449</td>\n",
       "      <td>6345193</td>\n",
       "      <td>6345193</td>\n",
       "      <td>6448995</td>\n",
       "      <td>44</td>\n",
       "      <td>805090800</td>\n",
       "      <td>9.780805e+12</td>\n",
       "      <td>Paul Auster</td>\n",
       "      <td>2009.0</td>\n",
       "      <td>Invisible</td>\n",
       "      <td>...</td>\n",
       "      <td>11706</td>\n",
       "      <td>13897</td>\n",
       "      <td>1093</td>\n",
       "      <td>243</td>\n",
       "      <td>1002</td>\n",
       "      <td>3988</td>\n",
       "      <td>5957</td>\n",
       "      <td>2707</td>\n",
       "      <td>https://images.gr-assets.com/books/1317063578m...</td>\n",
       "      <td>https://images.gr-assets.com/books/1317063578s...</td>\n",
       "    </tr>\n",
       "    <tr>\n",
       "      <th>5556</th>\n",
       "      <td>5557</td>\n",
       "      <td>18656055</td>\n",
       "      <td>18656055</td>\n",
       "      <td>26470742</td>\n",
       "      <td>39</td>\n",
       "      <td>316405345</td>\n",
       "      <td>9.780316e+12</td>\n",
       "      <td>James Patterson, David Ellis</td>\n",
       "      <td>2014.0</td>\n",
       "      <td>Invisible</td>\n",
       "      <td>...</td>\n",
       "      <td>14518</td>\n",
       "      <td>18967</td>\n",
       "      <td>2006</td>\n",
       "      <td>268</td>\n",
       "      <td>705</td>\n",
       "      <td>3536</td>\n",
       "      <td>7704</td>\n",
       "      <td>6754</td>\n",
       "      <td>https://images.gr-assets.com/books/1403166141m...</td>\n",
       "      <td>https://images.gr-assets.com/books/1403166141s...</td>\n",
       "    </tr>\n",
       "    <tr>\n",
       "      <th>7461</th>\n",
       "      <td>7462</td>\n",
       "      <td>456</td>\n",
       "      <td>456</td>\n",
       "      <td>1128381</td>\n",
       "      <td>50</td>\n",
       "      <td>140178139</td>\n",
       "      <td>9.780140e+12</td>\n",
       "      <td>Paul Auster</td>\n",
       "      <td>1992.0</td>\n",
       "      <td>Leviathan</td>\n",
       "      <td>...</td>\n",
       "      <td>10002</td>\n",
       "      <td>11794</td>\n",
       "      <td>517</td>\n",
       "      <td>105</td>\n",
       "      <td>490</td>\n",
       "      <td>2684</td>\n",
       "      <td>5165</td>\n",
       "      <td>3350</td>\n",
       "      <td>https://s.gr-assets.com/assets/nophoto/book/11...</td>\n",
       "      <td>https://s.gr-assets.com/assets/nophoto/book/50...</td>\n",
       "    </tr>\n",
       "    <tr>\n",
       "      <th>3551</th>\n",
       "      <td>3552</td>\n",
       "      <td>91953</td>\n",
       "      <td>91953</td>\n",
       "      <td>680963</td>\n",
       "      <td>364</td>\n",
       "      <td>140431950</td>\n",
       "      <td>9.780140e+12</td>\n",
       "      <td>Thomas Hobbes, C.B. Macpherson</td>\n",
       "      <td>1651.0</td>\n",
       "      <td>Leviathan or The Matter, Forme and Power of a ...</td>\n",
       "      <td>...</td>\n",
       "      <td>26284</td>\n",
       "      <td>28699</td>\n",
       "      <td>505</td>\n",
       "      <td>850</td>\n",
       "      <td>2688</td>\n",
       "      <td>8639</td>\n",
       "      <td>9692</td>\n",
       "      <td>6830</td>\n",
       "      <td>https://images.gr-assets.com/books/1326788684m...</td>\n",
       "      <td>https://images.gr-assets.com/books/1326788684s...</td>\n",
       "    </tr>\n",
       "    <tr>\n",
       "      <th>2147</th>\n",
       "      <td>2148</td>\n",
       "      <td>44184</td>\n",
       "      <td>44184</td>\n",
       "      <td>1386643</td>\n",
       "      <td>39</td>\n",
       "      <td>64407314</td>\n",
       "      <td>9.780064e+12</td>\n",
       "      <td>Walter Dean Myers</td>\n",
       "      <td>1999.0</td>\n",
       "      <td>Monster</td>\n",
       "      <td>...</td>\n",
       "      <td>47533</td>\n",
       "      <td>48399</td>\n",
       "      <td>4394</td>\n",
       "      <td>1485</td>\n",
       "      <td>4418</td>\n",
       "      <td>13848</td>\n",
       "      <td>16267</td>\n",
       "      <td>12381</td>\n",
       "      <td>https://images.gr-assets.com/books/1404962824m...</td>\n",
       "      <td>https://images.gr-assets.com/books/1404962824s...</td>\n",
       "    </tr>\n",
       "    <tr>\n",
       "      <th>5479</th>\n",
       "      <td>5480</td>\n",
       "      <td>65684</td>\n",
       "      <td>65684</td>\n",
       "      <td>1416661</td>\n",
       "      <td>27</td>\n",
       "      <td>1595541217</td>\n",
       "      <td>9.781596e+12</td>\n",
       "      <td>Frank E. Peretti</td>\n",
       "      <td>2005.0</td>\n",
       "      <td>Monster</td>\n",
       "      <td>...</td>\n",
       "      <td>17583</td>\n",
       "      <td>18394</td>\n",
       "      <td>670</td>\n",
       "      <td>511</td>\n",
       "      <td>1606</td>\n",
       "      <td>4722</td>\n",
       "      <td>5733</td>\n",
       "      <td>5822</td>\n",
       "      <td>https://s.gr-assets.com/assets/nophoto/book/11...</td>\n",
       "      <td>https://s.gr-assets.com/assets/nophoto/book/50...</td>\n",
       "    </tr>\n",
       "    <tr>\n",
       "      <th>9149</th>\n",
       "      <td>9150</td>\n",
       "      <td>17192373</td>\n",
       "      <td>17192373</td>\n",
       "      <td>23645580</td>\n",
       "      <td>53</td>\n",
       "      <td>857520660</td>\n",
       "      <td>9.780858e+12</td>\n",
       "      <td>Rachel Joyce</td>\n",
       "      <td>2013.0</td>\n",
       "      <td>Perfect</td>\n",
       "      <td>...</td>\n",
       "      <td>8152</td>\n",
       "      <td>10972</td>\n",
       "      <td>1745</td>\n",
       "      <td>352</td>\n",
       "      <td>1197</td>\n",
       "      <td>3535</td>\n",
       "      <td>3976</td>\n",
       "      <td>1912</td>\n",
       "      <td>https://images.gr-assets.com/books/1367838351m...</td>\n",
       "      <td>https://images.gr-assets.com/books/1367838351s...</td>\n",
       "    </tr>\n",
       "    <tr>\n",
       "      <th>9812</th>\n",
       "      <td>9813</td>\n",
       "      <td>97408</td>\n",
       "      <td>97408</td>\n",
       "      <td>93897</td>\n",
       "      <td>12</td>\n",
       "      <td>1571316515</td>\n",
       "      <td>9.781571e+12</td>\n",
       "      <td>Natasha Friend</td>\n",
       "      <td>2004.0</td>\n",
       "      <td>Perfect</td>\n",
       "      <td>...</td>\n",
       "      <td>11497</td>\n",
       "      <td>11648</td>\n",
       "      <td>1106</td>\n",
       "      <td>232</td>\n",
       "      <td>961</td>\n",
       "      <td>3362</td>\n",
       "      <td>3746</td>\n",
       "      <td>3347</td>\n",
       "      <td>https://images.gr-assets.com/books/1328750860m...</td>\n",
       "      <td>https://images.gr-assets.com/books/1328750860s...</td>\n",
       "    </tr>\n",
       "    <tr>\n",
       "      <th>7022</th>\n",
       "      <td>7023</td>\n",
       "      <td>381489</td>\n",
       "      <td>381489</td>\n",
       "      <td>2764</td>\n",
       "      <td>25</td>\n",
       "      <td>1416918736</td>\n",
       "      <td>9.781417e+12</td>\n",
       "      <td>Kate Brian</td>\n",
       "      <td>2006.0</td>\n",
       "      <td>Private</td>\n",
       "      <td>...</td>\n",
       "      <td>16556</td>\n",
       "      <td>17054</td>\n",
       "      <td>978</td>\n",
       "      <td>765</td>\n",
       "      <td>1530</td>\n",
       "      <td>3890</td>\n",
       "      <td>4932</td>\n",
       "      <td>5937</td>\n",
       "      <td>https://images.gr-assets.com/books/1331126301m...</td>\n",
       "      <td>https://images.gr-assets.com/books/1331126301s...</td>\n",
       "    </tr>\n",
       "    <tr>\n",
       "      <th>3111</th>\n",
       "      <td>3112</td>\n",
       "      <td>7134202</td>\n",
       "      <td>7134202</td>\n",
       "      <td>7397180</td>\n",
       "      <td>54</td>\n",
       "      <td>316096156</td>\n",
       "      <td>9.780316e+12</td>\n",
       "      <td>James Patterson, Maxine Paetro</td>\n",
       "      <td>2010.0</td>\n",
       "      <td>Private</td>\n",
       "      <td>...</td>\n",
       "      <td>31061</td>\n",
       "      <td>35260</td>\n",
       "      <td>2044</td>\n",
       "      <td>674</td>\n",
       "      <td>1955</td>\n",
       "      <td>8880</td>\n",
       "      <td>13118</td>\n",
       "      <td>10633</td>\n",
       "      <td>https://s.gr-assets.com/assets/nophoto/book/11...</td>\n",
       "      <td>https://s.gr-assets.com/assets/nophoto/book/50...</td>\n",
       "    </tr>\n",
       "    <tr>\n",
       "      <th>8898</th>\n",
       "      <td>8899</td>\n",
       "      <td>119239</td>\n",
       "      <td>119239</td>\n",
       "      <td>1697235</td>\n",
       "      <td>40</td>\n",
       "      <td>140424504</td>\n",
       "      <td>9.780140e+12</td>\n",
       "      <td>George Gordon Byron, Peter J. Manning, Susan J...</td>\n",
       "      <td>1848.0</td>\n",
       "      <td>Selected Poems</td>\n",
       "      <td>...</td>\n",
       "      <td>10630</td>\n",
       "      <td>11313</td>\n",
       "      <td>57</td>\n",
       "      <td>132</td>\n",
       "      <td>505</td>\n",
       "      <td>2446</td>\n",
       "      <td>3845</td>\n",
       "      <td>4385</td>\n",
       "      <td>https://images.gr-assets.com/books/1411634706m...</td>\n",
       "      <td>https://images.gr-assets.com/books/1411634706s...</td>\n",
       "    </tr>\n",
       "    <tr>\n",
       "      <th>9783</th>\n",
       "      <td>9784</td>\n",
       "      <td>26599</td>\n",
       "      <td>26599</td>\n",
       "      <td>1247207</td>\n",
       "      <td>3</td>\n",
       "      <td>871401541</td>\n",
       "      <td>9.780871e+12</td>\n",
       "      <td>E.E. Cummings, Richard S. Kennedy</td>\n",
       "      <td>1994.0</td>\n",
       "      <td>Selected Poems</td>\n",
       "      <td>...</td>\n",
       "      <td>11174</td>\n",
       "      <td>11278</td>\n",
       "      <td>234</td>\n",
       "      <td>151</td>\n",
       "      <td>344</td>\n",
       "      <td>1740</td>\n",
       "      <td>3688</td>\n",
       "      <td>5355</td>\n",
       "      <td>https://images.gr-assets.com/books/1320891958m...</td>\n",
       "      <td>https://images.gr-assets.com/books/1320891958s...</td>\n",
       "    </tr>\n",
       "    <tr>\n",
       "      <th>6454</th>\n",
       "      <td>6455</td>\n",
       "      <td>112200</td>\n",
       "      <td>112200</td>\n",
       "      <td>471777</td>\n",
       "      <td>98</td>\n",
       "      <td>517206064</td>\n",
       "      <td>9.780517e+12</td>\n",
       "      <td>Emily Dickinson</td>\n",
       "      <td>1890.0</td>\n",
       "      <td>Selected Poems of Emily Dickinson</td>\n",
       "      <td>...</td>\n",
       "      <td>16218</td>\n",
       "      <td>18047</td>\n",
       "      <td>283</td>\n",
       "      <td>273</td>\n",
       "      <td>650</td>\n",
       "      <td>3139</td>\n",
       "      <td>5766</td>\n",
       "      <td>8219</td>\n",
       "      <td>https://images.gr-assets.com/books/1260829838m...</td>\n",
       "      <td>https://images.gr-assets.com/books/1260829838s...</td>\n",
       "    </tr>\n",
       "    <tr>\n",
       "      <th>4456</th>\n",
       "      <td>4457</td>\n",
       "      <td>18225810</td>\n",
       "      <td>18225810</td>\n",
       "      <td>24902370</td>\n",
       "      <td>14</td>\n",
       "      <td>545540607</td>\n",
       "      <td>9.780546e+12</td>\n",
       "      <td>Raina Telgemeier</td>\n",
       "      <td>2014.0</td>\n",
       "      <td>Sisters</td>\n",
       "      <td>...</td>\n",
       "      <td>23347</td>\n",
       "      <td>29031</td>\n",
       "      <td>3290</td>\n",
       "      <td>344</td>\n",
       "      <td>775</td>\n",
       "      <td>4020</td>\n",
       "      <td>8866</td>\n",
       "      <td>15026</td>\n",
       "      <td>https://images.gr-assets.com/books/1411022689m...</td>\n",
       "      <td>https://images.gr-assets.com/books/1411022689s...</td>\n",
       "    </tr>\n",
       "    <tr>\n",
       "      <th>7024</th>\n",
       "      <td>7025</td>\n",
       "      <td>26506</td>\n",
       "      <td>26506</td>\n",
       "      <td>1008958</td>\n",
       "      <td>52</td>\n",
       "      <td>385340222</td>\n",
       "      <td>9.780385e+12</td>\n",
       "      <td>Danielle Steel</td>\n",
       "      <td>2007.0</td>\n",
       "      <td>Sisters</td>\n",
       "      <td>...</td>\n",
       "      <td>13621</td>\n",
       "      <td>14641</td>\n",
       "      <td>1065</td>\n",
       "      <td>482</td>\n",
       "      <td>1125</td>\n",
       "      <td>3697</td>\n",
       "      <td>4715</td>\n",
       "      <td>4622</td>\n",
       "      <td>https://s.gr-assets.com/assets/nophoto/book/11...</td>\n",
       "      <td>https://s.gr-assets.com/assets/nophoto/book/50...</td>\n",
       "    </tr>\n",
       "    <tr>\n",
       "      <th>3911</th>\n",
       "      <td>3912</td>\n",
       "      <td>2071575</td>\n",
       "      <td>2071575</td>\n",
       "      <td>2076822</td>\n",
       "      <td>33</td>\n",
       "      <td>670018856</td>\n",
       "      <td>9.780670e+12</td>\n",
       "      <td>Jane Green</td>\n",
       "      <td>2008.0</td>\n",
       "      <td>The Beach House</td>\n",
       "      <td>...</td>\n",
       "      <td>25412</td>\n",
       "      <td>27219</td>\n",
       "      <td>2316</td>\n",
       "      <td>582</td>\n",
       "      <td>2456</td>\n",
       "      <td>9103</td>\n",
       "      <td>9733</td>\n",
       "      <td>5345</td>\n",
       "      <td>https://s.gr-assets.com/assets/nophoto/book/11...</td>\n",
       "      <td>https://s.gr-assets.com/assets/nophoto/book/50...</td>\n",
       "    </tr>\n",
       "    <tr>\n",
       "      <th>1259</th>\n",
       "      <td>1260</td>\n",
       "      <td>7510</td>\n",
       "      <td>7510</td>\n",
       "      <td>22576</td>\n",
       "      <td>60</td>\n",
       "      <td>446612545</td>\n",
       "      <td>9.780447e+12</td>\n",
       "      <td>James Patterson, Peter de Jonge</td>\n",
       "      <td>2002.0</td>\n",
       "      <td>The Beach House</td>\n",
       "      <td>...</td>\n",
       "      <td>68676</td>\n",
       "      <td>70371</td>\n",
       "      <td>1628</td>\n",
       "      <td>1125</td>\n",
       "      <td>4351</td>\n",
       "      <td>20127</td>\n",
       "      <td>25271</td>\n",
       "      <td>19497</td>\n",
       "      <td>https://s.gr-assets.com/assets/nophoto/book/11...</td>\n",
       "      <td>https://s.gr-assets.com/assets/nophoto/book/50...</td>\n",
       "    </tr>\n",
       "    <tr>\n",
       "      <th>5173</th>\n",
       "      <td>5174</td>\n",
       "      <td>18668066</td>\n",
       "      <td>18668066</td>\n",
       "      <td>26493730</td>\n",
       "      <td>52</td>\n",
       "      <td>399171088</td>\n",
       "      <td>9.780399e+12</td>\n",
       "      <td>Nora Roberts</td>\n",
       "      <td>2014.0</td>\n",
       "      <td>The Collector</td>\n",
       "      <td>...</td>\n",
       "      <td>15888</td>\n",
       "      <td>22703</td>\n",
       "      <td>1931</td>\n",
       "      <td>386</td>\n",
       "      <td>1330</td>\n",
       "      <td>5357</td>\n",
       "      <td>8363</td>\n",
       "      <td>7267</td>\n",
       "      <td>https://images.gr-assets.com/books/1389532018m...</td>\n",
       "      <td>https://images.gr-assets.com/books/1389532018s...</td>\n",
       "    </tr>\n",
       "    <tr>\n",
       "      <th>3130</th>\n",
       "      <td>3131</td>\n",
       "      <td>243705</td>\n",
       "      <td>243705</td>\n",
       "      <td>1816452</td>\n",
       "      <td>123</td>\n",
       "      <td>99470470</td>\n",
       "      <td>9.780099e+12</td>\n",
       "      <td>John Fowles</td>\n",
       "      <td>1963.0</td>\n",
       "      <td>The Collector</td>\n",
       "      <td>...</td>\n",
       "      <td>32129</td>\n",
       "      <td>37123</td>\n",
       "      <td>2315</td>\n",
       "      <td>497</td>\n",
       "      <td>1721</td>\n",
       "      <td>7744</td>\n",
       "      <td>14808</td>\n",
       "      <td>12353</td>\n",
       "      <td>https://images.gr-assets.com/books/1394828024m...</td>\n",
       "      <td>https://images.gr-assets.com/books/1394828024s...</td>\n",
       "    </tr>\n",
       "    <tr>\n",
       "      <th>8167</th>\n",
       "      <td>8168</td>\n",
       "      <td>47730</td>\n",
       "      <td>47730</td>\n",
       "      <td>46720</td>\n",
       "      <td>13</td>\n",
       "      <td>395957761</td>\n",
       "      <td>9.780396e+12</td>\n",
       "      <td>Anne Sexton, Maxine Kumin</td>\n",
       "      <td>1981.0</td>\n",
       "      <td>The Complete Poems: Anne Sexton</td>\n",
       "      <td>...</td>\n",
       "      <td>11888</td>\n",
       "      <td>12264</td>\n",
       "      <td>305</td>\n",
       "      <td>117</td>\n",
       "      <td>303</td>\n",
       "      <td>1680</td>\n",
       "      <td>4089</td>\n",
       "      <td>6075</td>\n",
       "      <td>https://s.gr-assets.com/assets/nophoto/book/11...</td>\n",
       "      <td>https://s.gr-assets.com/assets/nophoto/book/50...</td>\n",
       "    </tr>\n",
       "    <tr>\n",
       "      <th>6021</th>\n",
       "      <td>6022</td>\n",
       "      <td>138134</td>\n",
       "      <td>138134</td>\n",
       "      <td>1701632</td>\n",
       "      <td>40</td>\n",
       "      <td>679601082</td>\n",
       "      <td>9.780680e+12</td>\n",
       "      <td>John Keats</td>\n",
       "      <td>1820.0</td>\n",
       "      <td>John Keats : The Complete Poems</td>\n",
       "      <td>...</td>\n",
       "      <td>17101</td>\n",
       "      <td>17881</td>\n",
       "      <td>191</td>\n",
       "      <td>225</td>\n",
       "      <td>581</td>\n",
       "      <td>2700</td>\n",
       "      <td>5621</td>\n",
       "      <td>8754</td>\n",
       "      <td>https://s.gr-assets.com/assets/nophoto/book/11...</td>\n",
       "      <td>https://s.gr-assets.com/assets/nophoto/book/50...</td>\n",
       "    </tr>\n",
       "    <tr>\n",
       "      <th>4938</th>\n",
       "      <td>4939</td>\n",
       "      <td>22904</td>\n",
       "      <td>22904</td>\n",
       "      <td>568437</td>\n",
       "      <td>70</td>\n",
       "      <td>805210555</td>\n",
       "      <td>9.780805e+12</td>\n",
       "      <td>Franz Kafka, Nahum N. Glatzer, John Updike, Wi...</td>\n",
       "      <td>1946.0</td>\n",
       "      <td>Sämtliche Erzählungen</td>\n",
       "      <td>...</td>\n",
       "      <td>18314</td>\n",
       "      <td>20541</td>\n",
       "      <td>485</td>\n",
       "      <td>201</td>\n",
       "      <td>454</td>\n",
       "      <td>2373</td>\n",
       "      <td>6549</td>\n",
       "      <td>10964</td>\n",
       "      <td>https://images.gr-assets.com/books/1223588017m...</td>\n",
       "      <td>https://images.gr-assets.com/books/1223588017s...</td>\n",
       "    </tr>\n",
       "    <tr>\n",
       "      <th>3471</th>\n",
       "      <td>3472</td>\n",
       "      <td>284996</td>\n",
       "      <td>284996</td>\n",
       "      <td>886814</td>\n",
       "      <td>41</td>\n",
       "      <td>374515360</td>\n",
       "      <td>9.780375e+12</td>\n",
       "      <td>Flannery O'Connor</td>\n",
       "      <td>1971.0</td>\n",
       "      <td>The Complete Stories</td>\n",
       "      <td>...</td>\n",
       "      <td>27352</td>\n",
       "      <td>29267</td>\n",
       "      <td>1222</td>\n",
       "      <td>308</td>\n",
       "      <td>568</td>\n",
       "      <td>2593</td>\n",
       "      <td>8231</td>\n",
       "      <td>17567</td>\n",
       "      <td>https://images.gr-assets.com/books/1489956381m...</td>\n",
       "      <td>https://images.gr-assets.com/books/1489956381s...</td>\n",
       "    </tr>\n",
       "    <tr>\n",
       "      <th>6505</th>\n",
       "      <td>6506</td>\n",
       "      <td>4279056</td>\n",
       "      <td>4279056</td>\n",
       "      <td>4326592</td>\n",
       "      <td>73</td>\n",
       "      <td>7284977</td>\n",
       "      <td>9.780007e+12</td>\n",
       "      <td>Cecelia Ahern</td>\n",
       "      <td>2008.0</td>\n",
       "      <td>The Gift</td>\n",
       "      <td>...</td>\n",
       "      <td>15310</td>\n",
       "      <td>18442</td>\n",
       "      <td>1337</td>\n",
       "      <td>509</td>\n",
       "      <td>1792</td>\n",
       "      <td>5482</td>\n",
       "      <td>5902</td>\n",
       "      <td>4757</td>\n",
       "      <td>https://images.gr-assets.com/books/1286019892m...</td>\n",
       "      <td>https://images.gr-assets.com/books/1286019892s...</td>\n",
       "    </tr>\n",
       "    <tr>\n",
       "      <th>7683</th>\n",
       "      <td>7684</td>\n",
       "      <td>59836</td>\n",
       "      <td>59836</td>\n",
       "      <td>1912773</td>\n",
       "      <td>55</td>\n",
       "      <td>440221315</td>\n",
       "      <td>9.780440e+12</td>\n",
       "      <td>Danielle Steel</td>\n",
       "      <td>1986.0</td>\n",
       "      <td>The Gift</td>\n",
       "      <td>...</td>\n",
       "      <td>12382</td>\n",
       "      <td>13114</td>\n",
       "      <td>473</td>\n",
       "      <td>218</td>\n",
       "      <td>819</td>\n",
       "      <td>3420</td>\n",
       "      <td>4186</td>\n",
       "      <td>4471</td>\n",
       "      <td>https://images.gr-assets.com/books/1403190508m...</td>\n",
       "      <td>https://images.gr-assets.com/books/1403190508s...</td>\n",
       "    </tr>\n",
       "    <tr>\n",
       "      <th>1173</th>\n",
       "      <td>1174</td>\n",
       "      <td>26893819</td>\n",
       "      <td>26893819</td>\n",
       "      <td>42856015</td>\n",
       "      <td>59</td>\n",
       "      <td>081299860X</td>\n",
       "      <td>9.780813e+12</td>\n",
       "      <td>Emma Cline</td>\n",
       "      <td>2016.0</td>\n",
       "      <td>The Girls</td>\n",
       "      <td>...</td>\n",
       "      <td>76761</td>\n",
       "      <td>94812</td>\n",
       "      <td>11573</td>\n",
       "      <td>2905</td>\n",
       "      <td>11033</td>\n",
       "      <td>32122</td>\n",
       "      <td>34599</td>\n",
       "      <td>14153</td>\n",
       "      <td>https://images.gr-assets.com/books/1492065338m...</td>\n",
       "      <td>https://images.gr-assets.com/books/1492065338s...</td>\n",
       "    </tr>\n",
       "    <tr>\n",
       "      <th>5616</th>\n",
       "      <td>5617</td>\n",
       "      <td>47076</td>\n",
       "      <td>47076</td>\n",
       "      <td>1007854</td>\n",
       "      <td>51</td>\n",
       "      <td>316066346</td>\n",
       "      <td>9.780316e+12</td>\n",
       "      <td>Lori Lansens</td>\n",
       "      <td>2005.0</td>\n",
       "      <td>The Girls</td>\n",
       "      <td>...</td>\n",
       "      <td>16201</td>\n",
       "      <td>18125</td>\n",
       "      <td>2158</td>\n",
       "      <td>377</td>\n",
       "      <td>1168</td>\n",
       "      <td>4640</td>\n",
       "      <td>7583</td>\n",
       "      <td>4357</td>\n",
       "      <td>https://s.gr-assets.com/assets/nophoto/book/11...</td>\n",
       "      <td>https://s.gr-assets.com/assets/nophoto/book/50...</td>\n",
       "    </tr>\n",
       "    <tr>\n",
       "      <th>7644</th>\n",
       "      <td>7645</td>\n",
       "      <td>2430</td>\n",
       "      <td>2430</td>\n",
       "      <td>2758207</td>\n",
       "      <td>29</td>\n",
       "      <td>515121495</td>\n",
       "      <td>9.780515e+12</td>\n",
       "      <td>Steve Martini</td>\n",
       "      <td>1997.0</td>\n",
       "      <td>The List</td>\n",
       "      <td>...</td>\n",
       "      <td>11696</td>\n",
       "      <td>11850</td>\n",
       "      <td>145</td>\n",
       "      <td>157</td>\n",
       "      <td>422</td>\n",
       "      <td>2944</td>\n",
       "      <td>4698</td>\n",
       "      <td>3629</td>\n",
       "      <td>https://s.gr-assets.com/assets/nophoto/book/11...</td>\n",
       "      <td>https://s.gr-assets.com/assets/nophoto/book/50...</td>\n",
       "    </tr>\n",
       "    <tr>\n",
       "      <th>7399</th>\n",
       "      <td>7400</td>\n",
       "      <td>10866233</td>\n",
       "      <td>10866233</td>\n",
       "      <td>15781430</td>\n",
       "      <td>20</td>\n",
       "      <td>545169178</td>\n",
       "      <td>9.780545e+12</td>\n",
       "      <td>Siobhan Vivian</td>\n",
       "      <td>2012.0</td>\n",
       "      <td>The List</td>\n",
       "      <td>...</td>\n",
       "      <td>16569</td>\n",
       "      <td>18700</td>\n",
       "      <td>2601</td>\n",
       "      <td>748</td>\n",
       "      <td>2540</td>\n",
       "      <td>6328</td>\n",
       "      <td>5472</td>\n",
       "      <td>3612</td>\n",
       "      <td>https://images.gr-assets.com/books/1439733432m...</td>\n",
       "      <td>https://images.gr-assets.com/books/1439733432s...</td>\n",
       "    </tr>\n",
       "    <tr>\n",
       "      <th>4028</th>\n",
       "      <td>4029</td>\n",
       "      <td>16240761</td>\n",
       "      <td>16240761</td>\n",
       "      <td>19110442</td>\n",
       "      <td>53</td>\n",
       "      <td>62120395</td>\n",
       "      <td>9.780062e+12</td>\n",
       "      <td>Philipp Meyer</td>\n",
       "      <td>2012.0</td>\n",
       "      <td>The Son</td>\n",
       "      <td>...</td>\n",
       "      <td>19821</td>\n",
       "      <td>24320</td>\n",
       "      <td>3032</td>\n",
       "      <td>550</td>\n",
       "      <td>1278</td>\n",
       "      <td>4659</td>\n",
       "      <td>9423</td>\n",
       "      <td>8410</td>\n",
       "      <td>https://images.gr-assets.com/books/1355349098m...</td>\n",
       "      <td>https://images.gr-assets.com/books/1355349098s...</td>\n",
       "    </tr>\n",
       "    <tr>\n",
       "      <th>4211</th>\n",
       "      <td>4212</td>\n",
       "      <td>19101283</td>\n",
       "      <td>19101283</td>\n",
       "      <td>24342394</td>\n",
       "      <td>78</td>\n",
       "      <td>385351372</td>\n",
       "      <td>9.780385e+12</td>\n",
       "      <td>Jo Nesbø, Charlotte Barslund</td>\n",
       "      <td>2014.0</td>\n",
       "      <td>Sønnen</td>\n",
       "      <td>...</td>\n",
       "      <td>19393</td>\n",
       "      <td>25476</td>\n",
       "      <td>2270</td>\n",
       "      <td>355</td>\n",
       "      <td>834</td>\n",
       "      <td>4359</td>\n",
       "      <td>11025</td>\n",
       "      <td>8903</td>\n",
       "      <td>https://images.gr-assets.com/books/1390177620m...</td>\n",
       "      <td>https://images.gr-assets.com/books/1390177620s...</td>\n",
       "    </tr>\n",
       "  </tbody>\n",
       "</table>\n",
       "<p>37 rows × 23 columns</p>\n",
       "</div>"
      ],
      "text/plain": [
       "      book_id  goodreads_book_id  best_book_id   work_id  books_count  \\\n",
       "348       349              11590         11590   3048937          211   \n",
       "1291     1292               5413          5413  40802405           22   \n",
       "6480     6481             384597        384597   1303332           24   \n",
       "6104     6105           11866694      11866694  16823763           23   \n",
       "578       579             197084        197084   1837885           44   \n",
       "5786     5787           11566956      11566956  16507555           15   \n",
       "7448     7449            6345193       6345193   6448995           44   \n",
       "5556     5557           18656055      18656055  26470742           39   \n",
       "7461     7462                456           456   1128381           50   \n",
       "3551     3552              91953         91953    680963          364   \n",
       "2147     2148              44184         44184   1386643           39   \n",
       "5479     5480              65684         65684   1416661           27   \n",
       "9149     9150           17192373      17192373  23645580           53   \n",
       "9812     9813              97408         97408     93897           12   \n",
       "7022     7023             381489        381489      2764           25   \n",
       "3111     3112            7134202       7134202   7397180           54   \n",
       "8898     8899             119239        119239   1697235           40   \n",
       "9783     9784              26599         26599   1247207            3   \n",
       "6454     6455             112200        112200    471777           98   \n",
       "4456     4457           18225810      18225810  24902370           14   \n",
       "7024     7025              26506         26506   1008958           52   \n",
       "3911     3912            2071575       2071575   2076822           33   \n",
       "1259     1260               7510          7510     22576           60   \n",
       "5173     5174           18668066      18668066  26493730           52   \n",
       "3130     3131             243705        243705   1816452          123   \n",
       "8167     8168              47730         47730     46720           13   \n",
       "6021     6022             138134        138134   1701632           40   \n",
       "4938     4939              22904         22904    568437           70   \n",
       "3471     3472             284996        284996    886814           41   \n",
       "6505     6506            4279056       4279056   4326592           73   \n",
       "7683     7684              59836         59836   1912773           55   \n",
       "1173     1174           26893819      26893819  42856015           59   \n",
       "5616     5617              47076         47076   1007854           51   \n",
       "7644     7645               2430          2430   2758207           29   \n",
       "7399     7400           10866233      10866233  15781430           20   \n",
       "4028     4029           16240761      16240761  19110442           53   \n",
       "4211     4212           19101283      19101283  24342394           78   \n",
       "\n",
       "            isbn        isbn13  \\\n",
       "348    450031063  9.780450e+12   \n",
       "1291   385516487  9.780386e+12   \n",
       "6480   571169341  9.780571e+12   \n",
       "6104  1401340873  9.781401e+12   \n",
       "578      1713221  9.780002e+12   \n",
       "5786   618982507  9.780619e+12   \n",
       "7448   805090800  9.780805e+12   \n",
       "5556   316405345  9.780316e+12   \n",
       "7461   140178139  9.780140e+12   \n",
       "3551   140431950  9.780140e+12   \n",
       "2147    64407314  9.780064e+12   \n",
       "5479  1595541217  9.781596e+12   \n",
       "9149   857520660  9.780858e+12   \n",
       "9812  1571316515  9.781571e+12   \n",
       "7022  1416918736  9.781417e+12   \n",
       "3111   316096156  9.780316e+12   \n",
       "8898   140424504  9.780140e+12   \n",
       "9783   871401541  9.780871e+12   \n",
       "6454   517206064  9.780517e+12   \n",
       "4456   545540607  9.780546e+12   \n",
       "7024   385340222  9.780385e+12   \n",
       "3911   670018856  9.780670e+12   \n",
       "1259   446612545  9.780447e+12   \n",
       "5173   399171088  9.780399e+12   \n",
       "3130    99470470  9.780099e+12   \n",
       "8167   395957761  9.780396e+12   \n",
       "6021   679601082  9.780680e+12   \n",
       "4938   805210555  9.780805e+12   \n",
       "3471   374515360  9.780375e+12   \n",
       "6505     7284977  9.780007e+12   \n",
       "7683   440221315  9.780440e+12   \n",
       "1173  081299860X  9.780813e+12   \n",
       "5616   316066346  9.780316e+12   \n",
       "7644   515121495  9.780515e+12   \n",
       "7399   545169178  9.780545e+12   \n",
       "4028    62120395  9.780062e+12   \n",
       "4211   385351372  9.780385e+12   \n",
       "\n",
       "                                                authors  \\\n",
       "348                                        Stephen King   \n",
       "1291                    Stephen King, Jerry N. Uelsmann   \n",
       "6480                                       Tom Stoppard   \n",
       "6104                                       Lauren Groff   \n",
       "578                                        P.D. Eastman   \n",
       "5786                                     Alison Bechdel   \n",
       "7448                                        Paul Auster   \n",
       "5556                       James Patterson, David Ellis   \n",
       "7461                                        Paul Auster   \n",
       "3551                     Thomas Hobbes, C.B. Macpherson   \n",
       "2147                                  Walter Dean Myers   \n",
       "5479                                   Frank E. Peretti   \n",
       "9149                                       Rachel Joyce   \n",
       "9812                                     Natasha Friend   \n",
       "7022                                         Kate Brian   \n",
       "3111                     James Patterson, Maxine Paetro   \n",
       "8898  George Gordon Byron, Peter J. Manning, Susan J...   \n",
       "9783                  E.E. Cummings, Richard S. Kennedy   \n",
       "6454                                    Emily Dickinson   \n",
       "4456                                   Raina Telgemeier   \n",
       "7024                                     Danielle Steel   \n",
       "3911                                         Jane Green   \n",
       "1259                    James Patterson, Peter de Jonge   \n",
       "5173                                       Nora Roberts   \n",
       "3130                                        John Fowles   \n",
       "8167                          Anne Sexton, Maxine Kumin   \n",
       "6021                                         John Keats   \n",
       "4938  Franz Kafka, Nahum N. Glatzer, John Updike, Wi...   \n",
       "3471                                  Flannery O'Connor   \n",
       "6505                                      Cecelia Ahern   \n",
       "7683                                     Danielle Steel   \n",
       "1173                                         Emma Cline   \n",
       "5616                                       Lori Lansens   \n",
       "7644                                      Steve Martini   \n",
       "7399                                     Siobhan Vivian   \n",
       "4028                                      Philipp Meyer   \n",
       "4211                       Jo Nesbø, Charlotte Barslund   \n",
       "\n",
       "      original_publication_year  \\\n",
       "348                      1975.0   \n",
       "1291                     2005.0   \n",
       "6480                     1993.0   \n",
       "6104                     2012.0   \n",
       "578                      1960.0   \n",
       "5786                     2012.0   \n",
       "7448                     2009.0   \n",
       "5556                     2014.0   \n",
       "7461                     1992.0   \n",
       "3551                     1651.0   \n",
       "2147                     1999.0   \n",
       "5479                     2005.0   \n",
       "9149                     2013.0   \n",
       "9812                     2004.0   \n",
       "7022                     2006.0   \n",
       "3111                     2010.0   \n",
       "8898                     1848.0   \n",
       "9783                     1994.0   \n",
       "6454                     1890.0   \n",
       "4456                     2014.0   \n",
       "7024                     2007.0   \n",
       "3911                     2008.0   \n",
       "1259                     2002.0   \n",
       "5173                     2014.0   \n",
       "3130                     1963.0   \n",
       "8167                     1981.0   \n",
       "6021                     1820.0   \n",
       "4938                     1946.0   \n",
       "3471                     1971.0   \n",
       "6505                     2008.0   \n",
       "7683                     1986.0   \n",
       "1173                     2016.0   \n",
       "5616                     2005.0   \n",
       "7644                     1997.0   \n",
       "7399                     2012.0   \n",
       "4028                     2012.0   \n",
       "4211                     2014.0   \n",
       "\n",
       "                                         original_title  ... ratings_count  \\\n",
       "348                                         Salem's Lot  ...        228680   \n",
       "1291               'Salem's Lot The Illustrated Edition  ...         72797   \n",
       "6480                                            Arcadia  ...         15362   \n",
       "6104                                            Arcadia  ...         14622   \n",
       "578                                  Are You My Mother?  ...        174204   \n",
       "5786                  Are You My Mother?: A Comic Drama  ...         18618   \n",
       "7448                                          Invisible  ...         11706   \n",
       "5556                                          Invisible  ...         14518   \n",
       "7461                                          Leviathan  ...         10002   \n",
       "3551  Leviathan or The Matter, Forme and Power of a ...  ...         26284   \n",
       "2147                                            Monster  ...         47533   \n",
       "5479                                            Monster  ...         17583   \n",
       "9149                                            Perfect  ...          8152   \n",
       "9812                                            Perfect  ...         11497   \n",
       "7022                                            Private  ...         16556   \n",
       "3111                                            Private  ...         31061   \n",
       "8898                                     Selected Poems  ...         10630   \n",
       "9783                                     Selected Poems  ...         11174   \n",
       "6454                  Selected Poems of Emily Dickinson  ...         16218   \n",
       "4456                                            Sisters  ...         23347   \n",
       "7024                                            Sisters  ...         13621   \n",
       "3911                                    The Beach House  ...         25412   \n",
       "1259                                    The Beach House  ...         68676   \n",
       "5173                                      The Collector  ...         15888   \n",
       "3130                                      The Collector  ...         32129   \n",
       "8167                    The Complete Poems: Anne Sexton  ...         11888   \n",
       "6021                    John Keats : The Complete Poems  ...         17101   \n",
       "4938                              Sämtliche Erzählungen  ...         18314   \n",
       "3471                               The Complete Stories  ...         27352   \n",
       "6505                                           The Gift  ...         15310   \n",
       "7683                                           The Gift  ...         12382   \n",
       "1173                                          The Girls  ...         76761   \n",
       "5616                                          The Girls  ...         16201   \n",
       "7644                                           The List  ...         11696   \n",
       "7399                                           The List  ...         16569   \n",
       "4028                                            The Son  ...         19821   \n",
       "4211                                             Sønnen  ...         19393   \n",
       "\n",
       "     work_ratings_count  work_text_reviews_count  ratings_1  ratings_2  \\\n",
       "348              246360                     6167       2713      11724   \n",
       "1291              74725                      482        460       1854   \n",
       "6480              16149                      749        291        713   \n",
       "6104              16274                     2444        471       1471   \n",
       "578              177809                     1864       3986       8065   \n",
       "5786              19688                     2585        697       2193   \n",
       "7448              13897                     1093        243       1002   \n",
       "5556              18967                     2006        268        705   \n",
       "7461              11794                      517        105        490   \n",
       "3551              28699                      505        850       2688   \n",
       "2147              48399                     4394       1485       4418   \n",
       "5479              18394                      670        511       1606   \n",
       "9149              10972                     1745        352       1197   \n",
       "9812              11648                     1106        232        961   \n",
       "7022              17054                      978        765       1530   \n",
       "3111              35260                     2044        674       1955   \n",
       "8898              11313                       57        132        505   \n",
       "9783              11278                      234        151        344   \n",
       "6454              18047                      283        273        650   \n",
       "4456              29031                     3290        344        775   \n",
       "7024              14641                     1065        482       1125   \n",
       "3911              27219                     2316        582       2456   \n",
       "1259              70371                     1628       1125       4351   \n",
       "5173              22703                     1931        386       1330   \n",
       "3130              37123                     2315        497       1721   \n",
       "8167              12264                      305        117        303   \n",
       "6021              17881                      191        225        581   \n",
       "4938              20541                      485        201        454   \n",
       "3471              29267                     1222        308        568   \n",
       "6505              18442                     1337        509       1792   \n",
       "7683              13114                      473        218        819   \n",
       "1173              94812                    11573       2905      11033   \n",
       "5616              18125                     2158        377       1168   \n",
       "7644              11850                      145        157        422   \n",
       "7399              18700                     2601        748       2540   \n",
       "4028              24320                     3032        550       1278   \n",
       "4211              25476                     2270        355        834   \n",
       "\n",
       "      ratings_3  ratings_4  ratings_5  \\\n",
       "348       57171      89196      85556   \n",
       "1291      12040      24920      35451   \n",
       "6480       2408       4948       7789   \n",
       "6104       4757       6233       3342   \n",
       "578       31523      45916      88319   \n",
       "5786       5326       6382       5090   \n",
       "7448       3988       5957       2707   \n",
       "5556       3536       7704       6754   \n",
       "7461       2684       5165       3350   \n",
       "3551       8639       9692       6830   \n",
       "2147      13848      16267      12381   \n",
       "5479       4722       5733       5822   \n",
       "9149       3535       3976       1912   \n",
       "9812       3362       3746       3347   \n",
       "7022       3890       4932       5937   \n",
       "3111       8880      13118      10633   \n",
       "8898       2446       3845       4385   \n",
       "9783       1740       3688       5355   \n",
       "6454       3139       5766       8219   \n",
       "4456       4020       8866      15026   \n",
       "7024       3697       4715       4622   \n",
       "3911       9103       9733       5345   \n",
       "1259      20127      25271      19497   \n",
       "5173       5357       8363       7267   \n",
       "3130       7744      14808      12353   \n",
       "8167       1680       4089       6075   \n",
       "6021       2700       5621       8754   \n",
       "4938       2373       6549      10964   \n",
       "3471       2593       8231      17567   \n",
       "6505       5482       5902       4757   \n",
       "7683       3420       4186       4471   \n",
       "1173      32122      34599      14153   \n",
       "5616       4640       7583       4357   \n",
       "7644       2944       4698       3629   \n",
       "7399       6328       5472       3612   \n",
       "4028       4659       9423       8410   \n",
       "4211       4359      11025       8903   \n",
       "\n",
       "                                              image_url  \\\n",
       "348   https://images.gr-assets.com/books/1327891565m...   \n",
       "1291  https://images.gr-assets.com/books/1320478491m...   \n",
       "6480  https://images.gr-assets.com/books/1463617930m...   \n",
       "6104  https://s.gr-assets.com/assets/nophoto/book/11...   \n",
       "578   https://s.gr-assets.com/assets/nophoto/book/11...   \n",
       "5786  https://s.gr-assets.com/assets/nophoto/book/11...   \n",
       "7448  https://images.gr-assets.com/books/1317063578m...   \n",
       "5556  https://images.gr-assets.com/books/1403166141m...   \n",
       "7461  https://s.gr-assets.com/assets/nophoto/book/11...   \n",
       "3551  https://images.gr-assets.com/books/1326788684m...   \n",
       "2147  https://images.gr-assets.com/books/1404962824m...   \n",
       "5479  https://s.gr-assets.com/assets/nophoto/book/11...   \n",
       "9149  https://images.gr-assets.com/books/1367838351m...   \n",
       "9812  https://images.gr-assets.com/books/1328750860m...   \n",
       "7022  https://images.gr-assets.com/books/1331126301m...   \n",
       "3111  https://s.gr-assets.com/assets/nophoto/book/11...   \n",
       "8898  https://images.gr-assets.com/books/1411634706m...   \n",
       "9783  https://images.gr-assets.com/books/1320891958m...   \n",
       "6454  https://images.gr-assets.com/books/1260829838m...   \n",
       "4456  https://images.gr-assets.com/books/1411022689m...   \n",
       "7024  https://s.gr-assets.com/assets/nophoto/book/11...   \n",
       "3911  https://s.gr-assets.com/assets/nophoto/book/11...   \n",
       "1259  https://s.gr-assets.com/assets/nophoto/book/11...   \n",
       "5173  https://images.gr-assets.com/books/1389532018m...   \n",
       "3130  https://images.gr-assets.com/books/1394828024m...   \n",
       "8167  https://s.gr-assets.com/assets/nophoto/book/11...   \n",
       "6021  https://s.gr-assets.com/assets/nophoto/book/11...   \n",
       "4938  https://images.gr-assets.com/books/1223588017m...   \n",
       "3471  https://images.gr-assets.com/books/1489956381m...   \n",
       "6505  https://images.gr-assets.com/books/1286019892m...   \n",
       "7683  https://images.gr-assets.com/books/1403190508m...   \n",
       "1173  https://images.gr-assets.com/books/1492065338m...   \n",
       "5616  https://s.gr-assets.com/assets/nophoto/book/11...   \n",
       "7644  https://s.gr-assets.com/assets/nophoto/book/11...   \n",
       "7399  https://images.gr-assets.com/books/1439733432m...   \n",
       "4028  https://images.gr-assets.com/books/1355349098m...   \n",
       "4211  https://images.gr-assets.com/books/1390177620m...   \n",
       "\n",
       "                                        small_image_url  \n",
       "348   https://images.gr-assets.com/books/1327891565s...  \n",
       "1291  https://images.gr-assets.com/books/1320478491s...  \n",
       "6480  https://images.gr-assets.com/books/1463617930s...  \n",
       "6104  https://s.gr-assets.com/assets/nophoto/book/50...  \n",
       "578   https://s.gr-assets.com/assets/nophoto/book/50...  \n",
       "5786  https://s.gr-assets.com/assets/nophoto/book/50...  \n",
       "7448  https://images.gr-assets.com/books/1317063578s...  \n",
       "5556  https://images.gr-assets.com/books/1403166141s...  \n",
       "7461  https://s.gr-assets.com/assets/nophoto/book/50...  \n",
       "3551  https://images.gr-assets.com/books/1326788684s...  \n",
       "2147  https://images.gr-assets.com/books/1404962824s...  \n",
       "5479  https://s.gr-assets.com/assets/nophoto/book/50...  \n",
       "9149  https://images.gr-assets.com/books/1367838351s...  \n",
       "9812  https://images.gr-assets.com/books/1328750860s...  \n",
       "7022  https://images.gr-assets.com/books/1331126301s...  \n",
       "3111  https://s.gr-assets.com/assets/nophoto/book/50...  \n",
       "8898  https://images.gr-assets.com/books/1411634706s...  \n",
       "9783  https://images.gr-assets.com/books/1320891958s...  \n",
       "6454  https://images.gr-assets.com/books/1260829838s...  \n",
       "4456  https://images.gr-assets.com/books/1411022689s...  \n",
       "7024  https://s.gr-assets.com/assets/nophoto/book/50...  \n",
       "3911  https://s.gr-assets.com/assets/nophoto/book/50...  \n",
       "1259  https://s.gr-assets.com/assets/nophoto/book/50...  \n",
       "5173  https://images.gr-assets.com/books/1389532018s...  \n",
       "3130  https://images.gr-assets.com/books/1394828024s...  \n",
       "8167  https://s.gr-assets.com/assets/nophoto/book/50...  \n",
       "6021  https://s.gr-assets.com/assets/nophoto/book/50...  \n",
       "4938  https://images.gr-assets.com/books/1223588017s...  \n",
       "3471  https://images.gr-assets.com/books/1489956381s...  \n",
       "6505  https://images.gr-assets.com/books/1286019892s...  \n",
       "7683  https://images.gr-assets.com/books/1403190508s...  \n",
       "1173  https://images.gr-assets.com/books/1492065338s...  \n",
       "5616  https://s.gr-assets.com/assets/nophoto/book/50...  \n",
       "7644  https://s.gr-assets.com/assets/nophoto/book/50...  \n",
       "7399  https://images.gr-assets.com/books/1439733432s...  \n",
       "4028  https://images.gr-assets.com/books/1355349098s...  \n",
       "4211  https://images.gr-assets.com/books/1390177620s...  \n",
       "\n",
       "[37 rows x 23 columns]"
      ]
     },
     "execution_count": 12,
     "metadata": {},
     "output_type": "execute_result"
    }
   ],
   "source": [
    "books[books.title.duplicated(keep=False)==True].sort_values('title')"
   ]
  },
  {
   "cell_type": "markdown",
   "metadata": {},
   "source": [
    "While there are a few duplicated books and we can get rid of duplicates by combining them through features such as ratings, ratings_count, it should be noted that the duplicates differ in some features like publication year or language code. "
   ]
  },
  {
   "cell_type": "markdown",
   "metadata": {},
   "source": [
    "# Exploratory Data Analysis"
   ]
  },
  {
   "cell_type": "markdown",
   "metadata": {},
   "source": [
    "## Books"
   ]
  },
  {
   "cell_type": "code",
   "execution_count": 13,
   "metadata": {},
   "outputs": [],
   "source": [
    "def plot_books_by(df, col, n_rows=10):\n",
    "    plt.figure(figsize=(12,7))\n",
    "    ax = sns.barplot(x=df[col].head(n_rows), y=df['title'].head(n_rows), data=df)\n",
    "    plt.title('Best ' + str(n_rows) + ' books by ' + col.replace('_',' ').capitalize(), weight='bold')\n",
    "    plt.xlabel('Score of ' + col)\n",
    "    plt.ylabel('Book Title')  "
   ]
  },
  {
   "cell_type": "code",
   "execution_count": 14,
   "metadata": {},
   "outputs": [],
   "source": [
    "important_columns = ['title','authors','average_rating','ratings_count','work_text_reviews_count']"
   ]
  },
  {
   "cell_type": "markdown",
   "metadata": {},
   "source": [
    "### Top Rated Books"
   ]
  },
  {
   "cell_type": "code",
   "execution_count": 1,
   "metadata": {},
   "outputs": [
    {
     "ename": "NameError",
     "evalue": "name 'books' is not defined",
     "output_type": "error",
     "traceback": [
      "\u001b[0;31m---------------------------------------------------------------------------\u001b[0m",
      "\u001b[0;31mNameError\u001b[0m                                 Traceback (most recent call last)",
      "\u001b[0;32m<ipython-input-1-e1b6df5f5f53>\u001b[0m in \u001b[0;36m<module>\u001b[0;34m\u001b[0m\n\u001b[0;32m----> 1\u001b[0;31m \u001b[0mbook_sorted_ratings\u001b[0m \u001b[0;34m=\u001b[0m \u001b[0mbooks\u001b[0m\u001b[0;34m[\u001b[0m\u001b[0mbooks\u001b[0m\u001b[0;34m[\u001b[0m\u001b[0;34m'ratings_count'\u001b[0m\u001b[0;34m]\u001b[0m\u001b[0;34m>=\u001b[0m\u001b[0;36m1000\u001b[0m\u001b[0;34m]\u001b[0m\u001b[0;34m.\u001b[0m\u001b[0msort_values\u001b[0m\u001b[0;34m(\u001b[0m\u001b[0;34m'average_rating'\u001b[0m\u001b[0;34m,\u001b[0m \u001b[0mascending\u001b[0m\u001b[0;34m=\u001b[0m\u001b[0;32mFalse\u001b[0m\u001b[0;34m)\u001b[0m\u001b[0;34m\u001b[0m\u001b[0;34m\u001b[0m\u001b[0m\n\u001b[0m\u001b[1;32m      2\u001b[0m \u001b[0mbook_sorted_ratings\u001b[0m\u001b[0;34m[\u001b[0m\u001b[0mimportant_columns\u001b[0m\u001b[0;34m]\u001b[0m\u001b[0;34m.\u001b[0m\u001b[0mhead\u001b[0m\u001b[0;34m(\u001b[0m\u001b[0;36m15\u001b[0m\u001b[0;34m)\u001b[0m\u001b[0;34m\u001b[0m\u001b[0;34m\u001b[0m\u001b[0m\n",
      "\u001b[0;31mNameError\u001b[0m: name 'books' is not defined"
     ]
    }
   ],
   "source": [
    "book_sorted_ratings = books[books['ratings_count']>=1000].sort_values('average_rating', ascending=False)\n",
    "book_sorted_ratings[important_columns].head(15)"
   ]
  },
  {
   "cell_type": "code",
   "execution_count": 16,
   "metadata": {},
   "outputs": [
    {
     "data": {
      "image/png": "[encoded data removed]",
      "text/plain": [
       "<Figure size 864x504 with 1 Axes>"
      ]
     },
     "metadata": {
      "needs_background": "light"
     },
     "output_type": "display_data"
    }
   ],
   "source": [
    "plot_books_by(book_sorted_ratings, 'average_rating', 10)"
   ]
  },
  {
   "cell_type": "markdown",
   "metadata": {},
   "source": [
    "### Top Popular Books"
   ]
  },
  {
   "cell_type": "code",
   "execution_count": 17,
   "metadata": {},
   "outputs": [
    {
     "data": {
      "text/html": [
       "<div>\n",
       "<style scoped>\n",
       "    .dataframe tbody tr th:only-of-type {\n",
       "        vertical-align: middle;\n",
       "    }\n",
       "\n",
       "    .dataframe tbody tr th {\n",
       "        vertical-align: top;\n",
       "    }\n",
       "\n",
       "    .dataframe thead th {\n",
       "        text-align: right;\n",
       "    }\n",
       "</style>\n",
       "<table border=\"1\" class=\"dataframe\">\n",
       "  <thead>\n",
       "    <tr style=\"text-align: right;\">\n",
       "      <th></th>\n",
       "      <th>title</th>\n",
       "      <th>authors</th>\n",
       "      <th>average_rating</th>\n",
       "      <th>ratings_count</th>\n",
       "      <th>work_text_reviews_count</th>\n",
       "    </tr>\n",
       "  </thead>\n",
       "  <tbody>\n",
       "    <tr>\n",
       "      <th>0</th>\n",
       "      <td>The Hunger Games (The Hunger Games, #1)</td>\n",
       "      <td>Suzanne Collins</td>\n",
       "      <td>4.34</td>\n",
       "      <td>4780653</td>\n",
       "      <td>155254</td>\n",
       "    </tr>\n",
       "    <tr>\n",
       "      <th>1</th>\n",
       "      <td>Harry Potter and the Sorcerer's Stone (Harry P...</td>\n",
       "      <td>J.K. Rowling, Mary GrandPré</td>\n",
       "      <td>4.44</td>\n",
       "      <td>4602479</td>\n",
       "      <td>75867</td>\n",
       "    </tr>\n",
       "    <tr>\n",
       "      <th>2</th>\n",
       "      <td>Twilight (Twilight, #1)</td>\n",
       "      <td>Stephenie Meyer</td>\n",
       "      <td>3.57</td>\n",
       "      <td>3866839</td>\n",
       "      <td>95009</td>\n",
       "    </tr>\n",
       "    <tr>\n",
       "      <th>3</th>\n",
       "      <td>To Kill a Mockingbird</td>\n",
       "      <td>Harper Lee</td>\n",
       "      <td>4.25</td>\n",
       "      <td>3198671</td>\n",
       "      <td>72586</td>\n",
       "    </tr>\n",
       "    <tr>\n",
       "      <th>4</th>\n",
       "      <td>The Great Gatsby</td>\n",
       "      <td>F. Scott Fitzgerald</td>\n",
       "      <td>3.89</td>\n",
       "      <td>2683664</td>\n",
       "      <td>51992</td>\n",
       "    </tr>\n",
       "    <tr>\n",
       "      <th>5</th>\n",
       "      <td>The Fault in Our Stars</td>\n",
       "      <td>John Green</td>\n",
       "      <td>4.26</td>\n",
       "      <td>2346404</td>\n",
       "      <td>140739</td>\n",
       "    </tr>\n",
       "    <tr>\n",
       "      <th>6</th>\n",
       "      <td>The Hobbit</td>\n",
       "      <td>J.R.R. Tolkien</td>\n",
       "      <td>4.25</td>\n",
       "      <td>2071616</td>\n",
       "      <td>37653</td>\n",
       "    </tr>\n",
       "    <tr>\n",
       "      <th>7</th>\n",
       "      <td>The Catcher in the Rye</td>\n",
       "      <td>J.D. Salinger</td>\n",
       "      <td>3.79</td>\n",
       "      <td>2044241</td>\n",
       "      <td>44920</td>\n",
       "    </tr>\n",
       "    <tr>\n",
       "      <th>9</th>\n",
       "      <td>Pride and Prejudice</td>\n",
       "      <td>Jane Austen</td>\n",
       "      <td>4.24</td>\n",
       "      <td>2035490</td>\n",
       "      <td>49152</td>\n",
       "    </tr>\n",
       "    <tr>\n",
       "      <th>8</th>\n",
       "      <td>Angels &amp; Demons  (Robert Langdon, #1)</td>\n",
       "      <td>Dan Brown</td>\n",
       "      <td>3.85</td>\n",
       "      <td>2001311</td>\n",
       "      <td>25112</td>\n",
       "    </tr>\n",
       "    <tr>\n",
       "      <th>14</th>\n",
       "      <td>The Diary of a Young Girl</td>\n",
       "      <td>Anne Frank, Eleanor Roosevelt, B.M. Mooyaart-D...</td>\n",
       "      <td>4.10</td>\n",
       "      <td>1972666</td>\n",
       "      <td>20825</td>\n",
       "    </tr>\n",
       "    <tr>\n",
       "      <th>12</th>\n",
       "      <td>1984</td>\n",
       "      <td>George Orwell, Erich Fromm, Celâl Üster</td>\n",
       "      <td>4.14</td>\n",
       "      <td>1956832</td>\n",
       "      <td>45518</td>\n",
       "    </tr>\n",
       "    <tr>\n",
       "      <th>11</th>\n",
       "      <td>Divergent (Divergent, #1)</td>\n",
       "      <td>Veronica Roth</td>\n",
       "      <td>4.24</td>\n",
       "      <td>1903563</td>\n",
       "      <td>101023</td>\n",
       "    </tr>\n",
       "    <tr>\n",
       "      <th>13</th>\n",
       "      <td>Animal Farm</td>\n",
       "      <td>George Orwell</td>\n",
       "      <td>3.87</td>\n",
       "      <td>1881700</td>\n",
       "      <td>35472</td>\n",
       "    </tr>\n",
       "    <tr>\n",
       "      <th>17</th>\n",
       "      <td>Harry Potter and the Prisoner of Azkaban (Harr...</td>\n",
       "      <td>J.K. Rowling, Mary GrandPré, Rufus Beck</td>\n",
       "      <td>4.53</td>\n",
       "      <td>1832823</td>\n",
       "      <td>36099</td>\n",
       "    </tr>\n",
       "  </tbody>\n",
       "</table>\n",
       "</div>"
      ],
      "text/plain": [
       "                                                title  \\\n",
       "0             The Hunger Games (The Hunger Games, #1)   \n",
       "1   Harry Potter and the Sorcerer's Stone (Harry P...   \n",
       "2                             Twilight (Twilight, #1)   \n",
       "3                               To Kill a Mockingbird   \n",
       "4                                    The Great Gatsby   \n",
       "5                              The Fault in Our Stars   \n",
       "6                                          The Hobbit   \n",
       "7                              The Catcher in the Rye   \n",
       "9                                 Pride and Prejudice   \n",
       "8               Angels & Demons  (Robert Langdon, #1)   \n",
       "14                          The Diary of a Young Girl   \n",
       "12                                               1984   \n",
       "11                          Divergent (Divergent, #1)   \n",
       "13                                        Animal Farm   \n",
       "17  Harry Potter and the Prisoner of Azkaban (Harr...   \n",
       "\n",
       "                                              authors  average_rating  \\\n",
       "0                                     Suzanne Collins            4.34   \n",
       "1                         J.K. Rowling, Mary GrandPré            4.44   \n",
       "2                                     Stephenie Meyer            3.57   \n",
       "3                                          Harper Lee            4.25   \n",
       "4                                 F. Scott Fitzgerald            3.89   \n",
       "5                                          John Green            4.26   \n",
       "6                                      J.R.R. Tolkien            4.25   \n",
       "7                                       J.D. Salinger            3.79   \n",
       "9                                         Jane Austen            4.24   \n",
       "8                                           Dan Brown            3.85   \n",
       "14  Anne Frank, Eleanor Roosevelt, B.M. Mooyaart-D...            4.10   \n",
       "12            George Orwell, Erich Fromm, Celâl Üster            4.14   \n",
       "11                                      Veronica Roth            4.24   \n",
       "13                                      George Orwell            3.87   \n",
       "17            J.K. Rowling, Mary GrandPré, Rufus Beck            4.53   \n",
       "\n",
       "    ratings_count  work_text_reviews_count  \n",
       "0         4780653                   155254  \n",
       "1         4602479                    75867  \n",
       "2         3866839                    95009  \n",
       "3         3198671                    72586  \n",
       "4         2683664                    51992  \n",
       "5         2346404                   140739  \n",
       "6         2071616                    37653  \n",
       "7         2044241                    44920  \n",
       "9         2035490                    49152  \n",
       "8         2001311                    25112  \n",
       "14        1972666                    20825  \n",
       "12        1956832                    45518  \n",
       "11        1903563                   101023  \n",
       "13        1881700                    35472  \n",
       "17        1832823                    36099  "
      ]
     },
     "execution_count": 17,
     "metadata": {},
     "output_type": "execute_result"
    }
   ],
   "source": [
    "book_sorted_ratings_count = books.sort_values('ratings_count', ascending=False)\n",
    "book_sorted_ratings_count[important_columns].head(15)"
   ]
  },
  {
   "cell_type": "code",
   "execution_count": 18,
   "metadata": {},
   "outputs": [
    {
     "data": {
      "image/png": "[encoded data removed]",
      "text/plain": [
       "<Figure size 864x504 with 1 Axes>"
      ]
     },
     "metadata": {
      "needs_background": "light"
     },
     "output_type": "display_data"
    }
   ],
   "source": [
    "plot_books_by(book_sorted_ratings_count, 'ratings_count', 10)"
   ]
  },
  {
   "cell_type": "markdown",
   "metadata": {},
   "source": [
    "### Top Text-Reviewed Books"
   ]
  },
  {
   "cell_type": "code",
   "execution_count": 19,
   "metadata": {},
   "outputs": [
    {
     "data": {
      "text/html": [
       "<div>\n",
       "<style scoped>\n",
       "    .dataframe tbody tr th:only-of-type {\n",
       "        vertical-align: middle;\n",
       "    }\n",
       "\n",
       "    .dataframe tbody tr th {\n",
       "        vertical-align: top;\n",
       "    }\n",
       "\n",
       "    .dataframe thead th {\n",
       "        text-align: right;\n",
       "    }\n",
       "</style>\n",
       "<table border=\"1\" class=\"dataframe\">\n",
       "  <thead>\n",
       "    <tr style=\"text-align: right;\">\n",
       "      <th></th>\n",
       "      <th>title</th>\n",
       "      <th>authors</th>\n",
       "      <th>average_rating</th>\n",
       "      <th>ratings_count</th>\n",
       "      <th>work_text_reviews_count</th>\n",
       "    </tr>\n",
       "  </thead>\n",
       "  <tbody>\n",
       "    <tr>\n",
       "      <th>0</th>\n",
       "      <td>The Hunger Games (The Hunger Games, #1)</td>\n",
       "      <td>Suzanne Collins</td>\n",
       "      <td>4.34</td>\n",
       "      <td>4780653</td>\n",
       "      <td>155254</td>\n",
       "    </tr>\n",
       "    <tr>\n",
       "      <th>5</th>\n",
       "      <td>The Fault in Our Stars</td>\n",
       "      <td>John Green</td>\n",
       "      <td>4.26</td>\n",
       "      <td>2346404</td>\n",
       "      <td>140739</td>\n",
       "    </tr>\n",
       "    <tr>\n",
       "      <th>29</th>\n",
       "      <td>Gone Girl</td>\n",
       "      <td>Gillian Flynn</td>\n",
       "      <td>4.03</td>\n",
       "      <td>512475</td>\n",
       "      <td>121614</td>\n",
       "    </tr>\n",
       "    <tr>\n",
       "      <th>11</th>\n",
       "      <td>Divergent (Divergent, #1)</td>\n",
       "      <td>Veronica Roth</td>\n",
       "      <td>4.24</td>\n",
       "      <td>1903563</td>\n",
       "      <td>101023</td>\n",
       "    </tr>\n",
       "    <tr>\n",
       "      <th>19</th>\n",
       "      <td>Mockingjay (The Hunger Games, #3)</td>\n",
       "      <td>Suzanne Collins</td>\n",
       "      <td>4.03</td>\n",
       "      <td>1719760</td>\n",
       "      <td>96274</td>\n",
       "    </tr>\n",
       "    <tr>\n",
       "      <th>2</th>\n",
       "      <td>Twilight (Twilight, #1)</td>\n",
       "      <td>Stephenie Meyer</td>\n",
       "      <td>3.57</td>\n",
       "      <td>3866839</td>\n",
       "      <td>95009</td>\n",
       "    </tr>\n",
       "    <tr>\n",
       "      <th>46</th>\n",
       "      <td>The Book Thief</td>\n",
       "      <td>Markus Zusak</td>\n",
       "      <td>4.36</td>\n",
       "      <td>1159741</td>\n",
       "      <td>93611</td>\n",
       "    </tr>\n",
       "    <tr>\n",
       "      <th>60</th>\n",
       "      <td>The Girl on the Train</td>\n",
       "      <td>Paula Hawkins</td>\n",
       "      <td>3.88</td>\n",
       "      <td>1008778</td>\n",
       "      <td>93600</td>\n",
       "    </tr>\n",
       "    <tr>\n",
       "      <th>16</th>\n",
       "      <td>Catching Fire (The Hunger Games, #2)</td>\n",
       "      <td>Suzanne Collins</td>\n",
       "      <td>4.30</td>\n",
       "      <td>1831039</td>\n",
       "      <td>88538</td>\n",
       "    </tr>\n",
       "    <tr>\n",
       "      <th>30</th>\n",
       "      <td>The Help</td>\n",
       "      <td>Kathryn Stockett</td>\n",
       "      <td>4.45</td>\n",
       "      <td>1531753</td>\n",
       "      <td>78204</td>\n",
       "    </tr>\n",
       "    <tr>\n",
       "      <th>1</th>\n",
       "      <td>Harry Potter and the Sorcerer's Stone (Harry P...</td>\n",
       "      <td>J.K. Rowling, Mary GrandPré</td>\n",
       "      <td>4.44</td>\n",
       "      <td>4602479</td>\n",
       "      <td>75867</td>\n",
       "    </tr>\n",
       "    <tr>\n",
       "      <th>33</th>\n",
       "      <td>Fifty Shades of Grey (Fifty Shades, #1)</td>\n",
       "      <td>E.L. James</td>\n",
       "      <td>3.67</td>\n",
       "      <td>1338493</td>\n",
       "      <td>75437</td>\n",
       "    </tr>\n",
       "    <tr>\n",
       "      <th>3</th>\n",
       "      <td>To Kill a Mockingbird</td>\n",
       "      <td>Harper Lee</td>\n",
       "      <td>4.25</td>\n",
       "      <td>3198671</td>\n",
       "      <td>72586</td>\n",
       "    </tr>\n",
       "    <tr>\n",
       "      <th>111</th>\n",
       "      <td>Me Before You (Me Before You, #1)</td>\n",
       "      <td>Jojo Moyes</td>\n",
       "      <td>4.27</td>\n",
       "      <td>587647</td>\n",
       "      <td>71412</td>\n",
       "    </tr>\n",
       "    <tr>\n",
       "      <th>15</th>\n",
       "      <td>The Girl with the Dragon Tattoo (Millennium, #1)</td>\n",
       "      <td>Stieg Larsson, Reg Keeland</td>\n",
       "      <td>4.11</td>\n",
       "      <td>1808403</td>\n",
       "      <td>62543</td>\n",
       "    </tr>\n",
       "  </tbody>\n",
       "</table>\n",
       "</div>"
      ],
      "text/plain": [
       "                                                 title  \\\n",
       "0              The Hunger Games (The Hunger Games, #1)   \n",
       "5                               The Fault in Our Stars   \n",
       "29                                           Gone Girl   \n",
       "11                           Divergent (Divergent, #1)   \n",
       "19                   Mockingjay (The Hunger Games, #3)   \n",
       "2                              Twilight (Twilight, #1)   \n",
       "46                                      The Book Thief   \n",
       "60                               The Girl on the Train   \n",
       "16                Catching Fire (The Hunger Games, #2)   \n",
       "30                                            The Help   \n",
       "1    Harry Potter and the Sorcerer's Stone (Harry P...   \n",
       "33             Fifty Shades of Grey (Fifty Shades, #1)   \n",
       "3                                To Kill a Mockingbird   \n",
       "111                  Me Before You (Me Before You, #1)   \n",
       "15    The Girl with the Dragon Tattoo (Millennium, #1)   \n",
       "\n",
       "                         authors  average_rating  ratings_count  \\\n",
       "0                Suzanne Collins            4.34        4780653   \n",
       "5                     John Green            4.26        2346404   \n",
       "29                 Gillian Flynn            4.03         512475   \n",
       "11                 Veronica Roth            4.24        1903563   \n",
       "19               Suzanne Collins            4.03        1719760   \n",
       "2                Stephenie Meyer            3.57        3866839   \n",
       "46                  Markus Zusak            4.36        1159741   \n",
       "60                 Paula Hawkins            3.88        1008778   \n",
       "16               Suzanne Collins            4.30        1831039   \n",
       "30              Kathryn Stockett            4.45        1531753   \n",
       "1    J.K. Rowling, Mary GrandPré            4.44        4602479   \n",
       "33                    E.L. James            3.67        1338493   \n",
       "3                     Harper Lee            4.25        3198671   \n",
       "111                   Jojo Moyes            4.27         587647   \n",
       "15    Stieg Larsson, Reg Keeland            4.11        1808403   \n",
       "\n",
       "     work_text_reviews_count  \n",
       "0                     155254  \n",
       "5                     140739  \n",
       "29                    121614  \n",
       "11                    101023  \n",
       "19                     96274  \n",
       "2                      95009  \n",
       "46                     93611  \n",
       "60                     93600  \n",
       "16                     88538  \n",
       "30                     78204  \n",
       "1                      75867  \n",
       "33                     75437  \n",
       "3                      72586  \n",
       "111                    71412  \n",
       "15                     62543  "
      ]
     },
     "execution_count": 19,
     "metadata": {},
     "output_type": "execute_result"
    }
   ],
   "source": [
    "book_sorted_reviews_count = books[books['ratings_count']>=1000].sort_values('work_text_reviews_count', ascending=False)\n",
    "book_sorted_reviews_count[important_columns].head(15)"
   ]
  },
  {
   "cell_type": "code",
   "execution_count": 20,
   "metadata": {},
   "outputs": [
    {
     "data": {
      "image/png": "[encoded data removed]",
      "text/plain": [
       "<Figure size 864x504 with 1 Axes>"
      ]
     },
     "metadata": {
      "needs_background": "light"
     },
     "output_type": "display_data"
    }
   ],
   "source": [
    "plot_books_by(book_sorted_reviews_count, 'work_text_reviews_count', 10)"
   ]
  },
  {
   "cell_type": "markdown",
   "metadata": {},
   "source": [
    "### Language"
   ]
  },
  {
   "cell_type": "code",
   "execution_count": 21,
   "metadata": {},
   "outputs": [
    {
     "data": {
      "image/png": "[encoded data removed]",
      "text/plain": [
       "<Figure size 1152x576 with 1 Axes>"
      ]
     },
     "metadata": {
      "needs_background": "light"
     },
     "output_type": "display_data"
    }
   ],
   "source": [
    "plt.figure(figsize=(16,8))\n",
    "ax = books.groupby('language_code')['title'].count().plot.bar()\n",
    "plt.title('Language Code')\n",
    "plt.xticks(fontsize = 15)\n",
    "for p in ax.patches:\n",
    "    ax.annotate(str(p.get_height()), (p.get_x()-0.3, p.get_height()+100))"
   ]
  },
  {
   "cell_type": "markdown",
   "metadata": {},
   "source": [
    "### Publication Year"
   ]
  },
  {
   "cell_type": "code",
   "execution_count": 22,
   "metadata": {},
   "outputs": [
    {
     "data": {
      "text/plain": [
       "<matplotlib.axes._subplots.AxesSubplot at 0x1a1c218f10>"
      ]
     },
     "execution_count": 22,
     "metadata": {},
     "output_type": "execute_result"
    },
    {
     "data": {
      "image/png": "[encoded data removed]",
      "text/plain": [
       "<Figure size 1296x360 with 1 Axes>"
      ]
     },
     "metadata": {
      "needs_background": "light"
     },
     "output_type": "display_data"
    }
   ],
   "source": [
    "books['original_publication_year'] = books['original_publication_year'].astype(int)\n",
    "year_count = books.groupby('original_publication_year')['title'].count()\n",
    "plt.figure(figsize=(18,5))\n",
    "year_count.plot()"
   ]
  },
  {
   "cell_type": "markdown",
   "metadata": {},
   "source": [
    "books released after the year 1900"
   ]
  },
  {
   "cell_type": "code",
   "execution_count": 23,
   "metadata": {},
   "outputs": [
    {
     "data": {
      "image/png": "[encoded data removed]",
      "text/plain": [
       "<Figure size 1296x360 with 1 Axes>"
      ]
     },
     "metadata": {
      "needs_background": "light"
     },
     "output_type": "display_data"
    }
   ],
   "source": [
    "plt.figure(figsize=(18,5))\n",
    "year_count[year_count.index > 1900].plot();"
   ]
  },
  {
   "cell_type": "markdown",
   "metadata": {},
   "source": [
    "books released after the year 2000"
   ]
  },
  {
   "cell_type": "code",
   "execution_count": 24,
   "metadata": {},
   "outputs": [
    {
     "data": {
      "text/plain": [
       "original_publication_year\n",
       "2003    237\n",
       "2004    254\n",
       "2005    266\n",
       "2006    299\n",
       "2007    312\n",
       "2008    333\n",
       "2009    379\n",
       "2010    376\n",
       "2011    402\n",
       "2012    361\n",
       "2013    337\n",
       "2014    308\n",
       "2015    201\n",
       "Name: title, dtype: int64"
      ]
     },
     "execution_count": 24,
     "metadata": {},
     "output_type": "execute_result"
    }
   ],
   "source": [
    "books.groupby('original_publication_year')['title'].count()[books.groupby('original_publication_year')['title'].count()>200]"
   ]
  },
  {
   "cell_type": "code",
   "execution_count": 25,
   "metadata": {},
   "outputs": [
    {
     "data": {
      "text/html": [
       "<div>\n",
       "<style scoped>\n",
       "    .dataframe tbody tr th:only-of-type {\n",
       "        vertical-align: middle;\n",
       "    }\n",
       "\n",
       "    .dataframe tbody tr th {\n",
       "        vertical-align: top;\n",
       "    }\n",
       "\n",
       "    .dataframe thead th {\n",
       "        text-align: right;\n",
       "    }\n",
       "</style>\n",
       "<table border=\"1\" class=\"dataframe\">\n",
       "  <thead>\n",
       "    <tr style=\"text-align: right;\">\n",
       "      <th></th>\n",
       "      <th>title</th>\n",
       "      <th>original_publication_year</th>\n",
       "    </tr>\n",
       "  </thead>\n",
       "  <tbody>\n",
       "    <tr>\n",
       "      <th>2075</th>\n",
       "      <td>The Epic of Gilgamesh</td>\n",
       "      <td>-1750</td>\n",
       "    </tr>\n",
       "    <tr>\n",
       "      <th>2141</th>\n",
       "      <td>The Iliad/The Odyssey</td>\n",
       "      <td>-762</td>\n",
       "    </tr>\n",
       "    <tr>\n",
       "      <th>340</th>\n",
       "      <td>The Iliad</td>\n",
       "      <td>-750</td>\n",
       "    </tr>\n",
       "    <tr>\n",
       "      <th>6165</th>\n",
       "      <td>The I Ching or Book of Changes</td>\n",
       "      <td>-750</td>\n",
       "    </tr>\n",
       "    <tr>\n",
       "      <th>78</th>\n",
       "      <td>The Odyssey</td>\n",
       "      <td>-720</td>\n",
       "    </tr>\n",
       "    <tr>\n",
       "      <th>1119</th>\n",
       "      <td>Aesop's Fables</td>\n",
       "      <td>-560</td>\n",
       "    </tr>\n",
       "    <tr>\n",
       "      <th>9678</th>\n",
       "      <td>The Upanishads: Translations from the Sanskrit</td>\n",
       "      <td>-500</td>\n",
       "    </tr>\n",
       "    <tr>\n",
       "      <th>402</th>\n",
       "      <td>The Art of War</td>\n",
       "      <td>-500</td>\n",
       "    </tr>\n",
       "    <tr>\n",
       "      <th>5636</th>\n",
       "      <td>The Dhammapada</td>\n",
       "      <td>-500</td>\n",
       "    </tr>\n",
       "    <tr>\n",
       "      <th>7777</th>\n",
       "      <td>The Analects</td>\n",
       "      <td>-476</td>\n",
       "    </tr>\n",
       "  </tbody>\n",
       "</table>\n",
       "</div>"
      ],
      "text/plain": [
       "                                               title  \\\n",
       "2075                           The Epic of Gilgamesh   \n",
       "2141                           The Iliad/The Odyssey   \n",
       "340                                        The Iliad   \n",
       "6165                  The I Ching or Book of Changes   \n",
       "78                                       The Odyssey   \n",
       "1119                                  Aesop's Fables   \n",
       "9678  The Upanishads: Translations from the Sanskrit   \n",
       "402                                   The Art of War   \n",
       "5636                                  The Dhammapada   \n",
       "7777                                    The Analects   \n",
       "\n",
       "      original_publication_year  \n",
       "2075                      -1750  \n",
       "2141                       -762  \n",
       "340                        -750  \n",
       "6165                       -750  \n",
       "78                         -720  \n",
       "1119                       -560  \n",
       "9678                       -500  \n",
       "402                        -500  \n",
       "5636                       -500  \n",
       "7777                       -476  "
      ]
     },
     "execution_count": 25,
     "metadata": {},
     "output_type": "execute_result"
    }
   ],
   "source": [
    "books[['title', 'original_publication_year']].sort_values('original_publication_year').head(10)"
   ]
  },
  {
   "cell_type": "code",
   "execution_count": 26,
   "metadata": {},
   "outputs": [
    {
     "data": {
      "text/html": [
       "<div>\n",
       "<style scoped>\n",
       "    .dataframe tbody tr th:only-of-type {\n",
       "        vertical-align: middle;\n",
       "    }\n",
       "\n",
       "    .dataframe tbody tr th {\n",
       "        vertical-align: top;\n",
       "    }\n",
       "\n",
       "    .dataframe thead th {\n",
       "        text-align: right;\n",
       "    }\n",
       "</style>\n",
       "<table border=\"1\" class=\"dataframe\">\n",
       "  <thead>\n",
       "    <tr style=\"text-align: right;\">\n",
       "      <th></th>\n",
       "      <th>book_id</th>\n",
       "      <th>title</th>\n",
       "      <th>original_publication_year</th>\n",
       "    </tr>\n",
       "  </thead>\n",
       "  <tbody>\n",
       "    <tr>\n",
       "      <th>6427</th>\n",
       "      <td>6428</td>\n",
       "      <td>Short Stories from Hogwarts of Heroism, Hardsh...</td>\n",
       "      <td>2016</td>\n",
       "    </tr>\n",
       "    <tr>\n",
       "      <th>8043</th>\n",
       "      <td>8044</td>\n",
       "      <td>Holding Up the Universe</td>\n",
       "      <td>2016</td>\n",
       "    </tr>\n",
       "    <tr>\n",
       "      <th>1785</th>\n",
       "      <td>1786</td>\n",
       "      <td>Before the Fall</td>\n",
       "      <td>2016</td>\n",
       "    </tr>\n",
       "    <tr>\n",
       "      <th>8684</th>\n",
       "      <td>8685</td>\n",
       "      <td>Behind Her Eyes</td>\n",
       "      <td>2017</td>\n",
       "    </tr>\n",
       "    <tr>\n",
       "      <th>7559</th>\n",
       "      <td>7560</td>\n",
       "      <td>Caraval</td>\n",
       "      <td>2017</td>\n",
       "    </tr>\n",
       "    <tr>\n",
       "      <th>7466</th>\n",
       "      <td>7467</td>\n",
       "      <td>The Girl Before</td>\n",
       "      <td>2017</td>\n",
       "    </tr>\n",
       "    <tr>\n",
       "      <th>7372</th>\n",
       "      <td>7373</td>\n",
       "      <td>A Court of Wings and Ruin (A Court of Thorns a...</td>\n",
       "      <td>2017</td>\n",
       "    </tr>\n",
       "    <tr>\n",
       "      <th>7447</th>\n",
       "      <td>7448</td>\n",
       "      <td>King's Cage (Red Queen, #3)</td>\n",
       "      <td>2017</td>\n",
       "    </tr>\n",
       "    <tr>\n",
       "      <th>9391</th>\n",
       "      <td>9392</td>\n",
       "      <td>Lincoln in the Bardo</td>\n",
       "      <td>2017</td>\n",
       "    </tr>\n",
       "    <tr>\n",
       "      <th>9568</th>\n",
       "      <td>9569</td>\n",
       "      <td>The Hate U Give</td>\n",
       "      <td>2017</td>\n",
       "    </tr>\n",
       "  </tbody>\n",
       "</table>\n",
       "</div>"
      ],
      "text/plain": [
       "      book_id                                              title  \\\n",
       "6427     6428  Short Stories from Hogwarts of Heroism, Hardsh...   \n",
       "8043     8044                            Holding Up the Universe   \n",
       "1785     1786                                    Before the Fall   \n",
       "8684     8685                                    Behind Her Eyes   \n",
       "7559     7560                                            Caraval   \n",
       "7466     7467                                    The Girl Before   \n",
       "7372     7373  A Court of Wings and Ruin (A Court of Thorns a...   \n",
       "7447     7448                        King's Cage (Red Queen, #3)   \n",
       "9391     9392                               Lincoln in the Bardo   \n",
       "9568     9569                                    The Hate U Give   \n",
       "\n",
       "      original_publication_year  \n",
       "6427                       2016  \n",
       "8043                       2016  \n",
       "1785                       2016  \n",
       "8684                       2017  \n",
       "7559                       2017  \n",
       "7466                       2017  \n",
       "7372                       2017  \n",
       "7447                       2017  \n",
       "9391                       2017  \n",
       "9568                       2017  "
      ]
     },
     "execution_count": 26,
     "metadata": {},
     "output_type": "execute_result"
    }
   ],
   "source": [
    "books[['book_id', 'title', 'original_publication_year']].sort_values('original_publication_year').tail(10)"
   ]
  },
  {
   "cell_type": "markdown",
   "metadata": {},
   "source": [
    "## Authors"
   ]
  },
  {
   "cell_type": "code",
   "execution_count": 27,
   "metadata": {},
   "outputs": [
    {
     "data": {
      "text/plain": [
       "Nora Roberts                                58\n",
       "Stephen King                                53\n",
       "Terry Pratchett                             40\n",
       "Agatha Christie                             38\n",
       "Dean Koontz                                 34\n",
       "                                            ..\n",
       "Gayle Tzemach Lemmon                         1\n",
       "A.W. Tozer                                   1\n",
       "Beverly Cleary, Tracy Dockray                1\n",
       "Steve Perry, Tom Clancy, Steve Pieczenik     1\n",
       "Jacqueline Davies                            1\n",
       "Name: authors, Length: 3757, dtype: int64"
      ]
     },
     "execution_count": 27,
     "metadata": {},
     "output_type": "execute_result"
    }
   ],
   "source": [
    "books.authors.value_counts()"
   ]
  },
  {
   "cell_type": "code",
   "execution_count": 28,
   "metadata": {},
   "outputs": [
    {
     "data": {
      "text/plain": [
       "['Agatha Christie',\n",
       " 'Agatha Christie, Ροζίτα Σώκου',\n",
       " 'Agatha Christie',\n",
       " 'Agatha Christie',\n",
       " 'Agatha Christie',\n",
       " 'Agatha Christie',\n",
       " 'Agatha Christie',\n",
       " 'Agatha Christie',\n",
       " 'Agatha Christie',\n",
       " 'Agatha Christie',\n",
       " 'Agatha Christie',\n",
       " 'Agatha Christie',\n",
       " 'Agatha Christie',\n",
       " 'Agatha Christie',\n",
       " 'Agatha Christie',\n",
       " 'Agatha Christie',\n",
       " 'Agatha Christie',\n",
       " 'Agatha Christie',\n",
       " 'Agatha Christie',\n",
       " 'Agatha Christie',\n",
       " 'Agatha Christie',\n",
       " 'Agatha Christie',\n",
       " 'Agatha Christie',\n",
       " 'Agatha Christie',\n",
       " 'Agatha Christie',\n",
       " 'Agatha Christie',\n",
       " 'Agatha Christie',\n",
       " 'Agatha Christie',\n",
       " 'Agatha Christie',\n",
       " 'Agatha Christie',\n",
       " 'Agatha Christie',\n",
       " 'Agatha Christie',\n",
       " 'Agatha Christie',\n",
       " 'Mary Westmacott, Agatha Christie',\n",
       " 'Agatha Christie',\n",
       " 'Agatha Christie',\n",
       " 'Agatha Christie',\n",
       " 'Agatha Christie',\n",
       " 'Agatha Christie',\n",
       " 'Agatha Christie, Hugh Fraser',\n",
       " 'Agatha Christie, Robin Bailey',\n",
       " 'Agatha Christie']"
      ]
     },
     "execution_count": 28,
     "metadata": {},
     "output_type": "execute_result"
    }
   ],
   "source": [
    "c = []\n",
    "books.authors.apply(lambda x: c.append(x) if 'Agatha Christie' in x else [])\n",
    "c"
   ]
  },
  {
   "cell_type": "code",
   "execution_count": 29,
   "metadata": {},
   "outputs": [
    {
     "name": "stdout",
     "output_type": "stream",
     "text": [
      "The real number of books (int the data) for Agatha Christie is 42 not 38.\n"
     ]
    }
   ],
   "source": [
    "print('The real number of books (int the data) for Agatha Christie is {} not {}.'.format(len(c),books.authors.value_counts()['Agatha Christie']))"
   ]
  },
  {
   "cell_type": "code",
   "execution_count": 30,
   "metadata": {},
   "outputs": [
    {
     "data": {
      "text/plain": [
       "['J.K. Rowling, Mary GrandPré',\n",
       " 'George Orwell, Erich Fromm, Celâl Üster',\n",
       " 'Anne Frank, Eleanor Roosevelt, B.M. Mooyaart-Doubleday',\n",
       " 'Stieg Larsson, Reg Keeland',\n",
       " 'J.K. Rowling, Mary GrandPré, Rufus Beck',\n",
       " 'J.K. Rowling, Mary GrandPré',\n",
       " 'J.K. Rowling, Mary GrandPré',\n",
       " 'J.K. Rowling, Mary GrandPré',\n",
       " 'J.K. Rowling, Mary GrandPré',\n",
       " 'J.K. Rowling, Mary GrandPré']"
      ]
     },
     "execution_count": 30,
     "metadata": {},
     "output_type": "execute_result"
    }
   ],
   "source": [
    "a = []\n",
    "books.authors.apply(lambda x: a.append(x) if ',' in x else [])\n",
    "a[:10]"
   ]
  },
  {
   "cell_type": "code",
   "execution_count": 31,
   "metadata": {},
   "outputs": [
    {
     "name": "stdout",
     "output_type": "stream",
     "text": [
      "Number of books with multi-authors is 1666.\n"
     ]
    }
   ],
   "source": [
    "print('Number of books with multi-authors is {}.'.format(len(a)))"
   ]
  },
  {
   "cell_type": "code",
   "execution_count": 32,
   "metadata": {},
   "outputs": [
    {
     "data": {
      "text/plain": [
       "0                  Suzanne Collins\n",
       "1    [J.K. Rowling, Mary GrandPré]\n",
       "2                  Stephenie Meyer\n",
       "3                       Harper Lee\n",
       "4              F. Scott Fitzgerald\n",
       "Name: authors, dtype: object"
      ]
     },
     "execution_count": 32,
     "metadata": {},
     "output_type": "execute_result"
    }
   ],
   "source": [
    "authors_list = books['authors'].apply(lambda x: [a for a in x.split(', ')] if ',' in x else x)\n",
    "authors_list.head()"
   ]
  },
  {
   "cell_type": "code",
   "execution_count": 33,
   "metadata": {},
   "outputs": [
    {
     "data": {
      "text/plain": [
       "0    Suzanne Collins\n",
       "1       J.K. Rowling\n",
       "1      Mary GrandPré\n",
       "2    Stephenie Meyer\n",
       "3         Harper Lee\n",
       "Name: authors, dtype: object"
      ]
     },
     "execution_count": 33,
     "metadata": {},
     "output_type": "execute_result"
    }
   ],
   "source": [
    "#memisahkan authors \n",
    "splitted_authors = authors_list.apply(lambda x: pd.Series(x)).stack().reset_index(level=1, drop=True)\n",
    "splitted_authors.name = 'authors'\n",
    "splitted_authors.head()"
   ]
  },
  {
   "cell_type": "code",
   "execution_count": 34,
   "metadata": {},
   "outputs": [
    {
     "data": {
      "text/html": [
       "<div>\n",
       "<style scoped>\n",
       "    .dataframe tbody tr th:only-of-type {\n",
       "        vertical-align: middle;\n",
       "    }\n",
       "\n",
       "    .dataframe tbody tr th {\n",
       "        vertical-align: top;\n",
       "    }\n",
       "\n",
       "    .dataframe thead th {\n",
       "        text-align: right;\n",
       "    }\n",
       "</style>\n",
       "<table border=\"1\" class=\"dataframe\">\n",
       "  <thead>\n",
       "    <tr style=\"text-align: right;\">\n",
       "      <th></th>\n",
       "      <th>title</th>\n",
       "      <th>average_rating</th>\n",
       "      <th>ratings_count</th>\n",
       "      <th>work_text_reviews_count</th>\n",
       "      <th>authors</th>\n",
       "    </tr>\n",
       "  </thead>\n",
       "  <tbody>\n",
       "    <tr>\n",
       "      <th>0</th>\n",
       "      <td>The Hunger Games (The Hunger Games, #1)</td>\n",
       "      <td>4.34</td>\n",
       "      <td>4780653</td>\n",
       "      <td>155254</td>\n",
       "      <td>Suzanne Collins</td>\n",
       "    </tr>\n",
       "    <tr>\n",
       "      <th>1</th>\n",
       "      <td>Harry Potter and the Sorcerer's Stone (Harry P...</td>\n",
       "      <td>4.44</td>\n",
       "      <td>4602479</td>\n",
       "      <td>75867</td>\n",
       "      <td>J.K. Rowling</td>\n",
       "    </tr>\n",
       "    <tr>\n",
       "      <th>1</th>\n",
       "      <td>Harry Potter and the Sorcerer's Stone (Harry P...</td>\n",
       "      <td>4.44</td>\n",
       "      <td>4602479</td>\n",
       "      <td>75867</td>\n",
       "      <td>Mary GrandPré</td>\n",
       "    </tr>\n",
       "    <tr>\n",
       "      <th>2</th>\n",
       "      <td>Twilight (Twilight, #1)</td>\n",
       "      <td>3.57</td>\n",
       "      <td>3866839</td>\n",
       "      <td>95009</td>\n",
       "      <td>Stephenie Meyer</td>\n",
       "    </tr>\n",
       "    <tr>\n",
       "      <th>3</th>\n",
       "      <td>To Kill a Mockingbird</td>\n",
       "      <td>4.25</td>\n",
       "      <td>3198671</td>\n",
       "      <td>72586</td>\n",
       "      <td>Harper Lee</td>\n",
       "    </tr>\n",
       "  </tbody>\n",
       "</table>\n",
       "</div>"
      ],
      "text/plain": [
       "                                               title  average_rating  \\\n",
       "0            The Hunger Games (The Hunger Games, #1)            4.34   \n",
       "1  Harry Potter and the Sorcerer's Stone (Harry P...            4.44   \n",
       "1  Harry Potter and the Sorcerer's Stone (Harry P...            4.44   \n",
       "2                            Twilight (Twilight, #1)            3.57   \n",
       "3                              To Kill a Mockingbird            4.25   \n",
       "\n",
       "   ratings_count  work_text_reviews_count          authors  \n",
       "0        4780653                   155254  Suzanne Collins  \n",
       "1        4602479                    75867     J.K. Rowling  \n",
       "1        4602479                    75867    Mary GrandPré  \n",
       "2        3866839                    95009  Stephenie Meyer  \n",
       "3        3198671                    72586       Harper Lee  "
      ]
     },
     "execution_count": 34,
     "metadata": {},
     "output_type": "execute_result"
    }
   ],
   "source": [
    "books_edited_authors = books[important_columns].drop('authors', axis=1).join(splitted_authors)\n",
    "books_edited_authors.head()"
   ]
  },
  {
   "cell_type": "code",
   "execution_count": 35,
   "metadata": {},
   "outputs": [
    {
     "data": {
      "text/plain": [
       "((7860, 23), (10507, 5))"
      ]
     },
     "execution_count": 35,
     "metadata": {},
     "output_type": "execute_result"
    }
   ],
   "source": [
    "books.shape, books_edited_authors.shape"
   ]
  },
  {
   "cell_type": "code",
   "execution_count": 36,
   "metadata": {},
   "outputs": [
    {
     "data": {
      "text/plain": [
       "Stephen King            85\n",
       "James Patterson         81\n",
       "Nora Roberts            63\n",
       "Dean Koontz             50\n",
       "Terry Pratchett         46\n",
       "                        ..\n",
       "Robert Siegel            1\n",
       "Gayle Tzemach Lemmon     1\n",
       "A.W. Tozer               1\n",
       "Gerald McCann            1\n",
       "Jacqueline Davies        1\n",
       "Name: authors, Length: 4806, dtype: int64"
      ]
     },
     "execution_count": 36,
     "metadata": {},
     "output_type": "execute_result"
    }
   ],
   "source": [
    "books_edited_authors.authors.value_counts()"
   ]
  },
  {
   "cell_type": "markdown",
   "metadata": {},
   "source": [
    "We can see now the difference as the previous largest number of books was 58 for Nora Robets now it's 85 for Stephen King"
   ]
  },
  {
   "cell_type": "code",
   "execution_count": 37,
   "metadata": {},
   "outputs": [],
   "source": [
    "def plot_authors_by(df, title, xlabel, n=15, ylabel='Author', y_size=7):\n",
    "    plt.figure(figsize=(15,y_size))\n",
    "    ax = sns.barplot(x=df.head(n).values, y=df.head(n).index)\n",
    "    plt.title(title, weight='bold')\n",
    "    plt.xlabel(xlabel)\n",
    "    plt.ylabel(ylabel)"
   ]
  },
  {
   "cell_type": "markdown",
   "metadata": {},
   "source": [
    "### Authors with most books"
   ]
  },
  {
   "cell_type": "code",
   "execution_count": 38,
   "metadata": {},
   "outputs": [
    {
     "data": {
      "text/plain": [
       "Stephen King           85\n",
       "James Patterson        81\n",
       "Nora Roberts           63\n",
       "Dean Koontz            50\n",
       "Terry Pratchett        46\n",
       "Agatha Christie        42\n",
       "J.D. Robb              40\n",
       "Neil Gaiman            40\n",
       "Janet Evanovich        33\n",
       "Meg Cabot              33\n",
       "David Baldacci         31\n",
       "Laurell K. Hamilton    30\n",
       "Anne Rice              30\n",
       "John Grisham           27\n",
       "Michael Connelly       27\n",
       "Name: authors, dtype: int64"
      ]
     },
     "execution_count": 38,
     "metadata": {},
     "output_type": "execute_result"
    }
   ],
   "source": [
    "authors_most_with_books = books_edited_authors.authors.value_counts()\n",
    "authors_most_with_books.head(15)"
   ]
  },
  {
   "cell_type": "code",
   "execution_count": 39,
   "metadata": {},
   "outputs": [
    {
     "data": {
      "image/png": "[encoded data removed]",
      "text/plain": [
       "<Figure size 1080x504 with 1 Axes>"
      ]
     },
     "metadata": {
      "needs_background": "light"
     },
     "output_type": "display_data"
    }
   ],
   "source": [
    "plot_authors_by(authors_most_with_books, 'Authors with most books', 'Number of Books', 30)"
   ]
  },
  {
   "cell_type": "markdown",
   "metadata": {},
   "source": [
    "For coming analysis we need to filter authors by their number of books & total ratings count, as for an author (with just one book and few ratings of 5), won't be the same for a popular author with avrage-rating of maybe 4.5."
   ]
  },
  {
   "cell_type": "code",
   "execution_count": 40,
   "metadata": {},
   "outputs": [],
   "source": [
    "def at_least_books(df, n):\n",
    "    more_than_n = books_edited_authors['authors'].value_counts().values >= n\n",
    "    return df['authors'].isin(df['authors'].value_counts()[more_than_n == True].index)"
   ]
  },
  {
   "cell_type": "code",
   "execution_count": 41,
   "metadata": {},
   "outputs": [],
   "source": [
    "def at_least_ratings_count(df, n):\n",
    "    return df.ratings_count >= n"
   ]
  },
  {
   "cell_type": "code",
   "execution_count": 42,
   "metadata": {},
   "outputs": [
    {
     "data": {
      "text/plain": [
       "0     True\n",
       "1     True\n",
       "1     True\n",
       "2     True\n",
       "3    False\n",
       "Name: authors, dtype: bool"
      ]
     },
     "execution_count": 42,
     "metadata": {},
     "output_type": "execute_result"
    }
   ],
   "source": [
    "at_least_books(books_edited_authors, 5).head()"
   ]
  },
  {
   "cell_type": "code",
   "execution_count": 43,
   "metadata": {},
   "outputs": [
    {
     "data": {
      "text/plain": [
       "0    True\n",
       "1    True\n",
       "1    True\n",
       "2    True\n",
       "3    True\n",
       "Name: ratings_count, dtype: bool"
      ]
     },
     "execution_count": 43,
     "metadata": {},
     "output_type": "execute_result"
    }
   ],
   "source": [
    "at_least_ratings_count(books_edited_authors, 10000).head()"
   ]
  },
  {
   "cell_type": "markdown",
   "metadata": {},
   "source": [
    "Here we do some analysis trying to pick up suitable parameters for functions above."
   ]
  },
  {
   "cell_type": "code",
   "execution_count": 44,
   "metadata": {},
   "outputs": [
    {
     "data": {
      "text/plain": [
       "count    4806.000000\n",
       "mean        2.186226\n",
       "std         3.635996\n",
       "min         1.000000\n",
       "25%         1.000000\n",
       "50%         1.000000\n",
       "75%         2.000000\n",
       "max        85.000000\n",
       "Name: authors, dtype: float64"
      ]
     },
     "execution_count": 44,
     "metadata": {},
     "output_type": "execute_result"
    }
   ],
   "source": [
    "books_edited_authors['authors'].value_counts().describe()"
   ]
  },
  {
   "cell_type": "code",
   "execution_count": 45,
   "metadata": {},
   "outputs": [
    {
     "data": {
      "image/png": "[encoded data removed]",
      "text/plain": [
       "<Figure size 720x360 with 1 Axes>"
      ]
     },
     "metadata": {
      "needs_background": "light"
     },
     "output_type": "display_data"
    }
   ],
   "source": [
    "plt.figure(figsize=(10,5))\n",
    "plt.hist(books_edited_authors.authors.value_counts().values);\n",
    "plt.xlabel('number of books');\n",
    "plt.ylabel('count');"
   ]
  },
  {
   "cell_type": "code",
   "execution_count": 46,
   "metadata": {},
   "outputs": [
    {
     "data": {
      "image/png": "[encoded data removed]",
      "text/plain": [
       "<Figure size 1224x144 with 1 Axes>"
      ]
     },
     "metadata": {
      "needs_background": "light"
     },
     "output_type": "display_data"
    }
   ],
   "source": [
    "plt.figure(figsize=(17,2))\n",
    "sns.boxplot(x=books_edited_authors.authors.value_counts(), orient='h');\n",
    "plt.xlabel('number of books');"
   ]
  },
  {
   "cell_type": "code",
   "execution_count": 47,
   "metadata": {},
   "outputs": [
    {
     "data": {
      "text/plain": [
       "count    1.050700e+04\n",
       "mean     6.103716e+04\n",
       "std      1.769880e+05\n",
       "min      2.773000e+03\n",
       "25%      1.397900e+04\n",
       "50%      2.223000e+04\n",
       "75%      4.520300e+04\n",
       "max      4.780653e+06\n",
       "Name: ratings_count, dtype: float64"
      ]
     },
     "execution_count": 47,
     "metadata": {},
     "output_type": "execute_result"
    }
   ],
   "source": [
    "books_edited_authors['ratings_count'].describe()"
   ]
  },
  {
   "cell_type": "code",
   "execution_count": 48,
   "metadata": {},
   "outputs": [
    {
     "data": {
      "image/png": "[encoded data removed]",
      "text/plain": [
       "<Figure size 720x360 with 1 Axes>"
      ]
     },
     "metadata": {
      "needs_background": "light"
     },
     "output_type": "display_data"
    }
   ],
   "source": [
    "plt.figure(figsize=(10,5))\n",
    "plt.hist(books_edited_authors['ratings_count']);\n",
    "plt.xlabel('number of ratings');\n",
    "plt.ylabel('count');"
   ]
  },
  {
   "cell_type": "code",
   "execution_count": 49,
   "metadata": {},
   "outputs": [
    {
     "data": {
      "image/png": "[encoded data removed]",
      "text/plain": [
       "<Figure size 1224x144 with 1 Axes>"
      ]
     },
     "metadata": {
      "needs_background": "light"
     },
     "output_type": "display_data"
    }
   ],
   "source": [
    "plt.figure(figsize=(17,2))\n",
    "sns.boxplot(x=books_edited_authors['ratings_count'], orient='h');"
   ]
  },
  {
   "cell_type": "code",
   "execution_count": 50,
   "metadata": {},
   "outputs": [],
   "source": [
    "a1 = at_least_books(books_edited_authors, 5)\n",
    "a2 = at_least_ratings_count(books_edited_authors, 50000)"
   ]
  },
  {
   "cell_type": "markdown",
   "metadata": {},
   "source": [
    "### Best Rating Authors"
   ]
  },
  {
   "cell_type": "code",
   "execution_count": 51,
   "metadata": {},
   "outputs": [
    {
     "data": {
      "text/plain": [
       "authors\n",
       "Bill Watterson        4.630000\n",
       "Francine Rivers       4.600000\n",
       "Mary GrandPré         4.497143\n",
       "Sarah J. Maas         4.468750\n",
       "Clive Barker          4.440000\n",
       "Takeshi Obata         4.420000\n",
       "Tsugumi Ohba          4.420000\n",
       "Fiona Staples         4.410000\n",
       "George R.R. Martin    4.410000\n",
       "Brandon Sanderson     4.409000\n",
       "Cassandra Clare       4.366364\n",
       "Robert Kirkman        4.365000\n",
       "Bisco Hatori          4.360000\n",
       "Richelle Mead         4.350000\n",
       "A.A. Milne            4.350000\n",
       "Name: average_rating, dtype: float64"
      ]
     },
     "execution_count": 51,
     "metadata": {},
     "output_type": "execute_result"
    }
   ],
   "source": [
    "best_rating_authors = books_edited_authors[a1 & a2].groupby('authors')['average_rating'].mean().sort_values(ascending=False)\n",
    "best_rating_authors.head(15)"
   ]
  },
  {
   "cell_type": "code",
   "execution_count": 52,
   "metadata": {},
   "outputs": [
    {
     "data": {
      "image/png": "[encoded data removed]",
      "text/plain": [
       "<Figure size 1080x504 with 1 Axes>"
      ]
     },
     "metadata": {
      "needs_background": "light"
     },
     "output_type": "display_data"
    }
   ],
   "source": [
    "plot_authors_by(best_rating_authors, 'Best Rating Authors', 'Rating', 30)"
   ]
  },
  {
   "cell_type": "markdown",
   "metadata": {},
   "source": [
    "### Authors with Most Ratings"
   ]
  },
  {
   "cell_type": "code",
   "execution_count": 53,
   "metadata": {},
   "outputs": [
    {
     "data": {
      "text/plain": [
       "authors\n",
       "J.K. Rowling           16986979\n",
       "Mary GrandPré          15172370\n",
       "Suzanne Collins         8613107\n",
       "Stephenie Meyer         8240392\n",
       "Stephen King            8045593\n",
       "J.R.R. Tolkien          5700179\n",
       "Rick Riordan            5127987\n",
       "Dan Brown               4984049\n",
       "William Shakespeare     4393865\n",
       "Cassandra Clare         4294099\n",
       "Nicholas Sparks         4274745\n",
       "John Green              4198002\n",
       "Jane Austen             4151071\n",
       "George Orwell           4035503\n",
       "C.S. Lewis              3943519\n",
       "Name: ratings_count, dtype: int64"
      ]
     },
     "execution_count": 53,
     "metadata": {},
     "output_type": "execute_result"
    }
   ],
   "source": [
    "most_ratings_authors = books_edited_authors.groupby('authors')['ratings_count'].sum().sort_values(ascending=False)\n",
    "most_ratings_authors.head(15)"
   ]
  },
  {
   "cell_type": "code",
   "execution_count": 54,
   "metadata": {},
   "outputs": [
    {
     "data": {
      "image/png": "[encoded data removed]",
      "text/plain": [
       "<Figure size 1080x504 with 1 Axes>"
      ]
     },
     "metadata": {
      "needs_background": "light"
     },
     "output_type": "display_data"
    }
   ],
   "source": [
    "plot_authors_by(most_ratings_authors, 'Authors with Most Ratings', 'Total Ratings', 30)"
   ]
  },
  {
   "cell_type": "markdown",
   "metadata": {},
   "source": [
    "## Ratings"
   ]
  },
  {
   "cell_type": "code",
   "execution_count": 55,
   "metadata": {},
   "outputs": [
    {
     "data": {
      "text/html": [
       "<div>\n",
       "<style scoped>\n",
       "    .dataframe tbody tr th:only-of-type {\n",
       "        vertical-align: middle;\n",
       "    }\n",
       "\n",
       "    .dataframe tbody tr th {\n",
       "        vertical-align: top;\n",
       "    }\n",
       "\n",
       "    .dataframe thead th {\n",
       "        text-align: right;\n",
       "    }\n",
       "</style>\n",
       "<table border=\"1\" class=\"dataframe\">\n",
       "  <thead>\n",
       "    <tr style=\"text-align: right;\">\n",
       "      <th></th>\n",
       "      <th>user_id</th>\n",
       "      <th>book_id</th>\n",
       "      <th>rating</th>\n",
       "    </tr>\n",
       "  </thead>\n",
       "  <tbody>\n",
       "    <tr>\n",
       "      <th>0</th>\n",
       "      <td>1</td>\n",
       "      <td>258</td>\n",
       "      <td>5</td>\n",
       "    </tr>\n",
       "    <tr>\n",
       "      <th>1</th>\n",
       "      <td>2</td>\n",
       "      <td>4081</td>\n",
       "      <td>4</td>\n",
       "    </tr>\n",
       "    <tr>\n",
       "      <th>2</th>\n",
       "      <td>2</td>\n",
       "      <td>260</td>\n",
       "      <td>5</td>\n",
       "    </tr>\n",
       "    <tr>\n",
       "      <th>3</th>\n",
       "      <td>2</td>\n",
       "      <td>9296</td>\n",
       "      <td>5</td>\n",
       "    </tr>\n",
       "    <tr>\n",
       "      <th>4</th>\n",
       "      <td>2</td>\n",
       "      <td>2318</td>\n",
       "      <td>3</td>\n",
       "    </tr>\n",
       "  </tbody>\n",
       "</table>\n",
       "</div>"
      ],
      "text/plain": [
       "   user_id  book_id  rating\n",
       "0        1      258       5\n",
       "1        2     4081       4\n",
       "2        2      260       5\n",
       "3        2     9296       5\n",
       "4        2     2318       3"
      ]
     },
     "execution_count": 55,
     "metadata": {},
     "output_type": "execute_result"
    }
   ],
   "source": [
    "ratings.head()"
   ]
  },
  {
   "cell_type": "code",
   "execution_count": 56,
   "metadata": {},
   "outputs": [
    {
     "name": "stdout",
     "output_type": "stream",
     "text": [
      "There are 5976479 ratings.\n"
     ]
    }
   ],
   "source": [
    "print('There are {} ratings.'.format(ratings.shape[0]))"
   ]
  },
  {
   "cell_type": "code",
   "execution_count": 57,
   "metadata": {},
   "outputs": [
    {
     "name": "stdout",
     "output_type": "stream",
     "text": [
      "Number of users is 53424\n"
     ]
    }
   ],
   "source": [
    "print('Number of users is {}'.format(len(ratings.user_id.unique())))"
   ]
  },
  {
   "cell_type": "markdown",
   "metadata": {},
   "source": [
    "### Remove Duplicates Ratings"
   ]
  },
  {
   "cell_type": "code",
   "execution_count": 58,
   "metadata": {},
   "outputs": [
    {
     "data": {
      "text/html": [
       "<div>\n",
       "<style scoped>\n",
       "    .dataframe tbody tr th:only-of-type {\n",
       "        vertical-align: middle;\n",
       "    }\n",
       "\n",
       "    .dataframe tbody tr th {\n",
       "        vertical-align: top;\n",
       "    }\n",
       "\n",
       "    .dataframe thead th {\n",
       "        text-align: right;\n",
       "    }\n",
       "</style>\n",
       "<table border=\"1\" class=\"dataframe\">\n",
       "  <thead>\n",
       "    <tr style=\"text-align: right;\">\n",
       "      <th></th>\n",
       "      <th>user_id</th>\n",
       "      <th>book_id</th>\n",
       "      <th>rating</th>\n",
       "    </tr>\n",
       "  </thead>\n",
       "  <tbody>\n",
       "    <tr>\n",
       "      <th>0</th>\n",
       "      <td>1</td>\n",
       "      <td>258</td>\n",
       "      <td>5</td>\n",
       "    </tr>\n",
       "    <tr>\n",
       "      <th>1</th>\n",
       "      <td>2</td>\n",
       "      <td>4081</td>\n",
       "      <td>4</td>\n",
       "    </tr>\n",
       "    <tr>\n",
       "      <th>2</th>\n",
       "      <td>2</td>\n",
       "      <td>260</td>\n",
       "      <td>5</td>\n",
       "    </tr>\n",
       "    <tr>\n",
       "      <th>3</th>\n",
       "      <td>2</td>\n",
       "      <td>9296</td>\n",
       "      <td>5</td>\n",
       "    </tr>\n",
       "    <tr>\n",
       "      <th>4</th>\n",
       "      <td>2</td>\n",
       "      <td>2318</td>\n",
       "      <td>3</td>\n",
       "    </tr>\n",
       "  </tbody>\n",
       "</table>\n",
       "</div>"
      ],
      "text/plain": [
       "   user_id  book_id  rating\n",
       "0        1      258       5\n",
       "1        2     4081       4\n",
       "2        2      260       5\n",
       "3        2     9296       5\n",
       "4        2     2318       3"
      ]
     },
     "execution_count": 58,
     "metadata": {},
     "output_type": "execute_result"
    }
   ],
   "source": [
    "ratings[ratings.duplicated()==True]\n",
    "ratings.head()"
   ]
  },
  {
   "cell_type": "code",
   "execution_count": 59,
   "metadata": {},
   "outputs": [
    {
     "data": {
      "text/html": [
       "<div>\n",
       "<style scoped>\n",
       "    .dataframe tbody tr th:only-of-type {\n",
       "        vertical-align: middle;\n",
       "    }\n",
       "\n",
       "    .dataframe tbody tr th {\n",
       "        vertical-align: top;\n",
       "    }\n",
       "\n",
       "    .dataframe thead th {\n",
       "        text-align: right;\n",
       "    }\n",
       "</style>\n",
       "<table border=\"1\" class=\"dataframe\">\n",
       "  <thead>\n",
       "    <tr style=\"text-align: right;\">\n",
       "      <th></th>\n",
       "      <th>user_id</th>\n",
       "      <th>book_id</th>\n",
       "      <th>rating</th>\n",
       "    </tr>\n",
       "  </thead>\n",
       "  <tbody>\n",
       "    <tr>\n",
       "      <th>0</th>\n",
       "      <td>1</td>\n",
       "      <td>258</td>\n",
       "      <td>5</td>\n",
       "    </tr>\n",
       "    <tr>\n",
       "      <th>1</th>\n",
       "      <td>2</td>\n",
       "      <td>4081</td>\n",
       "      <td>4</td>\n",
       "    </tr>\n",
       "    <tr>\n",
       "      <th>2</th>\n",
       "      <td>2</td>\n",
       "      <td>260</td>\n",
       "      <td>5</td>\n",
       "    </tr>\n",
       "    <tr>\n",
       "      <th>3</th>\n",
       "      <td>2</td>\n",
       "      <td>9296</td>\n",
       "      <td>5</td>\n",
       "    </tr>\n",
       "    <tr>\n",
       "      <th>4</th>\n",
       "      <td>2</td>\n",
       "      <td>2318</td>\n",
       "      <td>3</td>\n",
       "    </tr>\n",
       "  </tbody>\n",
       "</table>\n",
       "</div>"
      ],
      "text/plain": [
       "   user_id  book_id  rating\n",
       "0        1      258       5\n",
       "1        2     4081       4\n",
       "2        2      260       5\n",
       "3        2     9296       5\n",
       "4        2     2318       3"
      ]
     },
     "execution_count": 59,
     "metadata": {},
     "output_type": "execute_result"
    }
   ],
   "source": [
    "ratings[ratings.duplicated(keep=False)==True].head(6)\n",
    "ratings.head()"
   ]
  },
  {
   "cell_type": "code",
   "execution_count": 60,
   "metadata": {},
   "outputs": [
    {
     "data": {
      "text/plain": [
       "(5976479, 3)"
      ]
     },
     "execution_count": 60,
     "metadata": {},
     "output_type": "execute_result"
    }
   ],
   "source": [
    "ratings_rmv_duplicates = ratings.drop_duplicates()\n",
    "ratings_rmv_duplicates.shape"
   ]
  },
  {
   "cell_type": "markdown",
   "metadata": {},
   "source": [
    "### Rating Distribution"
   ]
  },
  {
   "cell_type": "code",
   "execution_count": 61,
   "metadata": {},
   "outputs": [
    {
     "data": {
      "image/png": "[encoded data removed]",
      "text/plain": [
       "<Figure size 864x576 with 1 Axes>"
      ]
     },
     "metadata": {
      "needs_background": "light"
     },
     "output_type": "display_data"
    }
   ],
   "source": [
    "plt.figure(figsize=(12,8))\n",
    "sns.countplot(x='rating', data=ratings);"
   ]
  },
  {
   "cell_type": "markdown",
   "metadata": {},
   "source": [
    "We see that people tend to give quite positive ratings to books. Most of the ratings are in the 3-5 range, while very few ratings are in the 1-2 range."
   ]
  },
  {
   "cell_type": "markdown",
   "metadata": {},
   "source": [
    "### Number of Ratings Per User"
   ]
  },
  {
   "cell_type": "code",
   "execution_count": 62,
   "metadata": {},
   "outputs": [
    {
     "data": {
      "text/plain": [
       "user_id\n",
       "1        117\n",
       "2         65\n",
       "3         91\n",
       "4        134\n",
       "5        100\n",
       "        ... \n",
       "53420    110\n",
       "53421    110\n",
       "53422    130\n",
       "53423     77\n",
       "53424    133\n",
       "Name: user_id, Length: 53424, dtype: int64"
      ]
     },
     "execution_count": 62,
     "metadata": {},
     "output_type": "execute_result"
    }
   ],
   "source": [
    "ratings_per_user = ratings.groupby('user_id')['user_id'].count()\n",
    "ratings_per_user"
   ]
  },
  {
   "cell_type": "code",
   "execution_count": 63,
   "metadata": {},
   "outputs": [
    {
     "data": {
      "image/png": "[encoded data removed]",
      "text/plain": [
       "<Figure size 864x576 with 1 Axes>"
      ]
     },
     "metadata": {
      "needs_background": "light"
     },
     "output_type": "display_data"
    }
   ],
   "source": [
    "plt.figure(figsize=(12,8))\n",
    "plt.hist(ratings_per_user ,bins='auto');\n",
    "plt.grid(axis='y', alpha=0.75)\n",
    "plt.xlabel('number of ratings per user')\n",
    "plt.ylabel('count');"
   ]
  },
  {
   "cell_type": "markdown",
   "metadata": {},
   "source": [
    "We can see that there are some users with many ratings. This is interesting, because we can later examine whether frequent raters rate books differently from less frequent raters."
   ]
  },
  {
   "cell_type": "markdown",
   "metadata": {},
   "source": [
    "### Distribution of mean user rating"
   ]
  },
  {
   "cell_type": "code",
   "execution_count": 64,
   "metadata": {},
   "outputs": [
    {
     "data": {
      "text/plain": [
       "user_id\n",
       "1        3.589744\n",
       "2        4.415385\n",
       "3        1.736264\n",
       "4        3.768657\n",
       "5        4.040000\n",
       "           ...   \n",
       "53420    3.345455\n",
       "53421    4.609091\n",
       "53422    4.215385\n",
       "53423    4.454545\n",
       "53424    4.406015\n",
       "Name: rating, Length: 53424, dtype: float64"
      ]
     },
     "execution_count": 64,
     "metadata": {},
     "output_type": "execute_result"
    }
   ],
   "source": [
    "mean_rating_per_user = ratings.groupby('user_id')['rating'].mean()\n",
    "mean_rating_per_user"
   ]
  },
  {
   "cell_type": "code",
   "execution_count": 65,
   "metadata": {},
   "outputs": [
    {
     "data": {
      "image/png": "[encoded data removed]",
      "text/plain": [
       "<Figure size 864x576 with 1 Axes>"
      ]
     },
     "metadata": {
      "needs_background": "light"
     },
     "output_type": "display_data"
    }
   ],
   "source": [
    "plt.figure(figsize=(12,8))\n",
    "plt.hist(mean_rating_per_user, bins='auto');\n",
    "plt.grid(axis='y', alpha=0.75)\n",
    "plt.xlabel('mean user rating')\n",
    "plt.ylabel('count');"
   ]
  },
  {
   "cell_type": "markdown",
   "metadata": {},
   "source": [
    "People have different tendencies to rate books. Some already give 5 stars to a mediocre book, while others do not give 5 stars unless it is the perfect book for them. Such tendencies can be seen in the figure above. On the right side there is a bump from users with a mean rating of 5, indicating that they really liked all books (or they only rated books they really like…). We can also see that there are nearly no notoriuous downvoters rating all books with a 1. Such tendencies are going to be important for collaborative filtering later, and are typically dealt with by subtracting the user’s mean rating from their ratings."
   ]
  },
  {
   "cell_type": "markdown",
   "metadata": {},
   "source": [
    "### Number of ratings per book"
   ]
  },
  {
   "cell_type": "code",
   "execution_count": 66,
   "metadata": {},
   "outputs": [
    {
     "data": {
      "text/plain": [
       "book_id\n",
       "1        22806\n",
       "2        21850\n",
       "3        16931\n",
       "4        19088\n",
       "5        16604\n",
       "         ...  \n",
       "9996       141\n",
       "9997        93\n",
       "9998       102\n",
       "9999       130\n",
       "10000      111\n",
       "Name: book_id, Length: 10000, dtype: int64"
      ]
     },
     "execution_count": 66,
     "metadata": {},
     "output_type": "execute_result"
    }
   ],
   "source": [
    "ratings_per_book = ratings.groupby('book_id')['book_id'].count()\n",
    "ratings_per_book"
   ]
  },
  {
   "cell_type": "code",
   "execution_count": 67,
   "metadata": {},
   "outputs": [
    {
     "data": {
      "image/png": "[encoded data removed]",
      "text/plain": [
       "<Figure size 864x576 with 1 Axes>"
      ]
     },
     "metadata": {
      "needs_background": "light"
     },
     "output_type": "display_data"
    }
   ],
   "source": [
    "plt.figure(figsize=(12,8))\n",
    "plt.hist(ratings_per_book ,bins='auto');\n",
    "plt.grid(axis='y', alpha=0.75)\n",
    "plt.xlabel('number of ratings per book')\n",
    "plt.ylabel('count');"
   ]
  },
  {
   "cell_type": "markdown",
   "metadata": {},
   "source": [
    "### Distribution of mean book ratings"
   ]
  },
  {
   "cell_type": "code",
   "execution_count": 68,
   "metadata": {},
   "outputs": [
    {
     "data": {
      "text/plain": [
       "book_id\n",
       "1        4.279707\n",
       "2        4.351350\n",
       "3        3.214341\n",
       "4        4.329369\n",
       "5        3.772224\n",
       "           ...   \n",
       "9996     4.014184\n",
       "9997     4.451613\n",
       "9998     4.323529\n",
       "9999     3.707692\n",
       "10000    4.009009\n",
       "Name: rating, Length: 10000, dtype: float64"
      ]
     },
     "execution_count": 68,
     "metadata": {},
     "output_type": "execute_result"
    }
   ],
   "source": [
    "mean_rating_per_book = ratings.groupby('book_id')['rating'].mean()\n",
    "mean_rating_per_book"
   ]
  },
  {
   "cell_type": "code",
   "execution_count": 69,
   "metadata": {},
   "outputs": [
    {
     "data": {
      "image/png": "[encoded data removed]",
      "text/plain": [
       "<Figure size 864x576 with 1 Axes>"
      ]
     },
     "metadata": {
      "needs_background": "light"
     },
     "output_type": "display_data"
    }
   ],
   "source": [
    "plt.figure(figsize=(12,8))\n",
    "plt.hist(mean_rating_per_book, bins='auto');\n",
    "plt.grid(axis='y', alpha=0.75)\n",
    "plt.xlabel('mean book rating')\n",
    "plt.ylabel('count');"
   ]
  },
  {
   "cell_type": "markdown",
   "metadata": {},
   "source": [
    "Mean book ratings don’t reveal any peculiarities."
   ]
  },
  {
   "cell_type": "markdown",
   "metadata": {},
   "source": [
    "## Tags"
   ]
  },
  {
   "cell_type": "markdown",
   "metadata": {},
   "source": [
    "Tags in this file is self-determined by the users. In this part, I chose only the tags that match the genre tags defined by Goodreads."
   ]
  },
  {
   "cell_type": "code",
   "execution_count": 70,
   "metadata": {},
   "outputs": [
    {
     "data": {
      "text/html": [
       "<div>\n",
       "<style scoped>\n",
       "    .dataframe tbody tr th:only-of-type {\n",
       "        vertical-align: middle;\n",
       "    }\n",
       "\n",
       "    .dataframe tbody tr th {\n",
       "        vertical-align: top;\n",
       "    }\n",
       "\n",
       "    .dataframe thead th {\n",
       "        text-align: right;\n",
       "    }\n",
       "</style>\n",
       "<table border=\"1\" class=\"dataframe\">\n",
       "  <thead>\n",
       "    <tr style=\"text-align: right;\">\n",
       "      <th></th>\n",
       "      <th>tag_id</th>\n",
       "      <th>tag_name</th>\n",
       "    </tr>\n",
       "  </thead>\n",
       "  <tbody>\n",
       "    <tr>\n",
       "      <th>0</th>\n",
       "      <td>0</td>\n",
       "      <td>-</td>\n",
       "    </tr>\n",
       "    <tr>\n",
       "      <th>1</th>\n",
       "      <td>1</td>\n",
       "      <td>--1-</td>\n",
       "    </tr>\n",
       "    <tr>\n",
       "      <th>2</th>\n",
       "      <td>2</td>\n",
       "      <td>--10-</td>\n",
       "    </tr>\n",
       "    <tr>\n",
       "      <th>3</th>\n",
       "      <td>3</td>\n",
       "      <td>--12-</td>\n",
       "    </tr>\n",
       "    <tr>\n",
       "      <th>4</th>\n",
       "      <td>4</td>\n",
       "      <td>--122-</td>\n",
       "    </tr>\n",
       "  </tbody>\n",
       "</table>\n",
       "</div>"
      ],
      "text/plain": [
       "   tag_id tag_name\n",
       "0       0        -\n",
       "1       1     --1-\n",
       "2       2    --10-\n",
       "3       3    --12-\n",
       "4       4   --122-"
      ]
     },
     "execution_count": 70,
     "metadata": {},
     "output_type": "execute_result"
    }
   ],
   "source": [
    "tags.head()"
   ]
  },
  {
   "cell_type": "code",
   "execution_count": 71,
   "metadata": {},
   "outputs": [
    {
     "data": {
      "text/plain": [
       "(34252, 2)"
      ]
     },
     "execution_count": 71,
     "metadata": {},
     "output_type": "execute_result"
    }
   ],
   "source": [
    "tags.shape"
   ]
  },
  {
   "cell_type": "code",
   "execution_count": 72,
   "metadata": {},
   "outputs": [
    {
     "data": {
      "text/html": [
       "<div>\n",
       "<style scoped>\n",
       "    .dataframe tbody tr th:only-of-type {\n",
       "        vertical-align: middle;\n",
       "    }\n",
       "\n",
       "    .dataframe tbody tr th {\n",
       "        vertical-align: top;\n",
       "    }\n",
       "\n",
       "    .dataframe thead th {\n",
       "        text-align: right;\n",
       "    }\n",
       "</style>\n",
       "<table border=\"1\" class=\"dataframe\">\n",
       "  <thead>\n",
       "    <tr style=\"text-align: right;\">\n",
       "      <th></th>\n",
       "      <th>goodreads_book_id</th>\n",
       "      <th>tag_id</th>\n",
       "      <th>count</th>\n",
       "    </tr>\n",
       "  </thead>\n",
       "  <tbody>\n",
       "    <tr>\n",
       "      <th>0</th>\n",
       "      <td>1</td>\n",
       "      <td>30574</td>\n",
       "      <td>167697</td>\n",
       "    </tr>\n",
       "    <tr>\n",
       "      <th>1</th>\n",
       "      <td>1</td>\n",
       "      <td>11305</td>\n",
       "      <td>37174</td>\n",
       "    </tr>\n",
       "    <tr>\n",
       "      <th>2</th>\n",
       "      <td>1</td>\n",
       "      <td>11557</td>\n",
       "      <td>34173</td>\n",
       "    </tr>\n",
       "    <tr>\n",
       "      <th>3</th>\n",
       "      <td>1</td>\n",
       "      <td>8717</td>\n",
       "      <td>12986</td>\n",
       "    </tr>\n",
       "    <tr>\n",
       "      <th>4</th>\n",
       "      <td>1</td>\n",
       "      <td>33114</td>\n",
       "      <td>12716</td>\n",
       "    </tr>\n",
       "  </tbody>\n",
       "</table>\n",
       "</div>"
      ],
      "text/plain": [
       "   goodreads_book_id  tag_id   count\n",
       "0                  1   30574  167697\n",
       "1                  1   11305   37174\n",
       "2                  1   11557   34173\n",
       "3                  1    8717   12986\n",
       "4                  1   33114   12716"
      ]
     },
     "execution_count": 72,
     "metadata": {},
     "output_type": "execute_result"
    }
   ],
   "source": [
    "book_tags.head()"
   ]
  },
  {
   "cell_type": "code",
   "execution_count": 73,
   "metadata": {},
   "outputs": [
    {
     "data": {
      "text/plain": [
       "(999912, 3)"
      ]
     },
     "execution_count": 73,
     "metadata": {},
     "output_type": "execute_result"
    }
   ],
   "source": [
    "book_tags.shape"
   ]
  },
  {
   "cell_type": "code",
   "execution_count": 74,
   "metadata": {},
   "outputs": [],
   "source": [
    "genres = [\"Art\", \"Biography\", \"Business\", \"Chick Lit\", \"Children's\", \"Christian\", \"Classics\",\n",
    "          \"Comics\", \"Contemporary\", \"Cookbooks\", \"Crime\", \"Ebooks\", \"Fantasy\", \"Fiction\",\n",
    "          \"Gay and Lesbian\", \"Graphic Novels\", \"Historical Fiction\", \"History\", \"Horror\",\n",
    "          \"Humor and Comedy\", \"Manga\", \"Memoir\", \"Music\", \"Mystery\", \"Nonfiction\", \"Paranormal\",\n",
    "          \"Philosophy\", \"Poetry\", \"Psychology\", \"Religion\", \"Romance\", \"Science\", \"Science Fiction\", \n",
    "          \"Self Help\", \"Suspense\", \"Spirituality\", \"Sports\", \"Thriller\", \"Travel\", \"Young Adult\"]"
   ]
  },
  {
   "cell_type": "code",
   "execution_count": 75,
   "metadata": {},
   "outputs": [
    {
     "data": {
      "text/plain": [
       "['art', 'biography', 'business', 'chick lit']"
      ]
     },
     "execution_count": 75,
     "metadata": {},
     "output_type": "execute_result"
    }
   ],
   "source": [
    "genres = list(map(str.lower, genres))\n",
    "genres[:4]"
   ]
  },
  {
   "cell_type": "code",
   "execution_count": 76,
   "metadata": {},
   "outputs": [],
   "source": [
    "available_genres = tags.loc[tags.tag_name.str.lower().isin(genres)]"
   ]
  },
  {
   "cell_type": "code",
   "execution_count": 77,
   "metadata": {},
   "outputs": [
    {
     "name": "stdout",
     "output_type": "stream",
     "text": [
      "Number of available tags is 31 out of the 40 tags in genres list\n"
     ]
    }
   ],
   "source": [
    "print('Number of available tags is {} out of the {} tags in genres list'.format(available_genres.shape[0], len(genres)))"
   ]
  },
  {
   "cell_type": "code",
   "execution_count": 78,
   "metadata": {},
   "outputs": [
    {
     "data": {
      "text/plain": [
       "(60573, 3)"
      ]
     },
     "execution_count": 78,
     "metadata": {},
     "output_type": "execute_result"
    }
   ],
   "source": [
    "available_books_with_genres = book_tags[book_tags.tag_id.isin(available_genres.tag_id)]\n",
    "available_books_with_genres.shape"
   ]
  },
  {
   "cell_type": "code",
   "execution_count": 79,
   "metadata": {},
   "outputs": [
    {
     "data": {
      "text/html": [
       "<div>\n",
       "<style scoped>\n",
       "    .dataframe tbody tr th:only-of-type {\n",
       "        vertical-align: middle;\n",
       "    }\n",
       "\n",
       "    .dataframe tbody tr th {\n",
       "        vertical-align: top;\n",
       "    }\n",
       "\n",
       "    .dataframe thead th {\n",
       "        text-align: right;\n",
       "    }\n",
       "</style>\n",
       "<table border=\"1\" class=\"dataframe\">\n",
       "  <thead>\n",
       "    <tr style=\"text-align: right;\">\n",
       "      <th></th>\n",
       "      <th>count</th>\n",
       "    </tr>\n",
       "    <tr>\n",
       "      <th>tag_id</th>\n",
       "      <th></th>\n",
       "    </tr>\n",
       "  </thead>\n",
       "  <tbody>\n",
       "    <tr>\n",
       "      <th>2938</th>\n",
       "      <td>30262</td>\n",
       "    </tr>\n",
       "    <tr>\n",
       "      <th>4605</th>\n",
       "      <td>172444</td>\n",
       "    </tr>\n",
       "    <tr>\n",
       "      <th>5951</th>\n",
       "      <td>73249</td>\n",
       "    </tr>\n",
       "    <tr>\n",
       "      <th>7077</th>\n",
       "      <td>53864</td>\n",
       "    </tr>\n",
       "    <tr>\n",
       "      <th>7457</th>\n",
       "      <td>1756920</td>\n",
       "    </tr>\n",
       "  </tbody>\n",
       "</table>\n",
       "</div>"
      ],
      "text/plain": [
       "          count\n",
       "tag_id         \n",
       "2938      30262\n",
       "4605     172444\n",
       "5951      73249\n",
       "7077      53864\n",
       "7457    1756920"
      ]
     },
     "execution_count": 79,
     "metadata": {},
     "output_type": "execute_result"
    }
   ],
   "source": [
    "tag_counts = pd.DataFrame(available_books_with_genres.groupby('tag_id')['count'].sum())\n",
    "tag_counts.head()"
   ]
  },
  {
   "cell_type": "code",
   "execution_count": 80,
   "metadata": {},
   "outputs": [
    {
     "data": {
      "text/html": [
       "<div>\n",
       "<style scoped>\n",
       "    .dataframe tbody tr th:only-of-type {\n",
       "        vertical-align: middle;\n",
       "    }\n",
       "\n",
       "    .dataframe tbody tr th {\n",
       "        vertical-align: top;\n",
       "    }\n",
       "\n",
       "    .dataframe thead th {\n",
       "        text-align: right;\n",
       "    }\n",
       "</style>\n",
       "<table border=\"1\" class=\"dataframe\">\n",
       "  <thead>\n",
       "    <tr style=\"text-align: right;\">\n",
       "      <th></th>\n",
       "      <th>count</th>\n",
       "    </tr>\n",
       "    <tr>\n",
       "      <th>tag_name</th>\n",
       "      <th></th>\n",
       "    </tr>\n",
       "  </thead>\n",
       "  <tbody>\n",
       "    <tr>\n",
       "      <th>art</th>\n",
       "      <td>30262</td>\n",
       "    </tr>\n",
       "    <tr>\n",
       "      <th>biography</th>\n",
       "      <td>172444</td>\n",
       "    </tr>\n",
       "    <tr>\n",
       "      <th>business</th>\n",
       "      <td>73249</td>\n",
       "    </tr>\n",
       "    <tr>\n",
       "      <th>christian</th>\n",
       "      <td>53864</td>\n",
       "    </tr>\n",
       "    <tr>\n",
       "      <th>classics</th>\n",
       "      <td>1756920</td>\n",
       "    </tr>\n",
       "  </tbody>\n",
       "</table>\n",
       "</div>"
      ],
      "text/plain": [
       "             count\n",
       "tag_name          \n",
       "art          30262\n",
       "biography   172444\n",
       "business     73249\n",
       "christian    53864\n",
       "classics   1756920"
      ]
     },
     "execution_count": 80,
     "metadata": {},
     "output_type": "execute_result"
    }
   ],
   "source": [
    "tag_counts.set_index(available_genres.tag_name, inplace=True)\n",
    "tag_counts.head()"
   ]
  },
  {
   "cell_type": "code",
   "execution_count": 81,
   "metadata": {},
   "outputs": [
    {
     "data": {
      "text/html": [
       "<div>\n",
       "<style scoped>\n",
       "    .dataframe tbody tr th:only-of-type {\n",
       "        vertical-align: middle;\n",
       "    }\n",
       "\n",
       "    .dataframe tbody tr th {\n",
       "        vertical-align: top;\n",
       "    }\n",
       "\n",
       "    .dataframe thead th {\n",
       "        text-align: right;\n",
       "    }\n",
       "</style>\n",
       "<table border=\"1\" class=\"dataframe\">\n",
       "  <thead>\n",
       "    <tr style=\"text-align: right;\">\n",
       "      <th></th>\n",
       "      <th>count</th>\n",
       "    </tr>\n",
       "    <tr>\n",
       "      <th>tag_name</th>\n",
       "      <th></th>\n",
       "    </tr>\n",
       "  </thead>\n",
       "  <tbody>\n",
       "    <tr>\n",
       "      <th>fiction</th>\n",
       "      <td>3688819</td>\n",
       "    </tr>\n",
       "    <tr>\n",
       "      <th>fantasy</th>\n",
       "      <td>3548157</td>\n",
       "    </tr>\n",
       "    <tr>\n",
       "      <th>classics</th>\n",
       "      <td>1756920</td>\n",
       "    </tr>\n",
       "    <tr>\n",
       "      <th>romance</th>\n",
       "      <td>1231926</td>\n",
       "    </tr>\n",
       "    <tr>\n",
       "      <th>mystery</th>\n",
       "      <td>872282</td>\n",
       "    </tr>\n",
       "  </tbody>\n",
       "</table>\n",
       "</div>"
      ],
      "text/plain": [
       "            count\n",
       "tag_name         \n",
       "fiction   3688819\n",
       "fantasy   3548157\n",
       "classics  1756920\n",
       "romance   1231926\n",
       "mystery    872282"
      ]
     },
     "execution_count": 81,
     "metadata": {},
     "output_type": "execute_result"
    }
   ],
   "source": [
    "tag_counts.sort_values('count', ascending=False, inplace=True)\n",
    "tag_counts.head()"
   ]
  },
  {
   "cell_type": "code",
   "execution_count": 82,
   "metadata": {},
   "outputs": [
    {
     "data": {
      "image/png": "[encoded data removed]",
      "text/plain": [
       "<Figure size 864x576 with 1 Axes>"
      ]
     },
     "metadata": {
      "needs_background": "light"
     },
     "output_type": "display_data"
    }
   ],
   "source": [
    "plt.figure(figsize=(12,8))\n",
    "sns.barplot(x='count', y=tag_counts.index, data=tag_counts, orient='h');"
   ]
  },
  {
   "cell_type": "markdown",
   "metadata": {},
   "source": [
    "We see that most books are “Fantasy”, “Romance”, or “Mistery” books, while there are not very many “Cookbooks” in the database."
   ]
  },
  {
   "cell_type": "markdown",
   "metadata": {},
   "source": [
    "### What determines/influences book ratings\n",
    "\n",
    "In this part we try to find any associations of features with a book's rating by plotting the correlation matrix between the feature average_rating "
   ]
  },
  {
   "cell_type": "markdown",
   "metadata": {},
   "source": [
    "### Correlation"
   ]
  },
  {
   "cell_type": "markdown",
   "metadata": {},
   "source": [
    "### Is there a relationship between the number of ratings and the average rating?"
   ]
  },
  {
   "cell_type": "code",
   "execution_count": 83,
   "metadata": {},
   "outputs": [
    {
     "data": {
      "image/png": "[encoded data removed]",
      "text/plain": [
       "<Figure size 432x432 with 3 Axes>"
      ]
     },
     "metadata": {
      "needs_background": "light"
     },
     "output_type": "display_data"
    }
   ],
   "source": [
    "jp = sns.jointplot(x='ratings_count', y='average_rating', kind='reg', line_kws={'color':'cyan'}, data=books)\n",
    "jp.annotate(stats.pearsonr, fontsize=12);"
   ]
  },
  {
   "cell_type": "markdown",
   "metadata": {},
   "source": [
    "Theoretically, it might be that the popularity of a book (in terms of the number of ratings it receives) is associated with the average rating it receives, such that once a book is becoming popular it gets better ratings. However, our data shows that this is true only to a very small extent. The correlation between these variables is only 0.045."
   ]
  },
  {
   "cell_type": "markdown",
   "metadata": {},
   "source": [
    "### Multiple editions of each book"
   ]
  },
  {
   "cell_type": "code",
   "execution_count": 84,
   "metadata": {},
   "outputs": [
    {
     "data": {
      "image/png": "[encoded data removed]",
      "text/plain": [
       "<Figure size 432x432 with 3 Axes>"
      ]
     },
     "metadata": {
      "needs_background": "light"
     },
     "output_type": "display_data"
    }
   ],
   "source": [
    "jp = sns.jointplot(x='books_count', y='average_rating', kind='reg', line_kws={'color':'cyan'}, data=books)\n",
    "jp.annotate(stats.pearsonr, fontsize=12);"
   ]
  },
  {
   "cell_type": "markdown",
   "metadata": {},
   "source": [
    "The dataset contains information about how many editions of a book are available in books_count. These can either be different editions in the same language or also translations of the book into different languages. So one might assume, that the better the book is the more editions should be available. In fact, data show exactly the opposite pattern: The more editions a book has the lower is the average rating. The causal direction of this association is of course unclear here."
   ]
  },
  {
   "cell_type": "markdown",
   "metadata": {},
   "source": [
    "### Do frequent raters rate differently?"
   ]
  },
  {
   "cell_type": "code",
   "execution_count": 85,
   "metadata": {},
   "outputs": [
    {
     "data": {
      "image/png": "[encoded data removed]",
      "text/plain": [
       "<Figure size 432x432 with 3 Axes>"
      ]
     },
     "metadata": {
      "needs_background": "light"
     },
     "output_type": "display_data"
    }
   ],
   "source": [
    "jp = sns.jointplot(x=ratings.groupby('user_id')['user_id'].count(),\n",
    "                   y=ratings.groupby('user_id')['rating'].mean(),\n",
    "                   kind='reg', line_kws={'color':'cyan'})\n",
    "jp.annotate(stats.pearsonr, fontsize=12);\n",
    "plt.xlabel('number_of_rated_books');\n",
    "plt.ylabel('mean_rating');"
   ]
  },
  {
   "cell_type": "markdown",
   "metadata": {},
   "source": [
    "It is possible, that users that rate more books (frequent raters) rate books differently from less frequent raters. The figure above explores this possibility. It seems like frequent raters tend to give lower ratings to books, maybe they are/become more critical the more they read and rate. That’s interesting"
   ]
  },
  {
   "cell_type": "markdown",
   "metadata": {},
   "source": [
    "### Book Series\n",
    "\n",
    "The data contains information in the title column about whether a certain book is part of a series (e.g. the Lord of the Rings trilogy).\n",
    "\n",
    "I examine whether books which are part of a larger series receive a higher rating. In fact the more volumes are in a series, the higher the average rating is."
   ]
  },
  {
   "cell_type": "code",
   "execution_count": 86,
   "metadata": {},
   "outputs": [
    {
     "data": {
      "text/plain": [
       "array([['The Fellowship of the Ring (The Lord of the Rings, #1)'],\n",
       "       ['The Two Towers (The Lord of the Rings, #2)'],\n",
       "       ['The Return of the King (The Lord of the Rings, #3)'],\n",
       "       ['The Lord of the Rings (The Lord of the Rings, #1-3)'],\n",
       "       ['J.R.R. Tolkien 4-Book Boxed Set: The Hobbit and The Lord of the Rings'],\n",
       "       ['The Lord of the Rings: The Art of The Fellowship of the Ring'],\n",
       "       ['The Lord of the Rings Sketchbook']], dtype=object)"
      ]
     },
     "execution_count": 86,
     "metadata": {},
     "output_type": "execute_result"
    }
   ],
   "source": [
    "subtitle = 'the lord of the rings'\n",
    "books[books.title.str.lower().str.find(subtitle) > -1][['title']].values"
   ]
  },
  {
   "cell_type": "code",
   "execution_count": 87,
   "metadata": {},
   "outputs": [
    {
     "name": "stdout",
     "output_type": "stream",
     "text": [
      "There are 3342 books that are in series\n"
     ]
    }
   ],
   "source": [
    "book_series = books[books.title.str.contains('\\(.*[,:]') == True][['title', 'average_rating']]\n",
    "print('There are {} books that are in series'.format(book_series.shape[0]))"
   ]
  },
  {
   "cell_type": "code",
   "execution_count": 88,
   "metadata": {},
   "outputs": [
    {
     "data": {
      "text/html": [
       "<div>\n",
       "<style scoped>\n",
       "    .dataframe tbody tr th:only-of-type {\n",
       "        vertical-align: middle;\n",
       "    }\n",
       "\n",
       "    .dataframe tbody tr th {\n",
       "        vertical-align: top;\n",
       "    }\n",
       "\n",
       "    .dataframe thead th {\n",
       "        text-align: right;\n",
       "    }\n",
       "</style>\n",
       "<table border=\"1\" class=\"dataframe\">\n",
       "  <thead>\n",
       "    <tr style=\"text-align: right;\">\n",
       "      <th></th>\n",
       "      <th>title</th>\n",
       "      <th>average_rating</th>\n",
       "    </tr>\n",
       "  </thead>\n",
       "  <tbody>\n",
       "    <tr>\n",
       "      <th>0</th>\n",
       "      <td>The Hunger Games (The Hunger Games, #1)</td>\n",
       "      <td>4.34</td>\n",
       "    </tr>\n",
       "    <tr>\n",
       "      <th>1</th>\n",
       "      <td>Harry Potter and the Sorcerer's Stone (Harry P...</td>\n",
       "      <td>4.44</td>\n",
       "    </tr>\n",
       "    <tr>\n",
       "      <th>2</th>\n",
       "      <td>Twilight (Twilight, #1)</td>\n",
       "      <td>3.57</td>\n",
       "    </tr>\n",
       "    <tr>\n",
       "      <th>8</th>\n",
       "      <td>Angels &amp; Demons  (Robert Langdon, #1)</td>\n",
       "      <td>3.85</td>\n",
       "    </tr>\n",
       "    <tr>\n",
       "      <th>11</th>\n",
       "      <td>Divergent (Divergent, #1)</td>\n",
       "      <td>4.24</td>\n",
       "    </tr>\n",
       "  </tbody>\n",
       "</table>\n",
       "</div>"
      ],
      "text/plain": [
       "                                                title  average_rating\n",
       "0             The Hunger Games (The Hunger Games, #1)            4.34\n",
       "1   Harry Potter and the Sorcerer's Stone (Harry P...            4.44\n",
       "2                             Twilight (Twilight, #1)            3.57\n",
       "8               Angels & Demons  (Robert Langdon, #1)            3.85\n",
       "11                          Divergent (Divergent, #1)            4.24"
      ]
     },
     "execution_count": 88,
     "metadata": {},
     "output_type": "execute_result"
    }
   ],
   "source": [
    "book_series.head()"
   ]
  },
  {
   "cell_type": "code",
   "execution_count": 89,
   "metadata": {},
   "outputs": [
    {
     "data": {
      "text/html": [
       "<div>\n",
       "<style scoped>\n",
       "    .dataframe tbody tr th:only-of-type {\n",
       "        vertical-align: middle;\n",
       "    }\n",
       "\n",
       "    .dataframe tbody tr th {\n",
       "        vertical-align: top;\n",
       "    }\n",
       "\n",
       "    .dataframe thead th {\n",
       "        text-align: right;\n",
       "    }\n",
       "</style>\n",
       "<table border=\"1\" class=\"dataframe\">\n",
       "  <thead>\n",
       "    <tr style=\"text-align: right;\">\n",
       "      <th></th>\n",
       "      <th>title</th>\n",
       "      <th>average_rating</th>\n",
       "    </tr>\n",
       "  </thead>\n",
       "  <tbody>\n",
       "    <tr>\n",
       "      <th>0</th>\n",
       "      <td>The Hunger Games</td>\n",
       "      <td>4.34</td>\n",
       "    </tr>\n",
       "    <tr>\n",
       "      <th>1</th>\n",
       "      <td>Harry Potter</td>\n",
       "      <td>4.44</td>\n",
       "    </tr>\n",
       "    <tr>\n",
       "      <th>2</th>\n",
       "      <td>Twilight</td>\n",
       "      <td>3.57</td>\n",
       "    </tr>\n",
       "    <tr>\n",
       "      <th>8</th>\n",
       "      <td>Robert Langdon</td>\n",
       "      <td>3.85</td>\n",
       "    </tr>\n",
       "    <tr>\n",
       "      <th>11</th>\n",
       "      <td>Divergent</td>\n",
       "      <td>4.24</td>\n",
       "    </tr>\n",
       "  </tbody>\n",
       "</table>\n",
       "</div>"
      ],
      "text/plain": [
       "               title  average_rating\n",
       "0   The Hunger Games            4.34\n",
       "1       Harry Potter            4.44\n",
       "2           Twilight            3.57\n",
       "8     Robert Langdon            3.85\n",
       "11         Divergent            4.24"
      ]
     },
     "execution_count": 89,
     "metadata": {},
     "output_type": "execute_result"
    }
   ],
   "source": [
    "series = book_series.copy()\n",
    "series['title'] = series['title'].str.findall('\\(.*[,:]').apply(lambda x: x.pop()[1:-1])\n",
    "series.head()"
   ]
  },
  {
   "cell_type": "code",
   "execution_count": 90,
   "metadata": {},
   "outputs": [
    {
     "data": {
      "image/png": "[encoded data removed]",
      "text/plain": [
       "<Figure size 432x432 with 3 Axes>"
      ]
     },
     "metadata": {
      "needs_background": "light"
     },
     "output_type": "display_data"
    }
   ],
   "source": [
    "jp = sns.jointplot(x=series.groupby('title')['title'].count(),\n",
    "                   y=series.groupby('title')['average_rating'].mean(),\n",
    "                   kind='reg', line_kws={'color':'cyan'})\n",
    "jp.annotate(stats.pearsonr, fontsize=12);\n",
    "plt.xlabel('number_of_volumes_in_series');\n",
    "plt.ylabel('mean_rating');"
   ]
  },
  {
   "cell_type": "markdown",
   "metadata": {},
   "source": [
    "### Length of Title \n",
    "\n",
    "I want to see whether the length of title have any correlation with ratings."
   ]
  },
  {
   "cell_type": "code",
   "execution_count": 91,
   "metadata": {},
   "outputs": [
    {
     "data": {
      "text/html": [
       "<div>\n",
       "<style scoped>\n",
       "    .dataframe tbody tr th:only-of-type {\n",
       "        vertical-align: middle;\n",
       "    }\n",
       "\n",
       "    .dataframe tbody tr th {\n",
       "        vertical-align: top;\n",
       "    }\n",
       "\n",
       "    .dataframe thead th {\n",
       "        text-align: right;\n",
       "    }\n",
       "</style>\n",
       "<table border=\"1\" class=\"dataframe\">\n",
       "  <thead>\n",
       "    <tr style=\"text-align: right;\">\n",
       "      <th></th>\n",
       "      <th>title</th>\n",
       "      <th>average_rating</th>\n",
       "      <th>length</th>\n",
       "    </tr>\n",
       "  </thead>\n",
       "  <tbody>\n",
       "    <tr>\n",
       "      <th>0</th>\n",
       "      <td>The Hunger Games (The Hunger Games, #1)</td>\n",
       "      <td>4.34</td>\n",
       "      <td>7</td>\n",
       "    </tr>\n",
       "    <tr>\n",
       "      <th>1</th>\n",
       "      <td>Harry Potter and the Sorcerer's Stone (Harry P...</td>\n",
       "      <td>4.44</td>\n",
       "      <td>9</td>\n",
       "    </tr>\n",
       "    <tr>\n",
       "      <th>2</th>\n",
       "      <td>Twilight (Twilight, #1)</td>\n",
       "      <td>3.57</td>\n",
       "      <td>3</td>\n",
       "    </tr>\n",
       "    <tr>\n",
       "      <th>3</th>\n",
       "      <td>To Kill a Mockingbird</td>\n",
       "      <td>4.25</td>\n",
       "      <td>4</td>\n",
       "    </tr>\n",
       "    <tr>\n",
       "      <th>4</th>\n",
       "      <td>The Great Gatsby</td>\n",
       "      <td>3.89</td>\n",
       "      <td>3</td>\n",
       "    </tr>\n",
       "  </tbody>\n",
       "</table>\n",
       "</div>"
      ],
      "text/plain": [
       "                                               title  average_rating  length\n",
       "0            The Hunger Games (The Hunger Games, #1)            4.34       7\n",
       "1  Harry Potter and the Sorcerer's Stone (Harry P...            4.44       9\n",
       "2                            Twilight (Twilight, #1)            3.57       3\n",
       "3                              To Kill a Mockingbird            4.25       4\n",
       "4                                   The Great Gatsby            3.89       3"
      ]
     },
     "execution_count": 91,
     "metadata": {},
     "output_type": "execute_result"
    }
   ],
   "source": [
    "title_length = books[['title', 'average_rating']]\n",
    "title_length['length'] = title_length['title'].str.findall('\\s').apply(lambda x: len(x)+1)\n",
    "title_length.head()"
   ]
  },
  {
   "cell_type": "code",
   "execution_count": 92,
   "metadata": {},
   "outputs": [
    {
     "data": {
      "image/png": "[encoded data removed]",
      "text/plain": [
       "<Figure size 864x576 with 1 Axes>"
      ]
     },
     "metadata": {
      "needs_background": "light"
     },
     "output_type": "display_data"
    }
   ],
   "source": [
    "plt.figure(figsize=(12,8))\n",
    "sns.boxplot(x='length', y='average_rating', data=title_length);\n",
    "plt.xlabel('title_length');\n",
    "plt.grid()"
   ]
  },
  {
   "cell_type": "markdown",
   "metadata": {},
   "source": [
    "### Does books with translations have higher rating?"
   ]
  },
  {
   "cell_type": "code",
   "execution_count": 93,
   "metadata": {},
   "outputs": [
    {
     "data": {
      "text/html": [
       "<div>\n",
       "<style scoped>\n",
       "    .dataframe tbody tr th:only-of-type {\n",
       "        vertical-align: middle;\n",
       "    }\n",
       "\n",
       "    .dataframe tbody tr th {\n",
       "        vertical-align: top;\n",
       "    }\n",
       "\n",
       "    .dataframe thead th {\n",
       "        text-align: right;\n",
       "    }\n",
       "</style>\n",
       "<table border=\"1\" class=\"dataframe\">\n",
       "  <thead>\n",
       "    <tr style=\"text-align: right;\">\n",
       "      <th></th>\n",
       "      <th>title</th>\n",
       "      <th>average_rating</th>\n",
       "      <th>has_subtitle</th>\n",
       "    </tr>\n",
       "  </thead>\n",
       "  <tbody>\n",
       "    <tr>\n",
       "      <th>0</th>\n",
       "      <td>The Hunger Games (The Hunger Games, #1)</td>\n",
       "      <td>4.34</td>\n",
       "      <td>False</td>\n",
       "    </tr>\n",
       "    <tr>\n",
       "      <th>1</th>\n",
       "      <td>Harry Potter and the Sorcerer's Stone (Harry P...</td>\n",
       "      <td>4.44</td>\n",
       "      <td>False</td>\n",
       "    </tr>\n",
       "    <tr>\n",
       "      <th>2</th>\n",
       "      <td>Twilight (Twilight, #1)</td>\n",
       "      <td>3.57</td>\n",
       "      <td>False</td>\n",
       "    </tr>\n",
       "    <tr>\n",
       "      <th>3</th>\n",
       "      <td>To Kill a Mockingbird</td>\n",
       "      <td>4.25</td>\n",
       "      <td>False</td>\n",
       "    </tr>\n",
       "    <tr>\n",
       "      <th>4</th>\n",
       "      <td>The Great Gatsby</td>\n",
       "      <td>3.89</td>\n",
       "      <td>False</td>\n",
       "    </tr>\n",
       "  </tbody>\n",
       "</table>\n",
       "</div>"
      ],
      "text/plain": [
       "                                               title  average_rating  \\\n",
       "0            The Hunger Games (The Hunger Games, #1)            4.34   \n",
       "1  Harry Potter and the Sorcerer's Stone (Harry P...            4.44   \n",
       "2                            Twilight (Twilight, #1)            3.57   \n",
       "3                              To Kill a Mockingbird            4.25   \n",
       "4                                   The Great Gatsby            3.89   \n",
       "\n",
       "   has_subtitle  \n",
       "0         False  \n",
       "1         False  \n",
       "2         False  \n",
       "3         False  \n",
       "4         False  "
      ]
     },
     "execution_count": 93,
     "metadata": {},
     "output_type": "execute_result"
    }
   ],
   "source": [
    "has_subtitle = books[['title', 'average_rating']]\n",
    "has_subtitle['has_subtitle'] = title_length['title'].str.contains(':', regex=False)\n",
    "has_subtitle.head()"
   ]
  },
  {
   "cell_type": "code",
   "execution_count": 94,
   "metadata": {},
   "outputs": [
    {
     "data": {
      "image/png": "[encoded data removed]",
      "text/plain": [
       "<Figure size 432x576 with 1 Axes>"
      ]
     },
     "metadata": {
      "needs_background": "light"
     },
     "output_type": "display_data"
    }
   ],
   "source": [
    "plt.figure(figsize=(6,8))\n",
    "sns.boxplot(x='has_subtitle', y='average_rating', data=has_subtitle);\n",
    "plt.grid()"
   ]
  },
  {
   "cell_type": "markdown",
   "metadata": {},
   "source": [
    "We see that books that have a subtitle get rated slightly higher than books without a subtitle."
   ]
  },
  {
   "cell_type": "markdown",
   "metadata": {},
   "source": [
    "In summary, we see only small correlations between the features and the average rating (last row), indicating that there are no strong relationships between the rating a book receives and meta-variables (like rating counts etc.). This means that the rating depends more strongly on other features (e.g. the quality of the books itself)"
   ]
  },
  {
   "cell_type": "markdown",
   "metadata": {},
   "source": [
    "# Machine Learning"
   ]
  },
  {
   "cell_type": "markdown",
   "metadata": {},
   "source": [
    "### Content Based Filtering"
   ]
  },
  {
   "cell_type": "markdown",
   "metadata": {},
   "source": [
    "To personalise our recommendations more, I am going to build an engine that computes similarity between books based on certain metrics and suggests books that are most similar to a particular book that a user liked. Since we will be using book metadata (or content) to build this engine, this also known as Content Based Filtering.\n",
    "\n",
    "I will build this recommender based on book's Title, Authors and Genres."
   ]
  },
  {
   "cell_type": "code",
   "execution_count": 95,
   "metadata": {},
   "outputs": [],
   "source": [
    "from sklearn.feature_extraction.text import TfidfVectorizer, CountVectorizer\n",
    "from sklearn.metrics.pairwise import linear_kernel, cosine_similarity"
   ]
  },
  {
   "cell_type": "code",
   "execution_count": 96,
   "metadata": {},
   "outputs": [],
   "source": [
    "books['authors'] = books['authors'].apply(lambda x: [str.lower(i.replace(\" \", \"\")) for i in x.split(', ')])"
   ]
  },
  {
   "cell_type": "code",
   "execution_count": 97,
   "metadata": {},
   "outputs": [],
   "source": [
    "def get_genres(x):\n",
    "    t = book_tags[book_tags.goodreads_book_id==x]\n",
    "    return [i.lower().replace(\" \", \"\") for i in tags.tag_name.loc[t.tag_id].values]"
   ]
  },
  {
   "cell_type": "code",
   "execution_count": 98,
   "metadata": {},
   "outputs": [],
   "source": [
    "books['genres'] = books.book_id.apply(get_genres)"
   ]
  },
  {
   "cell_type": "code",
   "execution_count": 99,
   "metadata": {},
   "outputs": [],
   "source": [
    "books['new'] = books.apply(lambda x: ' '.join([x['title']] + x['authors'] + x['genres']), axis=1)"
   ]
  },
  {
   "cell_type": "code",
   "execution_count": 100,
   "metadata": {},
   "outputs": [
    {
     "data": {
      "text/plain": [
       "0    The Hunger Games (The Hunger Games, #1) suzann...\n",
       "1    Harry Potter and the Sorcerer's Stone (Harry P...\n",
       "2    Twilight (Twilight, #1) stepheniemeyer to-read...\n",
       "3                      To Kill a Mockingbird harperlee\n",
       "4    The Great Gatsby f.scottfitzgerald favorites f...\n",
       "Name: new, dtype: object"
      ]
     },
     "execution_count": 100,
     "metadata": {},
     "output_type": "execute_result"
    }
   ],
   "source": [
    "books.new.head()"
   ]
  },
  {
   "cell_type": "code",
   "execution_count": 102,
   "metadata": {},
   "outputs": [],
   "source": [
    "count = CountVectorizer(analyzer='word',ngram_range=(1, 2),min_df=0, stop_words='english')\n",
    "count_matrix = count.fit_transform(books['new'])"
   ]
  },
  {
   "cell_type": "markdown",
   "metadata": {},
   "source": [
    "### Cosine Similarity"
   ]
  },
  {
   "cell_type": "code",
   "execution_count": 103,
   "metadata": {},
   "outputs": [],
   "source": [
    "cosine_sim = cosine_similarity(count_matrix, count_matrix)"
   ]
  },
  {
   "cell_type": "code",
   "execution_count": 104,
   "metadata": {},
   "outputs": [],
   "source": [
    "indices = pd.Series(books.index, index=books['title'])\n",
    "titles = books['title']"
   ]
  },
  {
   "cell_type": "code",
   "execution_count": 105,
   "metadata": {},
   "outputs": [],
   "source": [
    "def get_recommendations(title, n=10):\n",
    "    idx = indices[title]\n",
    "    sim_scores = list(enumerate(cosine_sim[idx]))\n",
    "    sim_scores = sorted(sim_scores, key=lambda x: x[1], reverse=True)\n",
    "    sim_scores = sim_scores[1:31]\n",
    "    book_indices = [i[0] for i in sim_scores]\n",
    "    return list(titles.iloc[book_indices].values)[:n]"
   ]
  },
  {
   "cell_type": "code",
   "execution_count": 136,
   "metadata": {},
   "outputs": [
    {
     "data": {
      "text/plain": [
       "['Twilight (Twilight, #1)',\n",
       " 'The Hunger Games (The Hunger Games, #1)',\n",
       " 'The Fault in Our Stars',\n",
       " 'Pride and Prejudice',\n",
       " \"Harry Potter and the Sorcerer's Stone (Harry Potter, #1)\",\n",
       " 'Private Games (Private #3)',\n",
       " 'The Namesake',\n",
       " 'Our Mutual Friend',\n",
       " 'The Catcher in the Rye',\n",
       " 'Adam']"
      ]
     },
     "execution_count": 136,
     "metadata": {},
     "output_type": "execute_result"
    }
   ],
   "source": [
    "get_recommendations(\"The Great Gatsby\")"
   ]
  },
  {
   "cell_type": "markdown",
   "metadata": {},
   "source": [
    "#### Partial Title"
   ]
  },
  {
   "cell_type": "markdown",
   "metadata": {},
   "source": [
    "What if I want a specific book but I can't remember it's full name?\n",
    "\n",
    "I then decided to creat the following method to get book titles from a partial title."
   ]
  },
  {
   "cell_type": "code",
   "execution_count": 107,
   "metadata": {},
   "outputs": [],
   "source": [
    "def get_name_from_partial(title):\n",
    "    return list(books.title[books.title.str.lower().str.contains(title) == True].values)"
   ]
  },
  {
   "cell_type": "code",
   "execution_count": 138,
   "metadata": {},
   "outputs": [
    {
     "data": {
      "text/plain": [
       "[(0, 'Catching Fire (The Hunger Games, #2)'),\n",
       " (1, 'Harry Potter and the Goblet of Fire (Harry Potter, #4)'),\n",
       " (2, 'A Game of Thrones (A Song of Ice and Fire, #1)'),\n",
       " (3, 'The Girl Who Played with Fire (Millennium, #2)'),\n",
       " (4, 'A Clash of Kings  (A Song of Ice and Fire, #2)'),\n",
       " (5, 'A Storm of Swords (A Song of Ice and Fire, #3)'),\n",
       " (6, 'A Feast for Crows (A Song of Ice and Fire, #4)'),\n",
       " (7, 'Bared to You (Crossfire, #1)'),\n",
       " (8, 'Reflected in You (Crossfire, #2)'),\n",
       " (9, 'City of Heavenly Fire (The Mortal Instruments, #6)'),\n",
       " (10, 'Firestarter'),\n",
       " (11, 'Entwined with You (Crossfire, #3)'),\n",
       " (12, 'Firefly Lane (Firefly Lane, #1)'),\n",
       " (13, 'Brain on Fire: My Month of Madness'),\n",
       " (14, 'The Throne of Fire (Kane Chronicles, #2)'),\n",
       " (15, 'Fire (Graceling Realm, #2)'),\n",
       " (16, 'The Fires of Heaven (Wheel of Time, #5)'),\n",
       " (17, 'Heir of Fire (Throne of Glass, #3)'),\n",
       " (18,\n",
       "  'A Storm of Swords: Blood and Gold (A Song of Ice and Fire, #3: Part 2 of 2)'),\n",
       " (19, 'The Bonfire of the Vanities'),\n",
       " (20, 'Born in Fire (Born In Trilogy, #1)'),\n",
       " (21, 'Captivated by You (Crossfire, #4)'),\n",
       " (22, 'Soul of the Fire (Sword of Truth, #5)'),\n",
       " (23,\n",
       "  'A Storm of Swords: Steel and Snow (A Song of Ice and Fire, #3: Part 1 of 2)'),\n",
       " (24, 'Firefight (The Reckoners, #2)'),\n",
       " (25, 'Fireproof'),\n",
       " (26, 'The Girl of Fire and Thorns (Fire and Thorns, #1)'),\n",
       " (27, 'Chainfire (Sword of Truth, #9)'),\n",
       " (28, 'A Song of Ice and Fire (A Song of Ice and Fire, #1-5)'),\n",
       " (29, 'A Fire Upon the Deep (Zones of Thought, #1)'),\n",
       " (30, 'Firelight (Firelight, #1)'),\n",
       " (31, 'Wings of Fire: An Autobiography'),\n",
       " (32, 'Fly Away (Firefly Lane, #2)'),\n",
       " (33, 'Pale Fire'),\n",
       " (34, 'Fire Study (Study, #3)'),\n",
       " (35, 'One with You (Crossfire, #5)'),\n",
       " (36, 'Fire and Ice (Warriors, #2)'),\n",
       " (37, 'The Fireman'),\n",
       " (38, 'Face the Fire (Three Sisters Island, #3)'),\n",
       " (39, 'The Crown of Embers (Fire and Thorns, #2)'),\n",
       " (40, 'Chasing Fire'),\n",
       " (41, 'A Thousand Pieces of You (Firebird, #1)'),\n",
       " (42, 'Cross Fire (Alex Cross, #17)'),\n",
       " (43, 'Wild Fire (John Corey, #4)'),\n",
       " (44, 'Angelfire (Angelfire, #1)'),\n",
       " (45, 'The Fire Next Time'),\n",
       " (46, 'Vanish (Firelight, #2)'),\n",
       " (47, 'The Fire Within (The Last Dragon Chronicles, #1)'),\n",
       " (48, 'Cold Fire / Hideaway / The Key to Midnight'),\n",
       " (49, 'The Bitter Kingdom (Fire and Thorns, #3)'),\n",
       " (50, 'Icefire (The Last Dragon Chronicles, #2)'),\n",
       " (51, 'Blindsight (Firefall, #1)'),\n",
       " (52, 'Fire Touched (Mercy Thompson, #9)'),\n",
       " (53,\n",
       "  'A Dance with Dragons: Dreams and Dust (A Song of Ice and Fire #5, Part 1 of 2)'),\n",
       " (54, 'The Firebird (Slains, #2)'),\n",
       " (55,\n",
       "  'A Dance with Dragons: After the Feast (A Song of Ice and Fire #5, Part 2 of 2)'),\n",
       " (56, 'White Fire (Pendergast, #13)'),\n",
       " (57, 'Playing with Fire (Skulduggery Pleasant, #2)'),\n",
       " (58, 'The Providence of Fire (Chronicle of the Unhewn Throne, #2)'),\n",
       " (59, 'Fire Sea (The Death Gate Cycle, #3)'),\n",
       " (60,\n",
       "  'The World of Ice & Fire: The Untold History of Westeros and the Game of Thrones'),\n",
       " (61, 'Dark Fire (Matthew Shardlake, #2)'),\n",
       " (62, 'Dark Fire (Dark, #6)'),\n",
       " (63, 'Fire Star (The Last Dragon Chronicles, #3)'),\n",
       " (64, 'Prince of Fire (Gabriel Allon, #5)'),\n",
       " (65, 'Cold Fire (The Circle Opens, #3)'),\n",
       " (66, 'Black Sun Rising (The Coldfire Trilogy, #1)'),\n",
       " (67, 'Dies the Fire (Emberverse, #1)'),\n",
       " (68, 'Rose Under Fire (Code Name Verity, #2)'),\n",
       " (69, \"Firestar's Quest (Warriors Super Edition, #1)\"),\n",
       " (70, 'Firewall (Wallander, #8)'),\n",
       " (71,\n",
       "  \"The Girl Who Was on Fire: Your Favorite Authors on Suzanne Collins' Hunger Games Trilogy\"),\n",
       " (72, 'River of Blue Fire (Otherland, #2)'),\n",
       " (73, 'The Wind Singer (Wind on Fire, #1)'),\n",
       " (74, 'To Build a Fire'),\n",
       " (75, 'The Fire Eternal (The Last Dragon Chronicles, #4)'),\n",
       " (76, 'Shadow Fires'),\n",
       " (77, 'City on Fire'),\n",
       " (78, 'Angel Fire (Angel, #2)'),\n",
       " (79, 'The Wandering Fire (The Fionavar Tapestry, #2)'),\n",
       " (80, 'Hidden (Firelight, #3)')]"
      ]
     },
     "execution_count": 138,
     "metadata": {},
     "output_type": "execute_result"
    }
   ],
   "source": [
    "title = \"fire\"\n",
    "l = get_name_from_partial(title)\n",
    "list(enumerate(l))"
   ]
  },
  {
   "cell_type": "markdown",
   "metadata": {},
   "source": [
    "#### Including Popularity and Ratings"
   ]
  },
  {
   "cell_type": "markdown",
   "metadata": {},
   "source": [
    "One thing that we notice about our recommendation system is that it recommends books regardless of ratings and popularity. Therefore, i try to add a mechanism to remove bad books and return books which are popular and have had a good critical response.\n",
    "\n",
    "I will take the top 30 books based on similarity scores and calculate the vote of the 60th percentile book. Then, using this as the value of  𝑚 , we will calculate the weighted rating of each book the weighted rating formula like we did in the Simple Recommender section.\n",
    "\n",
    "Weighted Rating (WR) =  (𝑣/𝑣+𝑚.𝑅)+(𝑚/𝑣+𝑚.𝐶)\n",
    "\n",
    "  - v = df['ratings_count']\n",
    "  - m = df['ratings_count'].quantile(0.60)\n",
    "  - R = df['average_rating']\n",
    "  - C = df['average_rating'].mean()\n",
    "    df['weighted_rating'] = (R*v + C*m) / (v + m)\n"
   ]
  },
  {
   "cell_type": "code",
   "execution_count": 109,
   "metadata": {},
   "outputs": [],
   "source": [
    "v = books['ratings_count']\n",
    "m = books['ratings_count'].quantile(0.95)\n",
    "R = books['average_rating']\n",
    "C = books['average_rating'].mean()\n",
    "W = (R*v + C*m) / (v + m)\n",
    "\n",
    "books['weighted_rating'] = W"
   ]
  },
  {
   "cell_type": "code",
   "execution_count": 110,
   "metadata": {},
   "outputs": [],
   "source": [
    "def improved_recommendations(title, n=10):\n",
    "    idx = indices[title]\n",
    "    sim_scores = list(enumerate(cosine_sim[idx]))\n",
    "    sim_scores = sorted(sim_scores, key=lambda x: x[1], reverse=True)\n",
    "    sim_scores = sim_scores[1:31]\n",
    "    book_indices = [i[0] for i in sim_scores]\n",
    "    df = books.iloc[book_indices][['title', 'ratings_count', 'average_rating', 'weighted_rating']]\n",
    "\n",
    "    v = df['ratings_count']\n",
    "    m = df['ratings_count'].quantile(0.60)\n",
    "    R = df['average_rating']\n",
    "    C = df['average_rating'].mean()\n",
    "    df['weighted_rating'] = (R*v + C*m) / (v + m)\n",
    "    \n",
    "    qualified = df[df['ratings_count'] >= m]\n",
    "    qualified = qualified.sort_values('weighted_rating', ascending=False)\n",
    "    return qualified.head(n)"
   ]
  },
  {
   "cell_type": "code",
   "execution_count": 111,
   "metadata": {},
   "outputs": [
    {
     "data": {
      "text/html": [
       "<div>\n",
       "<style scoped>\n",
       "    .dataframe tbody tr th:only-of-type {\n",
       "        vertical-align: middle;\n",
       "    }\n",
       "\n",
       "    .dataframe tbody tr th {\n",
       "        vertical-align: top;\n",
       "    }\n",
       "\n",
       "    .dataframe thead th {\n",
       "        text-align: right;\n",
       "    }\n",
       "</style>\n",
       "<table border=\"1\" class=\"dataframe\">\n",
       "  <thead>\n",
       "    <tr style=\"text-align: right;\">\n",
       "      <th></th>\n",
       "      <th>title</th>\n",
       "      <th>ratings_count</th>\n",
       "      <th>average_rating</th>\n",
       "      <th>weighted_rating</th>\n",
       "    </tr>\n",
       "  </thead>\n",
       "  <tbody>\n",
       "    <tr>\n",
       "      <th>10</th>\n",
       "      <td>The Kite Runner</td>\n",
       "      <td>1813044</td>\n",
       "      <td>4.26</td>\n",
       "      <td>4.235273</td>\n",
       "    </tr>\n",
       "    <tr>\n",
       "      <th>111</th>\n",
       "      <td>Me Before You (Me Before You, #1)</td>\n",
       "      <td>587647</td>\n",
       "      <td>4.27</td>\n",
       "      <td>4.204880</td>\n",
       "    </tr>\n",
       "    <tr>\n",
       "      <th>32</th>\n",
       "      <td>Memoirs of a Geisha</td>\n",
       "      <td>1300209</td>\n",
       "      <td>4.08</td>\n",
       "      <td>4.072546</td>\n",
       "    </tr>\n",
       "    <tr>\n",
       "      <th>354</th>\n",
       "      <td>Graceling (Graceling Realm, #1)</td>\n",
       "      <td>281185</td>\n",
       "      <td>4.10</td>\n",
       "      <td>4.068580</td>\n",
       "    </tr>\n",
       "    <tr>\n",
       "      <th>349</th>\n",
       "      <td>Fear and Loathing in Las Vegas</td>\n",
       "      <td>232489</td>\n",
       "      <td>4.08</td>\n",
       "      <td>4.054799</td>\n",
       "    </tr>\n",
       "    <tr>\n",
       "      <th>359</th>\n",
       "      <td>Do Androids Dream of Electric Sheep?</td>\n",
       "      <td>223828</td>\n",
       "      <td>4.08</td>\n",
       "      <td>4.054303</td>\n",
       "    </tr>\n",
       "    <tr>\n",
       "      <th>116</th>\n",
       "      <td>A Wrinkle in Time (A Wrinkle in Time Quintet, #1)</td>\n",
       "      <td>615907</td>\n",
       "      <td>4.04</td>\n",
       "      <td>4.036798</td>\n",
       "    </tr>\n",
       "    <tr>\n",
       "      <th>29</th>\n",
       "      <td>Gone Girl</td>\n",
       "      <td>512475</td>\n",
       "      <td>4.03</td>\n",
       "      <td>4.029308</td>\n",
       "    </tr>\n",
       "    <tr>\n",
       "      <th>356</th>\n",
       "      <td>All Quiet on the Western Front</td>\n",
       "      <td>249113</td>\n",
       "      <td>3.92</td>\n",
       "      <td>3.969993</td>\n",
       "    </tr>\n",
       "    <tr>\n",
       "      <th>352</th>\n",
       "      <td>Othello</td>\n",
       "      <td>238875</td>\n",
       "      <td>3.88</td>\n",
       "      <td>3.950110</td>\n",
       "    </tr>\n",
       "  </tbody>\n",
       "</table>\n",
       "</div>"
      ],
      "text/plain": [
       "                                                 title  ratings_count  \\\n",
       "10                                     The Kite Runner        1813044   \n",
       "111                  Me Before You (Me Before You, #1)         587647   \n",
       "32                                 Memoirs of a Geisha        1300209   \n",
       "354                    Graceling (Graceling Realm, #1)         281185   \n",
       "349                     Fear and Loathing in Las Vegas         232489   \n",
       "359               Do Androids Dream of Electric Sheep?         223828   \n",
       "116  A Wrinkle in Time (A Wrinkle in Time Quintet, #1)         615907   \n",
       "29                                           Gone Girl         512475   \n",
       "356                     All Quiet on the Western Front         249113   \n",
       "352                                            Othello         238875   \n",
       "\n",
       "     average_rating  weighted_rating  \n",
       "10             4.26         4.235273  \n",
       "111            4.27         4.204880  \n",
       "32             4.08         4.072546  \n",
       "354            4.10         4.068580  \n",
       "349            4.08         4.054799  \n",
       "359            4.08         4.054303  \n",
       "116            4.04         4.036798  \n",
       "29             4.03         4.029308  \n",
       "356            3.92         3.969993  \n",
       "352            3.88         3.950110  "
      ]
     },
     "execution_count": 111,
     "metadata": {},
     "output_type": "execute_result"
    }
   ],
   "source": [
    "improved_recommendations('1984')"
   ]
  },
  {
   "cell_type": "markdown",
   "metadata": {},
   "source": [
    "### Collaborative Filtering"
   ]
  },
  {
   "cell_type": "markdown",
   "metadata": {},
   "source": [
    "Our content based engine suffers from some severe limitations. It is only capable of suggesting books which are close to a certain book. That is, it is not capable of capturing tastes and providing recommendations across genres.\n",
    "\n",
    "Also, the engine that we built is not really personal in that it doesn't capture the personal tastes and biases of a user. Anyone querying our engine for recommendations based on a book will receive the same recommendations for that book, regardless of who s/he is.\n",
    "\n",
    "Therefore, in this section, we will use a technique called Collaborative Filtering to make recommendations to Book Readers. Collaborative Filtering is based on the idea that users similar to a me can be used to predict how much I will like a particular product or service those users have used/experienced but I have not.\n"
   ]
  },
  {
   "cell_type": "code",
   "execution_count": 112,
   "metadata": {},
   "outputs": [],
   "source": [
    "from scipy.sparse import csr_matrix\n",
    "from sklearn.neighbors import NearestNeighbors #unsupervise learing model, mencari tetangga terdekat\n",
    "import os\n",
    "os.environ['KMP_DUPLICATE_LIB_OK']='True'"
   ]
  },
  {
   "cell_type": "markdown",
   "metadata": {},
   "source": [
    "### merging data"
   ]
  },
  {
   "cell_type": "code",
   "execution_count": 113,
   "metadata": {},
   "outputs": [
    {
     "data": {
      "text/html": [
       "<div>\n",
       "<style scoped>\n",
       "    .dataframe tbody tr th:only-of-type {\n",
       "        vertical-align: middle;\n",
       "    }\n",
       "\n",
       "    .dataframe tbody tr th {\n",
       "        vertical-align: top;\n",
       "    }\n",
       "\n",
       "    .dataframe thead th {\n",
       "        text-align: right;\n",
       "    }\n",
       "</style>\n",
       "<table border=\"1\" class=\"dataframe\">\n",
       "  <thead>\n",
       "    <tr style=\"text-align: right;\">\n",
       "      <th></th>\n",
       "      <th>book_id</th>\n",
       "      <th>goodreads_book_id</th>\n",
       "      <th>best_book_id</th>\n",
       "      <th>work_id</th>\n",
       "      <th>books_count</th>\n",
       "      <th>isbn</th>\n",
       "      <th>isbn13</th>\n",
       "      <th>authors</th>\n",
       "      <th>original_publication_year</th>\n",
       "      <th>original_title</th>\n",
       "      <th>...</th>\n",
       "      <th>ratings_3</th>\n",
       "      <th>ratings_4</th>\n",
       "      <th>ratings_5</th>\n",
       "      <th>image_url</th>\n",
       "      <th>small_image_url</th>\n",
       "      <th>genres</th>\n",
       "      <th>new</th>\n",
       "      <th>weighted_rating</th>\n",
       "      <th>user_id</th>\n",
       "      <th>rating</th>\n",
       "    </tr>\n",
       "  </thead>\n",
       "  <tbody>\n",
       "    <tr>\n",
       "      <th>0</th>\n",
       "      <td>1</td>\n",
       "      <td>2767052</td>\n",
       "      <td>2767052</td>\n",
       "      <td>2792775</td>\n",
       "      <td>272</td>\n",
       "      <td>439023483</td>\n",
       "      <td>9.780439e+12</td>\n",
       "      <td>[suzannecollins]</td>\n",
       "      <td>2008</td>\n",
       "      <td>The Hunger Games</td>\n",
       "      <td>...</td>\n",
       "      <td>560092</td>\n",
       "      <td>1481305</td>\n",
       "      <td>2706317</td>\n",
       "      <td>https://images.gr-assets.com/books/1447303603m...</td>\n",
       "      <td>https://images.gr-assets.com/books/1447303603s...</td>\n",
       "      <td>[to-read, fantasy, favorites, currently-readin...</td>\n",
       "      <td>the hunger games (the hunger games, #1) suzann...</td>\n",
       "      <td>4.326207</td>\n",
       "      <td>2886</td>\n",
       "      <td>5</td>\n",
       "    </tr>\n",
       "    <tr>\n",
       "      <th>1</th>\n",
       "      <td>1</td>\n",
       "      <td>2767052</td>\n",
       "      <td>2767052</td>\n",
       "      <td>2792775</td>\n",
       "      <td>272</td>\n",
       "      <td>439023483</td>\n",
       "      <td>9.780439e+12</td>\n",
       "      <td>[suzannecollins]</td>\n",
       "      <td>2008</td>\n",
       "      <td>The Hunger Games</td>\n",
       "      <td>...</td>\n",
       "      <td>560092</td>\n",
       "      <td>1481305</td>\n",
       "      <td>2706317</td>\n",
       "      <td>https://images.gr-assets.com/books/1447303603m...</td>\n",
       "      <td>https://images.gr-assets.com/books/1447303603s...</td>\n",
       "      <td>[to-read, fantasy, favorites, currently-readin...</td>\n",
       "      <td>the hunger games (the hunger games, #1) suzann...</td>\n",
       "      <td>4.326207</td>\n",
       "      <td>6158</td>\n",
       "      <td>5</td>\n",
       "    </tr>\n",
       "    <tr>\n",
       "      <th>2</th>\n",
       "      <td>1</td>\n",
       "      <td>2767052</td>\n",
       "      <td>2767052</td>\n",
       "      <td>2792775</td>\n",
       "      <td>272</td>\n",
       "      <td>439023483</td>\n",
       "      <td>9.780439e+12</td>\n",
       "      <td>[suzannecollins]</td>\n",
       "      <td>2008</td>\n",
       "      <td>The Hunger Games</td>\n",
       "      <td>...</td>\n",
       "      <td>560092</td>\n",
       "      <td>1481305</td>\n",
       "      <td>2706317</td>\n",
       "      <td>https://images.gr-assets.com/books/1447303603m...</td>\n",
       "      <td>https://images.gr-assets.com/books/1447303603s...</td>\n",
       "      <td>[to-read, fantasy, favorites, currently-readin...</td>\n",
       "      <td>the hunger games (the hunger games, #1) suzann...</td>\n",
       "      <td>4.326207</td>\n",
       "      <td>3991</td>\n",
       "      <td>4</td>\n",
       "    </tr>\n",
       "    <tr>\n",
       "      <th>3</th>\n",
       "      <td>1</td>\n",
       "      <td>2767052</td>\n",
       "      <td>2767052</td>\n",
       "      <td>2792775</td>\n",
       "      <td>272</td>\n",
       "      <td>439023483</td>\n",
       "      <td>9.780439e+12</td>\n",
       "      <td>[suzannecollins]</td>\n",
       "      <td>2008</td>\n",
       "      <td>The Hunger Games</td>\n",
       "      <td>...</td>\n",
       "      <td>560092</td>\n",
       "      <td>1481305</td>\n",
       "      <td>2706317</td>\n",
       "      <td>https://images.gr-assets.com/books/1447303603m...</td>\n",
       "      <td>https://images.gr-assets.com/books/1447303603s...</td>\n",
       "      <td>[to-read, fantasy, favorites, currently-readin...</td>\n",
       "      <td>the hunger games (the hunger games, #1) suzann...</td>\n",
       "      <td>4.326207</td>\n",
       "      <td>5281</td>\n",
       "      <td>5</td>\n",
       "    </tr>\n",
       "    <tr>\n",
       "      <th>4</th>\n",
       "      <td>1</td>\n",
       "      <td>2767052</td>\n",
       "      <td>2767052</td>\n",
       "      <td>2792775</td>\n",
       "      <td>272</td>\n",
       "      <td>439023483</td>\n",
       "      <td>9.780439e+12</td>\n",
       "      <td>[suzannecollins]</td>\n",
       "      <td>2008</td>\n",
       "      <td>The Hunger Games</td>\n",
       "      <td>...</td>\n",
       "      <td>560092</td>\n",
       "      <td>1481305</td>\n",
       "      <td>2706317</td>\n",
       "      <td>https://images.gr-assets.com/books/1447303603m...</td>\n",
       "      <td>https://images.gr-assets.com/books/1447303603s...</td>\n",
       "      <td>[to-read, fantasy, favorites, currently-readin...</td>\n",
       "      <td>the hunger games (the hunger games, #1) suzann...</td>\n",
       "      <td>4.326207</td>\n",
       "      <td>5721</td>\n",
       "      <td>5</td>\n",
       "    </tr>\n",
       "  </tbody>\n",
       "</table>\n",
       "<p>5 rows × 28 columns</p>\n",
       "</div>"
      ],
      "text/plain": [
       "   book_id  goodreads_book_id  best_book_id  work_id  books_count       isbn  \\\n",
       "0        1            2767052       2767052  2792775          272  439023483   \n",
       "1        1            2767052       2767052  2792775          272  439023483   \n",
       "2        1            2767052       2767052  2792775          272  439023483   \n",
       "3        1            2767052       2767052  2792775          272  439023483   \n",
       "4        1            2767052       2767052  2792775          272  439023483   \n",
       "\n",
       "         isbn13           authors  original_publication_year  \\\n",
       "0  9.780439e+12  [suzannecollins]                       2008   \n",
       "1  9.780439e+12  [suzannecollins]                       2008   \n",
       "2  9.780439e+12  [suzannecollins]                       2008   \n",
       "3  9.780439e+12  [suzannecollins]                       2008   \n",
       "4  9.780439e+12  [suzannecollins]                       2008   \n",
       "\n",
       "     original_title  ... ratings_3 ratings_4  ratings_5  \\\n",
       "0  The Hunger Games  ...    560092   1481305    2706317   \n",
       "1  The Hunger Games  ...    560092   1481305    2706317   \n",
       "2  The Hunger Games  ...    560092   1481305    2706317   \n",
       "3  The Hunger Games  ...    560092   1481305    2706317   \n",
       "4  The Hunger Games  ...    560092   1481305    2706317   \n",
       "\n",
       "                                           image_url  \\\n",
       "0  https://images.gr-assets.com/books/1447303603m...   \n",
       "1  https://images.gr-assets.com/books/1447303603m...   \n",
       "2  https://images.gr-assets.com/books/1447303603m...   \n",
       "3  https://images.gr-assets.com/books/1447303603m...   \n",
       "4  https://images.gr-assets.com/books/1447303603m...   \n",
       "\n",
       "                                     small_image_url  \\\n",
       "0  https://images.gr-assets.com/books/1447303603s...   \n",
       "1  https://images.gr-assets.com/books/1447303603s...   \n",
       "2  https://images.gr-assets.com/books/1447303603s...   \n",
       "3  https://images.gr-assets.com/books/1447303603s...   \n",
       "4  https://images.gr-assets.com/books/1447303603s...   \n",
       "\n",
       "                                              genres  \\\n",
       "0  [to-read, fantasy, favorites, currently-readin...   \n",
       "1  [to-read, fantasy, favorites, currently-readin...   \n",
       "2  [to-read, fantasy, favorites, currently-readin...   \n",
       "3  [to-read, fantasy, favorites, currently-readin...   \n",
       "4  [to-read, fantasy, favorites, currently-readin...   \n",
       "\n",
       "                                                 new  weighted_rating  \\\n",
       "0  the hunger games (the hunger games, #1) suzann...         4.326207   \n",
       "1  the hunger games (the hunger games, #1) suzann...         4.326207   \n",
       "2  the hunger games (the hunger games, #1) suzann...         4.326207   \n",
       "3  the hunger games (the hunger games, #1) suzann...         4.326207   \n",
       "4  the hunger games (the hunger games, #1) suzann...         4.326207   \n",
       "\n",
       "   user_id  rating  \n",
       "0     2886       5  \n",
       "1     6158       5  \n",
       "2     3991       4  \n",
       "3     5281       5  \n",
       "4     5721       5  \n",
       "\n",
       "[5 rows x 28 columns]"
      ]
     },
     "execution_count": 113,
     "metadata": {},
     "output_type": "execute_result"
    }
   ],
   "source": [
    "data = pd.merge(books, ratings, on='book_id')\n",
    "data.head(5)"
   ]
  },
  {
   "cell_type": "markdown",
   "metadata": {},
   "source": [
    "#### data exploration"
   ]
  },
  {
   "cell_type": "markdown",
   "metadata": {},
   "source": [
    "#### mean rating of all books"
   ]
  },
  {
   "cell_type": "code",
   "execution_count": 114,
   "metadata": {},
   "outputs": [
    {
     "data": {
      "text/plain": [
       "title\n",
       "The Complete Calvin and Hobbes                                       4.829876\n",
       "Attack of the Deranged Mutant Killer Monster Snow Goons              4.768707\n",
       "The Indispensable Calvin and Hobbes                                  4.766355\n",
       "There's Treasure Everywhere: A Calvin and Hobbes Collection          4.760456\n",
       "The Authoritative Calvin and Hobbes: A Calvin and Hobbes Treasury    4.757202\n",
       "It's a Magical World: A Calvin and Hobbes Collection                 4.747396\n",
       "The Calvin and Hobbes Tenth Anniversary Book                         4.728528\n",
       "The Days Are Just Packed: A Calvin and Hobbes Collection             4.722656\n",
       "The Divan                                                            4.720000\n",
       "The Way of Kings, Part 1 (The Stormlight Archive #1.1)               4.711765\n",
       "Name: rating, dtype: float64"
      ]
     },
     "execution_count": 114,
     "metadata": {},
     "output_type": "execute_result"
    }
   ],
   "source": [
    "data.groupby('title')['rating'].mean().sort_values(ascending=False).head(10)"
   ]
  },
  {
   "cell_type": "markdown",
   "metadata": {},
   "source": [
    "#### count rating of all books\n"
   ]
  },
  {
   "cell_type": "code",
   "execution_count": 115,
   "metadata": {},
   "outputs": [
    {
     "data": {
      "text/plain": [
       "title\n",
       "The Hunger Games (The Hunger Games, #1)                        22806\n",
       "Harry Potter and the Sorcerer's Stone (Harry Potter, #1)       21850\n",
       "To Kill a Mockingbird                                          19088\n",
       "Twilight (Twilight, #1)                                        16931\n",
       "The Great Gatsby                                               16604\n",
       "Catching Fire (The Hunger Games, #2)                           16549\n",
       "Mockingjay (The Hunger Games, #3)                              15953\n",
       "Harry Potter and the Prisoner of Azkaban (Harry Potter, #3)    15855\n",
       "Harry Potter and the Chamber of Secrets (Harry Potter, #2)     15657\n",
       "The Hobbit                                                     15558\n",
       "Name: rating, dtype: int64"
      ]
     },
     "execution_count": 115,
     "metadata": {},
     "output_type": "execute_result"
    }
   ],
   "source": [
    "data.groupby('title')['rating'].count().sort_values(ascending=False).head(10)"
   ]
  },
  {
   "cell_type": "markdown",
   "metadata": {},
   "source": [
    "### rating values groupby book titles"
   ]
  },
  {
   "cell_type": "code",
   "execution_count": 116,
   "metadata": {},
   "outputs": [
    {
     "data": {
      "text/html": [
       "<div>\n",
       "<style scoped>\n",
       "    .dataframe tbody tr th:only-of-type {\n",
       "        vertical-align: middle;\n",
       "    }\n",
       "\n",
       "    .dataframe tbody tr th {\n",
       "        vertical-align: top;\n",
       "    }\n",
       "\n",
       "    .dataframe thead th {\n",
       "        text-align: right;\n",
       "    }\n",
       "</style>\n",
       "<table border=\"1\" class=\"dataframe\">\n",
       "  <thead>\n",
       "    <tr style=\"text-align: right;\">\n",
       "      <th></th>\n",
       "      <th>rating</th>\n",
       "      <th>num_of_ratings</th>\n",
       "    </tr>\n",
       "    <tr>\n",
       "      <th>title</th>\n",
       "      <th></th>\n",
       "      <th></th>\n",
       "    </tr>\n",
       "  </thead>\n",
       "  <tbody>\n",
       "    <tr>\n",
       "      <th>Angels (Walsh Family, #3)</th>\n",
       "      <td>3.562738</td>\n",
       "      <td>263</td>\n",
       "    </tr>\n",
       "    <tr>\n",
       "      <th>'Salem's Lot</th>\n",
       "      <td>3.938868</td>\n",
       "      <td>4433</td>\n",
       "    </tr>\n",
       "    <tr>\n",
       "      <th>'Tis (Frank McCourt, #2)</th>\n",
       "      <td>3.570413</td>\n",
       "      <td>703</td>\n",
       "    </tr>\n",
       "    <tr>\n",
       "      <th>10% Happier: How I Tamed the Voice in My Head, Reduced Stress Without Losing My Edge, and Found Self-Help That Actually Works</th>\n",
       "      <td>3.838384</td>\n",
       "      <td>297</td>\n",
       "    </tr>\n",
       "    <tr>\n",
       "      <th>100 Bullets, Vol. 1: First Shot, Last Call</th>\n",
       "      <td>3.617647</td>\n",
       "      <td>170</td>\n",
       "    </tr>\n",
       "  </tbody>\n",
       "</table>\n",
       "</div>"
      ],
      "text/plain": [
       "                                                      rating  num_of_ratings\n",
       "title                                                                       \n",
       " Angels (Walsh Family, #3)                          3.562738             263\n",
       "'Salem's Lot                                        3.938868            4433\n",
       "'Tis (Frank McCourt, #2)                            3.570413             703\n",
       "10% Happier: How I Tamed the Voice in My Head, ...  3.838384             297\n",
       "100 Bullets, Vol. 1: First Shot, Last Call          3.617647             170"
      ]
     },
     "execution_count": 116,
     "metadata": {},
     "output_type": "execute_result"
    }
   ],
   "source": [
    "ratings_1= pd.DataFrame(data.groupby('title')['rating'].mean())\n",
    "\n",
    "#tambah kolom\n",
    "ratings_1['num_of_ratings'] = pd.DataFrame(data.groupby('title')['rating'].count())\n",
    "ratings_1.head()"
   ]
  },
  {
   "cell_type": "code",
   "execution_count": 117,
   "metadata": {},
   "outputs": [
    {
     "data": {
      "text/html": [
       "<div>\n",
       "<style scoped>\n",
       "    .dataframe tbody tr th:only-of-type {\n",
       "        vertical-align: middle;\n",
       "    }\n",
       "\n",
       "    .dataframe tbody tr th {\n",
       "        vertical-align: top;\n",
       "    }\n",
       "\n",
       "    .dataframe thead th {\n",
       "        text-align: right;\n",
       "    }\n",
       "</style>\n",
       "<table border=\"1\" class=\"dataframe\">\n",
       "  <thead>\n",
       "    <tr style=\"text-align: right;\">\n",
       "      <th></th>\n",
       "      <th>rating</th>\n",
       "      <th>num_of_ratings</th>\n",
       "    </tr>\n",
       "    <tr>\n",
       "      <th>title</th>\n",
       "      <th></th>\n",
       "      <th></th>\n",
       "    </tr>\n",
       "  </thead>\n",
       "  <tbody>\n",
       "    <tr>\n",
       "      <th>The Hunger Games (The Hunger Games, #1)</th>\n",
       "      <td>4.279707</td>\n",
       "      <td>22806</td>\n",
       "    </tr>\n",
       "    <tr>\n",
       "      <th>Harry Potter and the Sorcerer's Stone (Harry Potter, #1)</th>\n",
       "      <td>4.351350</td>\n",
       "      <td>21850</td>\n",
       "    </tr>\n",
       "    <tr>\n",
       "      <th>To Kill a Mockingbird</th>\n",
       "      <td>4.329369</td>\n",
       "      <td>19088</td>\n",
       "    </tr>\n",
       "    <tr>\n",
       "      <th>Twilight (Twilight, #1)</th>\n",
       "      <td>3.214341</td>\n",
       "      <td>16931</td>\n",
       "    </tr>\n",
       "    <tr>\n",
       "      <th>The Great Gatsby</th>\n",
       "      <td>3.772224</td>\n",
       "      <td>16604</td>\n",
       "    </tr>\n",
       "  </tbody>\n",
       "</table>\n",
       "</div>"
      ],
      "text/plain": [
       "                                                      rating  num_of_ratings\n",
       "title                                                                       \n",
       "The Hunger Games (The Hunger Games, #1)             4.279707           22806\n",
       "Harry Potter and the Sorcerer's Stone (Harry Po...  4.351350           21850\n",
       "To Kill a Mockingbird                               4.329369           19088\n",
       "Twilight (Twilight, #1)                             3.214341           16931\n",
       "The Great Gatsby                                    3.772224           16604"
      ]
     },
     "execution_count": 117,
     "metadata": {},
     "output_type": "execute_result"
    }
   ],
   "source": [
    "ratings_1.sort_values('num_of_ratings', ascending= False).head()"
   ]
  },
  {
   "cell_type": "markdown",
   "metadata": {},
   "source": [
    "## Visualisation"
   ]
  },
  {
   "cell_type": "code",
   "execution_count": 118,
   "metadata": {},
   "outputs": [
    {
     "data": {
      "image/png": "[encoded data removed]",
      "text/plain": [
       "<Figure size 720x288 with 1 Axes>"
      ]
     },
     "metadata": {},
     "output_type": "display_data"
    }
   ],
   "source": [
    "plt.style.use('seaborn')\n",
    "plt.figure(figsize = (10,4))\n",
    "ratings_1['num_of_ratings'].hist(bins = 25)\n",
    "plt.title('Total Rating/Book Distribution', size=15)\n",
    "plt.show()"
   ]
  },
  {
   "cell_type": "code",
   "execution_count": 119,
   "metadata": {},
   "outputs": [
    {
     "data": {
      "image/png": "[encoded data removed]",
      "text/plain": [
       "<Figure size 720x288 with 1 Axes>"
      ]
     },
     "metadata": {},
     "output_type": "display_data"
    }
   ],
   "source": [
    "plt.figure(figsize = (10,4))\n",
    "ratings_1['rating'].hist(bins = 25)\n",
    "plt.title('Rating Distribution', size = 15)\n",
    "plt.show()"
   ]
  },
  {
   "cell_type": "markdown",
   "metadata": {},
   "source": [
    "# **``Recommendation based on 'Book Rating' Correlation``**"
   ]
  },
  {
   "cell_type": "code",
   "execution_count": 120,
   "metadata": {},
   "outputs": [
    {
     "data": {
      "text/html": [
       "<div>\n",
       "<style scoped>\n",
       "    .dataframe tbody tr th:only-of-type {\n",
       "        vertical-align: middle;\n",
       "    }\n",
       "\n",
       "    .dataframe tbody tr th {\n",
       "        vertical-align: top;\n",
       "    }\n",
       "\n",
       "    .dataframe thead th {\n",
       "        text-align: right;\n",
       "    }\n",
       "</style>\n",
       "<table border=\"1\" class=\"dataframe\">\n",
       "  <thead>\n",
       "    <tr style=\"text-align: right;\">\n",
       "      <th>title</th>\n",
       "      <th>Angels (Walsh Family, #3)</th>\n",
       "      <th>'Salem's Lot</th>\n",
       "      <th>'Tis (Frank McCourt, #2)</th>\n",
       "      <th>10% Happier: How I Tamed the Voice in My Head, Reduced Stress Without Losing My Edge, and Found Self-Help That Actually Works</th>\n",
       "      <th>100 Bullets, Vol. 1: First Shot, Last Call</th>\n",
       "      <th>100 Love Sonnets</th>\n",
       "      <th>100 Selected Poems</th>\n",
       "      <th>10th Anniversary (Women's Murder Club, #10)</th>\n",
       "      <th>11 Birthdays (Willow Falls, #1)</th>\n",
       "      <th>11/22/63</th>\n",
       "      <th>...</th>\n",
       "      <th>أولاد حارتنا</th>\n",
       "      <th>باب الخروج: رسالة علي المفعمة ببهجة غير متوقعة</th>\n",
       "      <th>حوجن [Ḥawjan]</th>\n",
       "      <th>ساق البامبو</th>\n",
       "      <th>سمفونی مردگان</th>\n",
       "      <th>شيكاجو</th>\n",
       "      <th>عقاید یک دلقک</th>\n",
       "      <th>في ديسمبر تنتهي كل الأحلام</th>\n",
       "      <th>キスよりも早く1 [Kisu Yorimo Hayaku 1] (Faster than a Kiss #1)</th>\n",
       "      <th>美少女戦士セーラームーン新装版 1 [Bishōjo Senshi Sailor Moon Shinsōban 1]</th>\n",
       "    </tr>\n",
       "    <tr>\n",
       "      <th>user_id</th>\n",
       "      <th></th>\n",
       "      <th></th>\n",
       "      <th></th>\n",
       "      <th></th>\n",
       "      <th></th>\n",
       "      <th></th>\n",
       "      <th></th>\n",
       "      <th></th>\n",
       "      <th></th>\n",
       "      <th></th>\n",
       "      <th></th>\n",
       "      <th></th>\n",
       "      <th></th>\n",
       "      <th></th>\n",
       "      <th></th>\n",
       "      <th></th>\n",
       "      <th></th>\n",
       "      <th></th>\n",
       "      <th></th>\n",
       "      <th></th>\n",
       "      <th></th>\n",
       "    </tr>\n",
       "  </thead>\n",
       "  <tbody>\n",
       "    <tr>\n",
       "      <th>1</th>\n",
       "      <td>0.0</td>\n",
       "      <td>0.0</td>\n",
       "      <td>0.0</td>\n",
       "      <td>0.0</td>\n",
       "      <td>0.0</td>\n",
       "      <td>0.0</td>\n",
       "      <td>0.0</td>\n",
       "      <td>0.0</td>\n",
       "      <td>0.0</td>\n",
       "      <td>0.0</td>\n",
       "      <td>...</td>\n",
       "      <td>0.0</td>\n",
       "      <td>0.0</td>\n",
       "      <td>0.0</td>\n",
       "      <td>0.0</td>\n",
       "      <td>0.0</td>\n",
       "      <td>0.0</td>\n",
       "      <td>0.0</td>\n",
       "      <td>0.0</td>\n",
       "      <td>0.0</td>\n",
       "      <td>0.0</td>\n",
       "    </tr>\n",
       "    <tr>\n",
       "      <th>2</th>\n",
       "      <td>0.0</td>\n",
       "      <td>0.0</td>\n",
       "      <td>0.0</td>\n",
       "      <td>0.0</td>\n",
       "      <td>0.0</td>\n",
       "      <td>0.0</td>\n",
       "      <td>0.0</td>\n",
       "      <td>0.0</td>\n",
       "      <td>0.0</td>\n",
       "      <td>0.0</td>\n",
       "      <td>...</td>\n",
       "      <td>0.0</td>\n",
       "      <td>0.0</td>\n",
       "      <td>0.0</td>\n",
       "      <td>0.0</td>\n",
       "      <td>0.0</td>\n",
       "      <td>0.0</td>\n",
       "      <td>0.0</td>\n",
       "      <td>0.0</td>\n",
       "      <td>0.0</td>\n",
       "      <td>0.0</td>\n",
       "    </tr>\n",
       "    <tr>\n",
       "      <th>3</th>\n",
       "      <td>0.0</td>\n",
       "      <td>0.0</td>\n",
       "      <td>0.0</td>\n",
       "      <td>0.0</td>\n",
       "      <td>0.0</td>\n",
       "      <td>0.0</td>\n",
       "      <td>0.0</td>\n",
       "      <td>0.0</td>\n",
       "      <td>0.0</td>\n",
       "      <td>0.0</td>\n",
       "      <td>...</td>\n",
       "      <td>0.0</td>\n",
       "      <td>0.0</td>\n",
       "      <td>0.0</td>\n",
       "      <td>0.0</td>\n",
       "      <td>0.0</td>\n",
       "      <td>0.0</td>\n",
       "      <td>0.0</td>\n",
       "      <td>0.0</td>\n",
       "      <td>0.0</td>\n",
       "      <td>0.0</td>\n",
       "    </tr>\n",
       "    <tr>\n",
       "      <th>4</th>\n",
       "      <td>0.0</td>\n",
       "      <td>0.0</td>\n",
       "      <td>0.0</td>\n",
       "      <td>0.0</td>\n",
       "      <td>0.0</td>\n",
       "      <td>0.0</td>\n",
       "      <td>0.0</td>\n",
       "      <td>0.0</td>\n",
       "      <td>0.0</td>\n",
       "      <td>0.0</td>\n",
       "      <td>...</td>\n",
       "      <td>0.0</td>\n",
       "      <td>0.0</td>\n",
       "      <td>0.0</td>\n",
       "      <td>0.0</td>\n",
       "      <td>0.0</td>\n",
       "      <td>0.0</td>\n",
       "      <td>0.0</td>\n",
       "      <td>0.0</td>\n",
       "      <td>0.0</td>\n",
       "      <td>0.0</td>\n",
       "    </tr>\n",
       "    <tr>\n",
       "      <th>5</th>\n",
       "      <td>0.0</td>\n",
       "      <td>0.0</td>\n",
       "      <td>0.0</td>\n",
       "      <td>0.0</td>\n",
       "      <td>0.0</td>\n",
       "      <td>0.0</td>\n",
       "      <td>0.0</td>\n",
       "      <td>0.0</td>\n",
       "      <td>0.0</td>\n",
       "      <td>0.0</td>\n",
       "      <td>...</td>\n",
       "      <td>0.0</td>\n",
       "      <td>0.0</td>\n",
       "      <td>0.0</td>\n",
       "      <td>0.0</td>\n",
       "      <td>0.0</td>\n",
       "      <td>0.0</td>\n",
       "      <td>0.0</td>\n",
       "      <td>0.0</td>\n",
       "      <td>0.0</td>\n",
       "      <td>0.0</td>\n",
       "    </tr>\n",
       "  </tbody>\n",
       "</table>\n",
       "<p>5 rows × 7841 columns</p>\n",
       "</div>"
      ],
      "text/plain": [
       "title     Angels (Walsh Family, #3)  'Salem's Lot  'Tis (Frank McCourt, #2)  \\\n",
       "user_id                                                                       \n",
       "1                               0.0           0.0                       0.0   \n",
       "2                               0.0           0.0                       0.0   \n",
       "3                               0.0           0.0                       0.0   \n",
       "4                               0.0           0.0                       0.0   \n",
       "5                               0.0           0.0                       0.0   \n",
       "\n",
       "title    10% Happier: How I Tamed the Voice in My Head, Reduced Stress Without Losing My Edge, and Found Self-Help That Actually Works  \\\n",
       "user_id                                                                                                                                  \n",
       "1                                                      0.0                                                                               \n",
       "2                                                      0.0                                                                               \n",
       "3                                                      0.0                                                                               \n",
       "4                                                      0.0                                                                               \n",
       "5                                                      0.0                                                                               \n",
       "\n",
       "title    100 Bullets, Vol. 1: First Shot, Last Call  100 Love Sonnets  \\\n",
       "user_id                                                                 \n",
       "1                                               0.0               0.0   \n",
       "2                                               0.0               0.0   \n",
       "3                                               0.0               0.0   \n",
       "4                                               0.0               0.0   \n",
       "5                                               0.0               0.0   \n",
       "\n",
       "title    100 Selected Poems  10th Anniversary (Women's Murder Club, #10)  \\\n",
       "user_id                                                                    \n",
       "1                       0.0                                          0.0   \n",
       "2                       0.0                                          0.0   \n",
       "3                       0.0                                          0.0   \n",
       "4                       0.0                                          0.0   \n",
       "5                       0.0                                          0.0   \n",
       "\n",
       "title    11 Birthdays (Willow Falls, #1)  11/22/63  ...  أولاد حارتنا  \\\n",
       "user_id                                             ...                 \n",
       "1                                    0.0       0.0  ...           0.0   \n",
       "2                                    0.0       0.0  ...           0.0   \n",
       "3                                    0.0       0.0  ...           0.0   \n",
       "4                                    0.0       0.0  ...           0.0   \n",
       "5                                    0.0       0.0  ...           0.0   \n",
       "\n",
       "title    باب الخروج: رسالة علي المفعمة ببهجة غير متوقعة  حوجن [Ḥawjan]  \\\n",
       "user_id                                                                   \n",
       "1                                                   0.0             0.0   \n",
       "2                                                   0.0             0.0   \n",
       "3                                                   0.0             0.0   \n",
       "4                                                   0.0             0.0   \n",
       "5                                                   0.0             0.0   \n",
       "\n",
       "title    ساق البامبو  سمفونی مردگان  شيكاجو  عقاید یک دلقک  \\\n",
       "user_id                                                      \n",
       "1                0.0            0.0     0.0            0.0   \n",
       "2                0.0            0.0     0.0            0.0   \n",
       "3                0.0            0.0     0.0            0.0   \n",
       "4                0.0            0.0     0.0            0.0   \n",
       "5                0.0            0.0     0.0            0.0   \n",
       "\n",
       "title    في ديسمبر تنتهي كل الأحلام  \\\n",
       "user_id                               \n",
       "1                               0.0   \n",
       "2                               0.0   \n",
       "3                               0.0   \n",
       "4                               0.0   \n",
       "5                               0.0   \n",
       "\n",
       "title    キスよりも早く1 [Kisu Yorimo Hayaku 1] (Faster than a Kiss #1)  \\\n",
       "user_id                                                            \n",
       "1                                                      0.0         \n",
       "2                                                      0.0         \n",
       "3                                                      0.0         \n",
       "4                                                      0.0         \n",
       "5                                                      0.0         \n",
       "\n",
       "title    美少女戦士セーラームーン新装版 1 [Bishōjo Senshi Sailor Moon Shinsōban 1]  \n",
       "user_id                                                              \n",
       "1                                                      0.0           \n",
       "2                                                      0.0           \n",
       "3                                                      0.0           \n",
       "4                                                      0.0           \n",
       "5                                                      0.0           \n",
       "\n",
       "[5 rows x 7841 columns]"
      ]
     },
     "execution_count": 120,
     "metadata": {},
     "output_type": "execute_result"
    }
   ],
   "source": [
    "booksmat = data.pivot_table(\n",
    "    index = 'user_id',\n",
    "    columns = 'title',\n",
    "    values = 'rating'\n",
    ").fillna(0)\n",
    "\n",
    "booksmat.head()"
   ]
  },
  {
   "cell_type": "markdown",
   "metadata": {},
   "source": [
    "### rating record of liked movie"
   ]
  },
  {
   "cell_type": "code",
   "execution_count": 121,
   "metadata": {},
   "outputs": [
    {
     "data": {
      "text/plain": [
       "user_id\n",
       "1    0.0\n",
       "2    0.0\n",
       "3    0.0\n",
       "4    3.0\n",
       "5    0.0\n",
       "Name: Dracula, dtype: float64"
      ]
     },
     "execution_count": 121,
     "metadata": {},
     "output_type": "execute_result"
    }
   ],
   "source": [
    "liked_books = 'Dracula'\n",
    "\n",
    "liked_books_ratings = booksmat[liked_books]\n",
    "liked_books_ratings.head()"
   ]
  },
  {
   "cell_type": "markdown",
   "metadata": {},
   "source": [
    "### __Correlation__"
   ]
  },
  {
   "cell_type": "code",
   "execution_count": 122,
   "metadata": {},
   "outputs": [],
   "source": [
    "similar_liked_movie = booksmat.corrwith(liked_books_ratings)"
   ]
  },
  {
   "cell_type": "code",
   "execution_count": 123,
   "metadata": {},
   "outputs": [
    {
     "data": {
      "text/html": [
       "<div>\n",
       "<style scoped>\n",
       "    .dataframe tbody tr th:only-of-type {\n",
       "        vertical-align: middle;\n",
       "    }\n",
       "\n",
       "    .dataframe tbody tr th {\n",
       "        vertical-align: top;\n",
       "    }\n",
       "\n",
       "    .dataframe thead th {\n",
       "        text-align: right;\n",
       "    }\n",
       "</style>\n",
       "<table border=\"1\" class=\"dataframe\">\n",
       "  <thead>\n",
       "    <tr style=\"text-align: right;\">\n",
       "      <th></th>\n",
       "      <th>Correlation</th>\n",
       "    </tr>\n",
       "    <tr>\n",
       "      <th>title</th>\n",
       "      <th></th>\n",
       "    </tr>\n",
       "  </thead>\n",
       "  <tbody>\n",
       "    <tr>\n",
       "      <th>Angels (Walsh Family, #3)</th>\n",
       "      <td>-0.009332</td>\n",
       "    </tr>\n",
       "    <tr>\n",
       "      <th>'Salem's Lot</th>\n",
       "      <td>0.148328</td>\n",
       "    </tr>\n",
       "    <tr>\n",
       "      <th>'Tis (Frank McCourt, #2)</th>\n",
       "      <td>-0.004846</td>\n",
       "    </tr>\n",
       "    <tr>\n",
       "      <th>10% Happier: How I Tamed the Voice in My Head, Reduced Stress Without Losing My Edge, and Found Self-Help That Actually Works</th>\n",
       "      <td>-0.017199</td>\n",
       "    </tr>\n",
       "    <tr>\n",
       "      <th>100 Bullets, Vol. 1: First Shot, Last Call</th>\n",
       "      <td>0.012927</td>\n",
       "    </tr>\n",
       "  </tbody>\n",
       "</table>\n",
       "</div>"
      ],
      "text/plain": [
       "                                                    Correlation\n",
       "title                                                          \n",
       " Angels (Walsh Family, #3)                            -0.009332\n",
       "'Salem's Lot                                           0.148328\n",
       "'Tis (Frank McCourt, #2)                              -0.004846\n",
       "10% Happier: How I Tamed the Voice in My Head, ...    -0.017199\n",
       "100 Bullets, Vol. 1: First Shot, Last Call             0.012927"
      ]
     },
     "execution_count": 123,
     "metadata": {},
     "output_type": "execute_result"
    }
   ],
   "source": [
    "#create dataframe\n",
    "df_books_corr = pd.DataFrame(similar_liked_movie, columns = ['Correlation'])\n",
    "df_books_corr.dropna(inplace = True)\n",
    "df_books_corr.head()"
   ]
  },
  {
   "cell_type": "markdown",
   "metadata": {},
   "source": [
    "### __Movie Recommendation__"
   ]
  },
  {
   "cell_type": "code",
   "execution_count": 124,
   "metadata": {},
   "outputs": [
    {
     "data": {
      "text/html": [
       "<div>\n",
       "<style scoped>\n",
       "    .dataframe tbody tr th:only-of-type {\n",
       "        vertical-align: middle;\n",
       "    }\n",
       "\n",
       "    .dataframe tbody tr th {\n",
       "        vertical-align: top;\n",
       "    }\n",
       "\n",
       "    .dataframe thead th {\n",
       "        text-align: right;\n",
       "    }\n",
       "</style>\n",
       "<table border=\"1\" class=\"dataframe\">\n",
       "  <thead>\n",
       "    <tr style=\"text-align: right;\">\n",
       "      <th></th>\n",
       "      <th>Correlation</th>\n",
       "      <th>num_of_ratings</th>\n",
       "    </tr>\n",
       "    <tr>\n",
       "      <th>title</th>\n",
       "      <th></th>\n",
       "      <th></th>\n",
       "    </tr>\n",
       "  </thead>\n",
       "  <tbody>\n",
       "    <tr>\n",
       "      <th>Angels (Walsh Family, #3)</th>\n",
       "      <td>-0.009332</td>\n",
       "      <td>263</td>\n",
       "    </tr>\n",
       "    <tr>\n",
       "      <th>'Salem's Lot</th>\n",
       "      <td>0.148328</td>\n",
       "      <td>4433</td>\n",
       "    </tr>\n",
       "    <tr>\n",
       "      <th>'Tis (Frank McCourt, #2)</th>\n",
       "      <td>-0.004846</td>\n",
       "      <td>703</td>\n",
       "    </tr>\n",
       "    <tr>\n",
       "      <th>10% Happier: How I Tamed the Voice in My Head, Reduced Stress Without Losing My Edge, and Found Self-Help That Actually Works</th>\n",
       "      <td>-0.017199</td>\n",
       "      <td>297</td>\n",
       "    </tr>\n",
       "    <tr>\n",
       "      <th>100 Bullets, Vol. 1: First Shot, Last Call</th>\n",
       "      <td>0.012927</td>\n",
       "      <td>170</td>\n",
       "    </tr>\n",
       "  </tbody>\n",
       "</table>\n",
       "</div>"
      ],
      "text/plain": [
       "                                                    Correlation  \\\n",
       "title                                                             \n",
       " Angels (Walsh Family, #3)                            -0.009332   \n",
       "'Salem's Lot                                           0.148328   \n",
       "'Tis (Frank McCourt, #2)                              -0.004846   \n",
       "10% Happier: How I Tamed the Voice in My Head, ...    -0.017199   \n",
       "100 Bullets, Vol. 1: First Shot, Last Call             0.012927   \n",
       "\n",
       "                                                    num_of_ratings  \n",
       "title                                                               \n",
       " Angels (Walsh Family, #3)                                     263  \n",
       "'Salem's Lot                                                  4433  \n",
       "'Tis (Frank McCourt, #2)                                       703  \n",
       "10% Happier: How I Tamed the Voice in My Head, ...             297  \n",
       "100 Bullets, Vol. 1: First Shot, Last Call                     170  "
      ]
     },
     "execution_count": 124,
     "metadata": {},
     "output_type": "execute_result"
    }
   ],
   "source": [
    "# optional\n",
    "df_books_corr = df_books_corr.join(ratings_1['num_of_ratings'])\n",
    "df_books_corr.head()"
   ]
  },
  {
   "cell_type": "code",
   "execution_count": 125,
   "metadata": {},
   "outputs": [
    {
     "data": {
      "text/html": [
       "<div>\n",
       "<style scoped>\n",
       "    .dataframe tbody tr th:only-of-type {\n",
       "        vertical-align: middle;\n",
       "    }\n",
       "\n",
       "    .dataframe tbody tr th {\n",
       "        vertical-align: top;\n",
       "    }\n",
       "\n",
       "    .dataframe thead th {\n",
       "        text-align: right;\n",
       "    }\n",
       "</style>\n",
       "<table border=\"1\" class=\"dataframe\">\n",
       "  <thead>\n",
       "    <tr style=\"text-align: right;\">\n",
       "      <th></th>\n",
       "      <th>Correlation</th>\n",
       "      <th>num_of_ratings</th>\n",
       "    </tr>\n",
       "    <tr>\n",
       "      <th>title</th>\n",
       "      <th></th>\n",
       "      <th></th>\n",
       "    </tr>\n",
       "  </thead>\n",
       "  <tbody>\n",
       "    <tr>\n",
       "      <th>Frankenstein</th>\n",
       "      <td>0.334256</td>\n",
       "      <td>7727</td>\n",
       "    </tr>\n",
       "    <tr>\n",
       "      <th>Interview with the Vampire (The Vampire Chronicles, #1)</th>\n",
       "      <td>0.220112</td>\n",
       "      <td>5764</td>\n",
       "    </tr>\n",
       "    <tr>\n",
       "      <th>The Strange Case of Dr. Jekyll and Mr. Hyde</th>\n",
       "      <td>0.203251</td>\n",
       "      <td>2926</td>\n",
       "    </tr>\n",
       "    <tr>\n",
       "      <th>The Picture of Dorian Gray</th>\n",
       "      <td>0.199895</td>\n",
       "      <td>6406</td>\n",
       "    </tr>\n",
       "    <tr>\n",
       "      <th>The Strange Case of Dr. Jekyll and Mr. Hyde and Other Tales of Terror</th>\n",
       "      <td>0.196564</td>\n",
       "      <td>1046</td>\n",
       "    </tr>\n",
       "  </tbody>\n",
       "</table>\n",
       "</div>"
      ],
      "text/plain": [
       "                                                    Correlation  \\\n",
       "title                                                             \n",
       "Frankenstein                                           0.334256   \n",
       "Interview with the Vampire (The Vampire Chronic...     0.220112   \n",
       "The Strange Case of Dr. Jekyll and Mr. Hyde            0.203251   \n",
       "The Picture of Dorian Gray                             0.199895   \n",
       "The Strange Case of Dr. Jekyll and Mr. Hyde and...     0.196564   \n",
       "\n",
       "                                                    num_of_ratings  \n",
       "title                                                               \n",
       "Frankenstein                                                  7727  \n",
       "Interview with the Vampire (The Vampire Chronic...            5764  \n",
       "The Strange Case of Dr. Jekyll and Mr. Hyde                   2926  \n",
       "The Picture of Dorian Gray                                    6406  \n",
       "The Strange Case of Dr. Jekyll and Mr. Hyde and...            1046  "
      ]
     },
     "execution_count": 125,
     "metadata": {},
     "output_type": "execute_result"
    }
   ],
   "source": [
    "# rekomendasi film berdasarkan korelasi tertinggi\n",
    "df_books_corr.sort_values('Correlation', ascending = False).iloc[1:].head()"
   ]
  },
  {
   "cell_type": "code",
   "execution_count": 126,
   "metadata": {},
   "outputs": [
    {
     "data": {
      "text/html": [
       "<div>\n",
       "<style scoped>\n",
       "    .dataframe tbody tr th:only-of-type {\n",
       "        vertical-align: middle;\n",
       "    }\n",
       "\n",
       "    .dataframe tbody tr th {\n",
       "        vertical-align: top;\n",
       "    }\n",
       "\n",
       "    .dataframe thead th {\n",
       "        text-align: right;\n",
       "    }\n",
       "</style>\n",
       "<table border=\"1\" class=\"dataframe\">\n",
       "  <thead>\n",
       "    <tr style=\"text-align: right;\">\n",
       "      <th></th>\n",
       "      <th>Correlation</th>\n",
       "      <th>num_of_ratings</th>\n",
       "    </tr>\n",
       "    <tr>\n",
       "      <th>title</th>\n",
       "      <th></th>\n",
       "      <th></th>\n",
       "    </tr>\n",
       "  </thead>\n",
       "  <tbody>\n",
       "    <tr>\n",
       "      <th>Frankenstein</th>\n",
       "      <td>0.334256</td>\n",
       "      <td>7727</td>\n",
       "    </tr>\n",
       "    <tr>\n",
       "      <th>Interview with the Vampire (The Vampire Chronicles, #1)</th>\n",
       "      <td>0.220112</td>\n",
       "      <td>5764</td>\n",
       "    </tr>\n",
       "    <tr>\n",
       "      <th>The Strange Case of Dr. Jekyll and Mr. Hyde</th>\n",
       "      <td>0.203251</td>\n",
       "      <td>2926</td>\n",
       "    </tr>\n",
       "    <tr>\n",
       "      <th>The Picture of Dorian Gray</th>\n",
       "      <td>0.199895</td>\n",
       "      <td>6406</td>\n",
       "    </tr>\n",
       "    <tr>\n",
       "      <th>The Strange Case of Dr. Jekyll and Mr. Hyde and Other Tales of Terror</th>\n",
       "      <td>0.196564</td>\n",
       "      <td>1046</td>\n",
       "    </tr>\n",
       "  </tbody>\n",
       "</table>\n",
       "</div>"
      ],
      "text/plain": [
       "                                                    Correlation  \\\n",
       "title                                                             \n",
       "Frankenstein                                           0.334256   \n",
       "Interview with the Vampire (The Vampire Chronic...     0.220112   \n",
       "The Strange Case of Dr. Jekyll and Mr. Hyde            0.203251   \n",
       "The Picture of Dorian Gray                             0.199895   \n",
       "The Strange Case of Dr. Jekyll and Mr. Hyde and...     0.196564   \n",
       "\n",
       "                                                    num_of_ratings  \n",
       "title                                                               \n",
       "Frankenstein                                                  7727  \n",
       "Interview with the Vampire (The Vampire Chronic...            5764  \n",
       "The Strange Case of Dr. Jekyll and Mr. Hyde                   2926  \n",
       "The Picture of Dorian Gray                                    6406  \n",
       "The Strange Case of Dr. Jekyll and Mr. Hyde and...            1046  "
      ]
     },
     "execution_count": 126,
     "metadata": {},
     "output_type": "execute_result"
    }
   ],
   "source": [
    "# rekomendasi film berdasarkan korelasi rating dengan syarat jumlah rating di atas 100\n",
    "df_books_corr[df_books_corr['num_of_ratings'] > 200].sort_values('Correlation', ascending = False).iloc[1:].head()"
   ]
  },
  {
   "cell_type": "code",
   "execution_count": 127,
   "metadata": {},
   "outputs": [
    {
     "data": {
      "text/html": [
       "<div>\n",
       "<style scoped>\n",
       "    .dataframe tbody tr th:only-of-type {\n",
       "        vertical-align: middle;\n",
       "    }\n",
       "\n",
       "    .dataframe tbody tr th {\n",
       "        vertical-align: top;\n",
       "    }\n",
       "\n",
       "    .dataframe thead th {\n",
       "        text-align: right;\n",
       "    }\n",
       "</style>\n",
       "<table border=\"1\" class=\"dataframe\">\n",
       "  <thead>\n",
       "    <tr style=\"text-align: right;\">\n",
       "      <th></th>\n",
       "      <th>Correlation</th>\n",
       "      <th>num_of_ratings</th>\n",
       "    </tr>\n",
       "    <tr>\n",
       "      <th>title</th>\n",
       "      <th></th>\n",
       "      <th></th>\n",
       "    </tr>\n",
       "  </thead>\n",
       "  <tbody>\n",
       "    <tr>\n",
       "      <th>Frankenstein</th>\n",
       "      <td>0.334256</td>\n",
       "      <td>7727</td>\n",
       "    </tr>\n",
       "    <tr>\n",
       "      <th>Interview with the Vampire (The Vampire Chronicles, #1)</th>\n",
       "      <td>0.220112</td>\n",
       "      <td>5764</td>\n",
       "    </tr>\n",
       "    <tr>\n",
       "      <th>The Strange Case of Dr. Jekyll and Mr. Hyde</th>\n",
       "      <td>0.203251</td>\n",
       "      <td>2926</td>\n",
       "    </tr>\n",
       "  </tbody>\n",
       "</table>\n",
       "</div>"
      ],
      "text/plain": [
       "                                                    Correlation  \\\n",
       "title                                                             \n",
       "Frankenstein                                           0.334256   \n",
       "Interview with the Vampire (The Vampire Chronic...     0.220112   \n",
       "The Strange Case of Dr. Jekyll and Mr. Hyde            0.203251   \n",
       "\n",
       "                                                    num_of_ratings  \n",
       "title                                                               \n",
       "Frankenstein                                                  7727  \n",
       "Interview with the Vampire (The Vampire Chronic...            5764  \n",
       "The Strange Case of Dr. Jekyll and Mr. Hyde                   2926  "
      ]
     },
     "execution_count": 127,
     "metadata": {},
     "output_type": "execute_result"
    }
   ],
   "source": [
    "# rekomendasi film berdasarkan korelasi rating dengan syarat korelasinya di atas 0.2\n",
    "df_books_corr[df_books_corr['Correlation'] > 0.2].sort_values('Correlation', ascending = False).iloc[1:].head()"
   ]
  },
  {
   "cell_type": "markdown",
   "metadata": {},
   "source": [
    "# **``Recommendation using NearestNeighbors``**"
   ]
  },
  {
   "cell_type": "markdown",
   "metadata": {},
   "source": [
    "### __Movie Pivot Table__"
   ]
  },
  {
   "cell_type": "code",
   "execution_count": 128,
   "metadata": {},
   "outputs": [
    {
     "data": {
      "text/html": [
       "<div>\n",
       "<style scoped>\n",
       "    .dataframe tbody tr th:only-of-type {\n",
       "        vertical-align: middle;\n",
       "    }\n",
       "\n",
       "    .dataframe tbody tr th {\n",
       "        vertical-align: top;\n",
       "    }\n",
       "\n",
       "    .dataframe thead th {\n",
       "        text-align: right;\n",
       "    }\n",
       "</style>\n",
       "<table border=\"1\" class=\"dataframe\">\n",
       "  <thead>\n",
       "    <tr style=\"text-align: right;\">\n",
       "      <th>user_id</th>\n",
       "      <th>1</th>\n",
       "      <th>2</th>\n",
       "      <th>3</th>\n",
       "      <th>4</th>\n",
       "      <th>5</th>\n",
       "      <th>6</th>\n",
       "      <th>7</th>\n",
       "      <th>8</th>\n",
       "      <th>9</th>\n",
       "      <th>10</th>\n",
       "      <th>...</th>\n",
       "      <th>53415</th>\n",
       "      <th>53416</th>\n",
       "      <th>53417</th>\n",
       "      <th>53418</th>\n",
       "      <th>53419</th>\n",
       "      <th>53420</th>\n",
       "      <th>53421</th>\n",
       "      <th>53422</th>\n",
       "      <th>53423</th>\n",
       "      <th>53424</th>\n",
       "    </tr>\n",
       "    <tr>\n",
       "      <th>book_id</th>\n",
       "      <th></th>\n",
       "      <th></th>\n",
       "      <th></th>\n",
       "      <th></th>\n",
       "      <th></th>\n",
       "      <th></th>\n",
       "      <th></th>\n",
       "      <th></th>\n",
       "      <th></th>\n",
       "      <th></th>\n",
       "      <th></th>\n",
       "      <th></th>\n",
       "      <th></th>\n",
       "      <th></th>\n",
       "      <th></th>\n",
       "      <th></th>\n",
       "      <th></th>\n",
       "      <th></th>\n",
       "      <th></th>\n",
       "      <th></th>\n",
       "      <th></th>\n",
       "    </tr>\n",
       "  </thead>\n",
       "  <tbody>\n",
       "    <tr>\n",
       "      <th>1</th>\n",
       "      <td>0.0</td>\n",
       "      <td>0.0</td>\n",
       "      <td>0.0</td>\n",
       "      <td>0.0</td>\n",
       "      <td>0.0</td>\n",
       "      <td>0.0</td>\n",
       "      <td>0.0</td>\n",
       "      <td>0.0</td>\n",
       "      <td>4.0</td>\n",
       "      <td>0.0</td>\n",
       "      <td>...</td>\n",
       "      <td>0.0</td>\n",
       "      <td>0.0</td>\n",
       "      <td>4.0</td>\n",
       "      <td>5.0</td>\n",
       "      <td>4.0</td>\n",
       "      <td>4.0</td>\n",
       "      <td>4.0</td>\n",
       "      <td>4.0</td>\n",
       "      <td>4.0</td>\n",
       "      <td>4.0</td>\n",
       "    </tr>\n",
       "    <tr>\n",
       "      <th>2</th>\n",
       "      <td>0.0</td>\n",
       "      <td>5.0</td>\n",
       "      <td>0.0</td>\n",
       "      <td>5.0</td>\n",
       "      <td>0.0</td>\n",
       "      <td>0.0</td>\n",
       "      <td>0.0</td>\n",
       "      <td>0.0</td>\n",
       "      <td>4.0</td>\n",
       "      <td>0.0</td>\n",
       "      <td>...</td>\n",
       "      <td>0.0</td>\n",
       "      <td>0.0</td>\n",
       "      <td>0.0</td>\n",
       "      <td>0.0</td>\n",
       "      <td>5.0</td>\n",
       "      <td>5.0</td>\n",
       "      <td>5.0</td>\n",
       "      <td>5.0</td>\n",
       "      <td>5.0</td>\n",
       "      <td>5.0</td>\n",
       "    </tr>\n",
       "    <tr>\n",
       "      <th>3</th>\n",
       "      <td>0.0</td>\n",
       "      <td>0.0</td>\n",
       "      <td>0.0</td>\n",
       "      <td>0.0</td>\n",
       "      <td>0.0</td>\n",
       "      <td>0.0</td>\n",
       "      <td>0.0</td>\n",
       "      <td>0.0</td>\n",
       "      <td>4.0</td>\n",
       "      <td>0.0</td>\n",
       "      <td>...</td>\n",
       "      <td>0.0</td>\n",
       "      <td>0.0</td>\n",
       "      <td>0.0</td>\n",
       "      <td>0.0</td>\n",
       "      <td>3.0</td>\n",
       "      <td>3.0</td>\n",
       "      <td>0.0</td>\n",
       "      <td>0.0</td>\n",
       "      <td>0.0</td>\n",
       "      <td>4.0</td>\n",
       "    </tr>\n",
       "    <tr>\n",
       "      <th>4</th>\n",
       "      <td>5.0</td>\n",
       "      <td>0.0</td>\n",
       "      <td>3.0</td>\n",
       "      <td>4.0</td>\n",
       "      <td>0.0</td>\n",
       "      <td>0.0</td>\n",
       "      <td>0.0</td>\n",
       "      <td>3.0</td>\n",
       "      <td>0.0</td>\n",
       "      <td>5.0</td>\n",
       "      <td>...</td>\n",
       "      <td>0.0</td>\n",
       "      <td>0.0</td>\n",
       "      <td>0.0</td>\n",
       "      <td>0.0</td>\n",
       "      <td>3.0</td>\n",
       "      <td>0.0</td>\n",
       "      <td>5.0</td>\n",
       "      <td>0.0</td>\n",
       "      <td>5.0</td>\n",
       "      <td>5.0</td>\n",
       "    </tr>\n",
       "    <tr>\n",
       "      <th>5</th>\n",
       "      <td>0.0</td>\n",
       "      <td>5.0</td>\n",
       "      <td>0.0</td>\n",
       "      <td>4.0</td>\n",
       "      <td>0.0</td>\n",
       "      <td>0.0</td>\n",
       "      <td>3.0</td>\n",
       "      <td>3.0</td>\n",
       "      <td>5.0</td>\n",
       "      <td>5.0</td>\n",
       "      <td>...</td>\n",
       "      <td>0.0</td>\n",
       "      <td>0.0</td>\n",
       "      <td>0.0</td>\n",
       "      <td>0.0</td>\n",
       "      <td>3.0</td>\n",
       "      <td>2.0</td>\n",
       "      <td>4.0</td>\n",
       "      <td>0.0</td>\n",
       "      <td>0.0</td>\n",
       "      <td>0.0</td>\n",
       "    </tr>\n",
       "  </tbody>\n",
       "</table>\n",
       "<p>5 rows × 53424 columns</p>\n",
       "</div>"
      ],
      "text/plain": [
       "user_id  1      2      3      4      5      6      7      8      9      10     \\\n",
       "book_id                                                                         \n",
       "1          0.0    0.0    0.0    0.0    0.0    0.0    0.0    0.0    4.0    0.0   \n",
       "2          0.0    5.0    0.0    5.0    0.0    0.0    0.0    0.0    4.0    0.0   \n",
       "3          0.0    0.0    0.0    0.0    0.0    0.0    0.0    0.0    4.0    0.0   \n",
       "4          5.0    0.0    3.0    4.0    0.0    0.0    0.0    3.0    0.0    5.0   \n",
       "5          0.0    5.0    0.0    4.0    0.0    0.0    3.0    3.0    5.0    5.0   \n",
       "\n",
       "user_id  ...  53415  53416  53417  53418  53419  53420  53421  53422  53423  \\\n",
       "book_id  ...                                                                  \n",
       "1        ...    0.0    0.0    4.0    5.0    4.0    4.0    4.0    4.0    4.0   \n",
       "2        ...    0.0    0.0    0.0    0.0    5.0    5.0    5.0    5.0    5.0   \n",
       "3        ...    0.0    0.0    0.0    0.0    3.0    3.0    0.0    0.0    0.0   \n",
       "4        ...    0.0    0.0    0.0    0.0    3.0    0.0    5.0    0.0    5.0   \n",
       "5        ...    0.0    0.0    0.0    0.0    3.0    2.0    4.0    0.0    0.0   \n",
       "\n",
       "user_id  53424  \n",
       "book_id         \n",
       "1          4.0  \n",
       "2          5.0  \n",
       "3          4.0  \n",
       "4          5.0  \n",
       "5          0.0  \n",
       "\n",
       "[5 rows x 53424 columns]"
      ]
     },
     "execution_count": 128,
     "metadata": {},
     "output_type": "execute_result"
    }
   ],
   "source": [
    "df_books_pivot = data.pivot_table(\n",
    "    index = 'book_id',\n",
    "    columns = 'user_id',\n",
    "    values = 'rating'\n",
    ").fillna(0)\n",
    "\n",
    "df_books_pivot.head()"
   ]
  },
  {
   "cell_type": "markdown",
   "metadata": {},
   "source": [
    "### __Books Matrix__"
   ]
  },
  {
   "cell_type": "code",
   "execution_count": 129,
   "metadata": {},
   "outputs": [
    {
     "data": {
      "text/plain": [
       "<7860x53424 sparse matrix of type '<class 'numpy.float64'>'\n",
       "\twith 5311817 stored elements in Compressed Sparse Row format>"
      ]
     },
     "execution_count": 129,
     "metadata": {},
     "output_type": "execute_result"
    }
   ],
   "source": [
    "books_matrix = csr_matrix(df_books_pivot.values)\n",
    "books_matrix"
   ]
  },
  {
   "cell_type": "markdown",
   "metadata": {},
   "source": [
    "### __Fitting Model__"
   ]
  },
  {
   "cell_type": "code",
   "execution_count": 130,
   "metadata": {},
   "outputs": [
    {
     "data": {
      "text/plain": [
       "NearestNeighbors(algorithm='brute', leaf_size=30, metric='cosine',\n",
       "                 metric_params=None, n_jobs=None, n_neighbors=5, p=2,\n",
       "                 radius=1.0)"
      ]
     },
     "execution_count": 130,
     "metadata": {},
     "output_type": "execute_result"
    }
   ],
   "source": [
    "model = NearestNeighbors(metric='cosine', algorithm = 'brute')\n",
    "model.fit(books_matrix)"
   ]
  },
  {
   "cell_type": "markdown",
   "metadata": {},
   "source": [
    "### __Books Recommendation__"
   ]
  },
  {
   "cell_type": "code",
   "execution_count": 131,
   "metadata": {},
   "outputs": [
    {
     "name": "stdout",
     "output_type": "stream",
     "text": [
      "Recommendation for '1984': \n",
      "\n",
      "1:'Animal Farm', with distance: 0.3762475332180262\n",
      "2:'Brave New World', with distance: 0.45165522382215095\n",
      "3:'The Catcher in the Rye', with distance: 0.49928746712658556\n",
      "4:'Lord of the Flies', with distance: 0.500618429037635\n",
      "5:'The Great Gatsby', with distance: 0.5107401410708425\n",
      "6:'Fahrenheit 451', with distance: 0.5128631621080401\n",
      "7:'To Kill a Mockingbird', with distance: 0.5265295205752978\n",
      "8:'The Hobbit', with distance: 0.5456965200617052\n",
      "9:'Slaughterhouse-Five', with distance: 0.5562633309155776\n",
      "10:'Of Mice and Men', with distance: 0.5598998327007454\n"
     ]
    }
   ],
   "source": [
    "book = '1984'\n",
    "item_id = int(pd.DataFrame(data['book_id'][data['title'] == book]).iloc[0])\n",
    "\n",
    "jarak, indeks = model.kneighbors(df_books_pivot.loc[item_id,:].values.reshape(1,-1), n_neighbors=11)\n",
    "\n",
    "for i in range(0, len(jarak.flatten())):\n",
    "    if i==0:\n",
    "        print(\"Recommendation for '{0}': \\n\".format(data[data['book_id'] == item_id]['title'].tolist()[0]))\n",
    "    else:\n",
    "        print(\"{0}:'{1}', with distance: {2}\".format(i, \n",
    "                                                   data[data['book_id'] == df_books_pivot.index[indeks.flatten()[i]]]['title'].iloc[0],\n",
    "                                                   jarak.flatten()[i]\n",
    "                                                  ))"
   ]
  },
  {
   "cell_type": "code",
   "execution_count": null,
   "metadata": {},
   "outputs": [],
   "source": []
  }
 ],
 "metadata": {
  "kernelspec": {
   "display_name": "Python 3",
   "language": "python",
   "name": "python3"
  },
  "language_info": {
   "codemirror_mode": {
    "name": "ipython",
    "version": 3
   },
   "file_extension": ".py",
   "mimetype": "text/x-python",
   "name": "python",
   "nbconvert_exporter": "python",
   "pygments_lexer": "ipython3",
   "version": "3.7.6"
  }
 },
 "nbformat": 4,
 "nbformat_minor": 4
}
